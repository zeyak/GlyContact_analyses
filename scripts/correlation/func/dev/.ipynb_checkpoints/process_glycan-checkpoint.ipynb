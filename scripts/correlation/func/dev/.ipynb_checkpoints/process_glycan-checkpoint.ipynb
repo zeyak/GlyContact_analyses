{
 "cells": [
  {
   "cell_type": "code",
   "id": "initial_id",
   "metadata": {
    "collapsed": true,
    "ExecuteTime": {
     "end_time": "2024-12-16T14:58:53.895360Z",
     "start_time": "2024-12-16T14:58:53.892950Z"
    }
   },
   "source": [
    "import pickle\n",
    "import pandas as pd\n",
    "import networkx as nx\n",
    "from glycowork.motif.draw import GlycoDraw\n",
    "from glycowork.motif.graph import  glycan_to_nxGraph\n",
    "from glycowork.motif.graph import  subgraph_isomorphism\n"
   ],
   "outputs": [],
   "execution_count": 28
  },
  {
   "metadata": {
    "ExecuteTime": {
     "end_time": "2024-12-16T15:30:17.934467Z",
     "start_time": "2024-12-16T15:30:17.911464Z"
    }
   },
   "cell_type": "code",
   "source": [
    "flex_data_path = '/Users/xakdze/PycharmProjects/GlyContact_analyses/data/glycan_graphs.pkl'\n",
    "\n",
    "def load_data():\n",
    "    \"\"\"Load glycan flexibility data and binding data.\"\"\"\n",
    "    with open(flex_data_path, 'rb') as file:\n",
    "        flex_data = pickle.load(file)\n",
    "    # binding_df = pd.read_csv(flex_data_path)\n",
    "    return flex_data\n",
    "flex_data = load_data()"
   ],
   "id": "da13418942459c81",
   "outputs": [],
   "execution_count": 46
  },
  {
   "metadata": {
    "ExecuteTime": {
     "end_time": "2024-12-16T15:30:18.333721Z",
     "start_time": "2024-12-16T15:30:18.328042Z"
    }
   },
   "cell_type": "code",
   "source": [
    "def map_daniel_to_luc_graph(matched_glycan, flex_data, daniel_selected_nodes):\n",
    "    \"\"\"\n",
    "    Map selected nodes from a Daniel graph to a corresponding Luc graph based on a predefined mapping.\n",
    "    \"\"\"\n",
    "    daniel_graph = glycan_to_nxGraph(matched_glycan)\n",
    "    luc_graph = flex_data.get(matched_glycan)\n",
    "\n",
    "    # Define the mapping logic between Daniel and Luc graphs\n",
    "    def create_mapping():\n",
    "        if len(daniel_graph.nodes) % 2 == 1:\n",
    "            dan_max = len(daniel_graph.nodes)\n",
    "            luc_max = len(luc_graph.nodes)\n",
    "            map_dict = dict(zip(range(0, dan_max, 2), range(luc_max, 0, -1)))\n",
    "        else:\n",
    "            dan_max = len(daniel_graph.nodes) - 1\n",
    "            luc_max = len(luc_graph.nodes)\n",
    "            map_dict = dict(zip(range(0, dan_max, 2), range(luc_max, 0, -1)))\n",
    "        return map_dict\n",
    "    # Generate the mapping dictionary\n",
    "    map_dict = create_mapping()\n",
    "\n",
    "    # Map the selected nodes from the Daniel graph to the Luc graph\n",
    "    luc_selected_nodes = []\n",
    "    for node in daniel_selected_nodes:\n",
    "        if node in map_dict:\n",
    "            luc_selected_nodes.append(map_dict[node])\n",
    "\n",
    "    return luc_selected_nodes"
   ],
   "id": "fac797e1eca30992",
   "outputs": [],
   "execution_count": 47
  },
  {
   "metadata": {
    "ExecuteTime": {
     "end_time": "2024-12-16T15:30:18.968673Z",
     "start_time": "2024-12-16T15:30:18.957685Z"
    }
   },
   "cell_type": "code",
   "source": [
    "#def process_glycan_with_motifs(\n",
    "matched_glycan= \"Fuc(a1-2)Gal(b1-4)[Fuc(a1-3)]GlcNAc(b1-3)[Fuc(a1-3)[Gal(b1-4)]GlcNAc(b1-6)]Gal(b1-4)Glc\"\n",
    "properties= {'motif': ['Fuc'], 'termini_list': [['t']]}\n",
    "flex_data=  load_data()\n",
    "\n",
    "\"\"\"\n",
    "Process a glycan string to find nodes matching binding motifs and calculate metrics.\n",
    "Handles both single and multiple binding motifs.\n",
    "\"\"\"\n",
    "matching_monosaccharides, sasa_weighted, flexibility_weighted, found_motifs = [], [], [], []\n",
    "\n",
    "motifs = properties[\"motif\"]\n",
    "termini_list = properties[\"termini_list\"]\n",
    "\n",
    "for motif, termini in zip(motifs, termini_list):\n",
    "\n",
    "# Perform subgraph isomorphism\n",
    "    is_present, matched_nodes = subgraph_isomorphism(\n",
    "        matched_glycan, motif,\n",
    "        return_matches=True,\n",
    "        termini_list=termini\n",
    "    )\n",
    "    print(f\"subgraph isomorphism: matched_nodes: {matched_nodes}\")\n",
    "    if not is_present:\n",
    "        continue\n",
    "\n",
    "\n",
    "    found_motifs.append(motif)\n",
    "    print(\"\")\n",
    "    print(f\"matched_glycan: {matched_glycan}\")\n",
    "    print(f\"Processing motif: {motif}\")\n",
    "\n",
    "    matched_nodes = [node for sublist in matched_nodes for node in sublist] \\\n",
    "        if isinstance(matched_nodes[0], list) else matched_nodes\n",
    "\n",
    "\n",
    "print(f\"matched_nodes: {matched_nodes}\")"
   ],
   "id": "a62cc0f6dbf92d26",
   "outputs": [
    {
     "name": "stdout",
     "output_type": "stream",
     "text": [
      "subgraph isomorphism: matched_nodes: [[0], [4], [8]]\n",
      "\n",
      "matched_glycan: Fuc(a1-2)Gal(b1-4)[Fuc(a1-3)]GlcNAc(b1-3)[Fuc(a1-3)[Gal(b1-4)]GlcNAc(b1-6)]Gal(b1-4)Glc\n",
      "Processing motif: Fuc\n",
      "matched_nodes: [0, 4, 8]\n"
     ]
    }
   ],
   "execution_count": 48
  },
  {
   "metadata": {
    "ExecuteTime": {
     "end_time": "2024-12-16T15:30:19.776816Z",
     "start_time": "2024-12-16T15:30:19.771827Z"
    }
   },
   "cell_type": "code",
   "source": [
    "matched_mono = [matched_nodes[index] for index in range(0, len(matched_nodes), 2)]\n",
    "print(f\"matched_mono: {matched_mono}\")\n",
    "\n",
    "selected_mono = map_daniel_to_luc_graph(matched_glycan, flex_data, matched_mono)\n",
    "\n",
    "selected_mono = map_daniel_to_luc_graph(matched_glycan, flex_data, matched_nodes)\n",
    "print(f\"selected_mono: {selected_mono}\")\n",
    "\n",
    "\n",
    "# Extract attributes from graph nodes\n",
    "graph = flex_data.get(matched_glycan)\n",
    "if graph and hasattr(graph, \"nodes\"):\n",
    "    #print(f\"graph.nodes: {graph.nodes}\")\n",
    "    #print(f\"graph.attributes: {graph.nodes(data=True)}\")\n",
    "    for mono in selected_mono:\n",
    "        try:\n",
    "            attributes = graph.nodes[mono]\n",
    "            matching_monosaccharides.append(attributes.get(\"Monosaccharide\", 0))\n",
    "            sasa_weighted.append(attributes.get(\"Weighted Score\", 0))\n",
    "            flexibility_weighted.append(attributes.get(\"weighted_mean_flexibility\", 0))\n",
    "            print(f\"matching_monosaccharides: {matching_monosaccharides}\")\n",
    "            print(f\"mono attributes: {attributes}\")\n",
    "        except Exception as e:\n",
    "            print(f\"Error extracting attributes for node {mono} in glycan {matched_glycan}: {e}\")\n"
   ],
   "id": "841851d454f99642",
   "outputs": [
    {
     "name": "stdout",
     "output_type": "stream",
     "text": [
      "matched_mono: [0, 8]\n",
      "selected_mono: [10, 8, 6]\n",
      "matching_monosaccharides: ['Fuc(a1-3)']\n",
      "mono attributes: {'Monosaccharide': 'Fuc(a1-3)', 'Mean Score': 1.8676189828198404, 'Median Score': 1.8176706893136725, 'Weighted Score': 1.9261586474572951, 'weighted_mean_flexibility': 16.641286591340865}\n",
      "matching_monosaccharides: ['Fuc(a1-3)', 'Gal(b1-4)']\n",
      "mono attributes: {'Monosaccharide': 'Gal(b1-4)', 'Mean Score': 1.7647929069120436, 'Median Score': 1.7578037350904197, 'Weighted Score': 1.7861381799561076, 'weighted_mean_flexibility': 15.575945445455453}\n",
      "matching_monosaccharides: ['Fuc(a1-3)', 'Gal(b1-4)', 'Fuc(a1-3)']\n",
      "mono attributes: {'Monosaccharide': 'Fuc(a1-3)', 'Mean Score': 1.81364550429862, 'Median Score': 1.891440232633613, 'Weighted Score': 1.8669023368021382, 'weighted_mean_flexibility': 22.883701009899013}\n"
     ]
    }
   ],
   "execution_count": 49
  },
  {
   "metadata": {
    "ExecuteTime": {
     "end_time": "2024-12-16T15:04:02.955179Z",
     "start_time": "2024-12-16T15:04:02.893598Z"
    }
   },
   "cell_type": "code",
   "source": [
    "fuc_3 = glycan_to_nxGraph('Fuc(a1-2)Gal(b1-4)[Fuc(a1-3)]GlcNAc(b1-3)[Fuc(a1-3)[Gal(b1-4)]GlcNAc(b1-6)]Gal(b1-4)Glc')\n",
    "nx.draw(fuc_3, with_labels=True)"
   ],
   "id": "e5f00350421aa51a",
   "outputs": [
    {
     "data": {
      "text/plain": [
       "<Figure size 640x480 with 1 Axes>"
      ],
      "image/png": "[encoded data removed]"
     },
     "metadata": {},
     "output_type": "display_data"
    }
   ],
   "execution_count": 37
  },
  {
   "metadata": {
    "ExecuteTime": {
     "end_time": "2024-12-16T14:58:58.732110Z",
     "start_time": "2024-12-16T14:58:58.723143Z"
    }
   },
   "cell_type": "code",
   "source": "GlycoDraw('Fuc(a1-2)Gal(b1-4)[Fuc(a1-3)]GlcNAc(b1-3)[Fuc(a1-3)[Gal(b1-4)]GlcNAc(b1-6)]Gal(b1-4)Glc', highlight_motif='Fuc')",
   "id": "8f79a5ffd55efa89",
   "outputs": [
    {
     "data": {
      "text/plain": [
       "<drawsvg.drawing.Drawing at 0x321074e60>"
      ],
      "image/svg+xml": "<?xml version=\"1.0\" encoding=\"UTF-8\"?>\n<svg xmlns=\"http://www.w3.org/2000/svg\" xmlns:xlink=\"http://www.w3.org/1999/xlink\"\n     width=\"400\" height=\"510\" viewBox=\"-350.0 -305.0 400 510\">\n<defs>\n<path d=\"M-100,-100.0 L0,-100.0\" stroke-width=\"4.0\" stroke=\"#D9D9D9\" id=\"AzkxJaTc0\" />\n<path d=\"M-200,0 L-100,-100.0\" stroke-width=\"4.0\" stroke=\"#D9D9D9\" id=\"AzkxJaTc1\" />\n<path d=\"M-300,0 L-200,0\" stroke-width=\"4.0\" stroke=\"#D9D9D9\" id=\"AzkxJaTc2\" />\n<path d=\"M-300,100 L-300,0\" stroke-width=\"4.0\" stroke=\"#D9D9D9\" id=\"AzkxJaTc3\" />\n<path d=\"M-200,-100 L-200,-200\" stroke-width=\"4.0\" stroke=\"#D9D9D9\" id=\"AzkxJaTc4\" />\n<path d=\"M-200,100 L-200,0\" stroke-width=\"4.0\" stroke=\"#D9D9D9\" id=\"AzkxJaTc5\" />\n<path d=\"M-200,-200 L-100,-100.0\" stroke-width=\"4.0\" stroke=\"#D9D9D9\" id=\"AzkxJaTc6\" />\n<path d=\"M-300,-200 L-200,-200\" stroke-width=\"4.0\" stroke=\"#D9D9D9\" id=\"AzkxJaTc7\" />\n<path d=\"M-50,-75.0 L50,-75.0\" stroke-width=\"0\" id=\"AzkxJaTc8\" />\n<path d=\"M-50,-100.0 L50,-100.0\" stroke-width=\"0\" id=\"AzkxJaTc9\" />\n<path d=\"M-150,-75.0 L-50,-75.0\" stroke-width=\"0\" id=\"AzkxJaTc10\" />\n<path d=\"M-150,-100.0 L-50,-100.0\" stroke-width=\"0\" id=\"AzkxJaTc11\" />\n<path d=\"M-250,25.0 L-150,25.0\" stroke-width=\"0\" id=\"AzkxJaTc12\" />\n<path d=\"M-250,0 L-150,0\" stroke-width=\"0\" id=\"AzkxJaTc13\" />\n<path d=\"M-350,25.0 L-250,25.0\" stroke-width=\"0\" id=\"AzkxJaTc14\" />\n<path d=\"M-350,0 L-250,0\" stroke-width=\"0\" id=\"AzkxJaTc15\" />\n<path d=\"M-350,125.0 L-250,125.0\" stroke-width=\"0\" id=\"AzkxJaTc16\" />\n<path d=\"M-350,100 L-250,100\" stroke-width=\"0\" id=\"AzkxJaTc17\" />\n<path d=\"M-250,125.0 L-150,125.0\" stroke-width=\"0\" id=\"AzkxJaTc18\" />\n<path d=\"M-250,100 L-150,100\" stroke-width=\"0\" id=\"AzkxJaTc19\" />\n<path d=\"M-250,-175.0 L-150,-175.0\" stroke-width=\"0\" id=\"AzkxJaTc20\" />\n<path d=\"M-250,-200 L-150,-200\" stroke-width=\"0\" id=\"AzkxJaTc21\" />\n<path d=\"M-250,-75.0 L-150,-75.0\" stroke-width=\"0\" id=\"AzkxJaTc22\" />\n<path d=\"M-250,-100 L-150,-100\" stroke-width=\"0\" id=\"AzkxJaTc23\" />\n<path d=\"M-350,-175.0 L-250,-175.0\" stroke-width=\"0\" id=\"AzkxJaTc24\" />\n<path d=\"M-350,-200 L-250,-200\" stroke-width=\"0\" id=\"AzkxJaTc25\" />\n</defs>\n<g transform=\"rotate(0 -150.0 -50.0)\">\n<use xlink:href=\"#AzkxJaTc0\" />\n<text font-size=\"20.0\" text-anchor=\"middle\" fill=\"#D9D9D9\" valign=\"middle\"><textPath xlink:href=\"#AzkxJaTc0\" startOffset=\"50%\">\n<tspan dy=\"-0.5em\">β 4</tspan>\n</textPath></text>\n<use xlink:href=\"#AzkxJaTc1\" />\n<text font-size=\"20.0\" text-anchor=\"middle\" fill=\"#D9D9D9\" valign=\"middle\"><textPath xlink:href=\"#AzkxJaTc1\" startOffset=\"50%\">\n<tspan dy=\"-0.5em\">β 3</tspan>\n</textPath></text>\n<use xlink:href=\"#AzkxJaTc2\" />\n<text font-size=\"20.0\" text-anchor=\"middle\" fill=\"#D9D9D9\" valign=\"middle\"><textPath xlink:href=\"#AzkxJaTc2\" startOffset=\"50%\">\n<tspan dy=\"-0.5em\">β 4</tspan>\n</textPath></text>\n<use xlink:href=\"#AzkxJaTc3\" />\n<text font-size=\"20.0\" text-anchor=\"middle\" fill=\"#D9D9D9\" valign=\"middle\"><textPath xlink:href=\"#AzkxJaTc3\" startOffset=\"50%\">\n<tspan dy=\"-0.5em\">α 2</tspan>\n</textPath></text>\n<use xlink:href=\"#AzkxJaTc4\" />\n<text font-size=\"20.0\" text-anchor=\"middle\" fill=\"#D9D9D9\" valign=\"middle\"><textPath xlink:href=\"#AzkxJaTc4\" startOffset=\"50%\">\n<tspan dy=\"-0.5em\">α 3</tspan>\n</textPath></text>\n<use xlink:href=\"#AzkxJaTc5\" />\n<text font-size=\"20.0\" text-anchor=\"middle\" fill=\"#D9D9D9\" valign=\"middle\"><textPath xlink:href=\"#AzkxJaTc5\" startOffset=\"50%\">\n<tspan dy=\"-0.5em\">α 3</tspan>\n</textPath></text>\n<use xlink:href=\"#AzkxJaTc6\" />\n<text font-size=\"20.0\" text-anchor=\"middle\" fill=\"#D9D9D9\" valign=\"middle\"><textPath xlink:href=\"#AzkxJaTc6\" startOffset=\"50%\">\n<tspan dy=\"-0.5em\">β 6</tspan>\n</textPath></text>\n<use xlink:href=\"#AzkxJaTc7\" />\n<text font-size=\"20.0\" text-anchor=\"middle\" fill=\"#D9D9D9\" valign=\"middle\"><textPath xlink:href=\"#AzkxJaTc7\" startOffset=\"50%\">\n<tspan dy=\"-0.5em\">β 4</tspan>\n</textPath></text>\n<circle cx=\"0\" cy=\"-100.0\" r=\"25.0\" fill=\"#CDE7EF\" stroke-width=\"2.0\" stroke=\"#D9D9D9\" />\n<use xlink:href=\"#AzkxJaTc8\" />\n<text font-size=\"17.5\" fill=\"#D9D9D9\" text-anchor=\"middle\"><textPath xlink:href=\"#AzkxJaTc8\" startOffset=\"50%\"></textPath></text>\n<use xlink:href=\"#AzkxJaTc9\" />\n<text font-size=\"15.0\" fill=\"#D9D9D9\" text-anchor=\"middle\"><textPath xlink:href=\"#AzkxJaTc9\" startOffset=\"50%\"></textPath></text>\n<circle cx=\"-100\" cy=\"-100.0\" r=\"25.0\" fill=\"#FFF6DE\" stroke-width=\"2.0\" stroke=\"#D9D9D9\" />\n<use xlink:href=\"#AzkxJaTc10\" />\n<text font-size=\"17.5\" fill=\"#D9D9D9\" text-anchor=\"middle\"><textPath xlink:href=\"#AzkxJaTc10\" startOffset=\"50%\"></textPath></text>\n<use xlink:href=\"#AzkxJaTc11\" />\n<text font-size=\"15.0\" fill=\"#D9D9D9\" text-anchor=\"middle\"><textPath xlink:href=\"#AzkxJaTc11\" startOffset=\"50%\"></textPath></text>\n<rect x=\"-225.0\" y=\"-25.0\" width=\"50\" height=\"50\" fill=\"#CDE7EF\" stroke-width=\"2.0\" stroke=\"#D9D9D9\" />\n<use xlink:href=\"#AzkxJaTc12\" />\n<text font-size=\"17.5\" fill=\"#D9D9D9\" text-anchor=\"middle\"><textPath xlink:href=\"#AzkxJaTc12\" startOffset=\"50%\"></textPath></text>\n<use xlink:href=\"#AzkxJaTc13\" />\n<text font-size=\"15.0\" fill=\"#D9D9D9\" text-anchor=\"middle\"><textPath xlink:href=\"#AzkxJaTc13\" startOffset=\"50%\"></textPath></text>\n<circle cx=\"-300\" cy=\"0\" r=\"25.0\" fill=\"#FFF6DE\" stroke-width=\"2.0\" stroke=\"#D9D9D9\" />\n<use xlink:href=\"#AzkxJaTc14\" />\n<text font-size=\"17.5\" fill=\"#D9D9D9\" text-anchor=\"middle\"><textPath xlink:href=\"#AzkxJaTc14\" startOffset=\"50%\"></textPath></text>\n<use xlink:href=\"#AzkxJaTc15\" />\n<text font-size=\"15.0\" fill=\"#D9D9D9\" text-anchor=\"middle\"><textPath xlink:href=\"#AzkxJaTc15\" startOffset=\"50%\"></textPath></text>\n<path d=\"M-325.0,121.65063509461096 L-300,78.34936490538904 L-275.0,121.65063509461096 Z\" fill=\"#C23537\" stroke=\"#000000\" stroke-width=\"2.0\" />\n<use xlink:href=\"#AzkxJaTc16\" />\n<text font-size=\"17.5\" text-anchor=\"middle\"><textPath xlink:href=\"#AzkxJaTc16\" startOffset=\"50%\"></textPath></text>\n<use xlink:href=\"#AzkxJaTc17\" />\n<text font-size=\"15.0\" fill=\"#000000\" text-anchor=\"middle\"><textPath xlink:href=\"#AzkxJaTc17\" startOffset=\"50%\"></textPath></text>\n<path d=\"M-225.0,121.65063509461096 L-200,78.34936490538904 L-175.0,121.65063509461096 Z\" fill=\"#C23537\" stroke=\"#000000\" stroke-width=\"2.0\" />\n<use xlink:href=\"#AzkxJaTc18\" />\n<text font-size=\"17.5\" text-anchor=\"middle\"><textPath xlink:href=\"#AzkxJaTc18\" startOffset=\"50%\"></textPath></text>\n<use xlink:href=\"#AzkxJaTc19\" />\n<text font-size=\"15.0\" fill=\"#000000\" text-anchor=\"middle\"><textPath xlink:href=\"#AzkxJaTc19\" startOffset=\"50%\"></textPath></text>\n<rect x=\"-225.0\" y=\"-225.0\" width=\"50\" height=\"50\" fill=\"#CDE7EF\" stroke-width=\"2.0\" stroke=\"#D9D9D9\" />\n<use xlink:href=\"#AzkxJaTc20\" />\n<text font-size=\"17.5\" fill=\"#D9D9D9\" text-anchor=\"middle\"><textPath xlink:href=\"#AzkxJaTc20\" startOffset=\"50%\"></textPath></text>\n<use xlink:href=\"#AzkxJaTc21\" />\n<text font-size=\"15.0\" fill=\"#D9D9D9\" text-anchor=\"middle\"><textPath xlink:href=\"#AzkxJaTc21\" startOffset=\"50%\"></textPath></text>\n<path d=\"M-225.0,-78.34936490538904 L-200,-121.65063509461096 L-175.0,-78.34936490538904 Z\" fill=\"#C23537\" stroke=\"#000000\" stroke-width=\"2.0\" />\n<use xlink:href=\"#AzkxJaTc22\" />\n<text font-size=\"17.5\" text-anchor=\"middle\"><textPath xlink:href=\"#AzkxJaTc22\" startOffset=\"50%\"></textPath></text>\n<use xlink:href=\"#AzkxJaTc23\" />\n<text font-size=\"15.0\" fill=\"#000000\" text-anchor=\"middle\"><textPath xlink:href=\"#AzkxJaTc23\" startOffset=\"50%\"></textPath></text>\n<circle cx=\"-300\" cy=\"-200\" r=\"25.0\" fill=\"#FFF6DE\" stroke-width=\"2.0\" stroke=\"#D9D9D9\" />\n<use xlink:href=\"#AzkxJaTc24\" />\n<text font-size=\"17.5\" fill=\"#D9D9D9\" text-anchor=\"middle\"><textPath xlink:href=\"#AzkxJaTc24\" startOffset=\"50%\"></textPath></text>\n<use xlink:href=\"#AzkxJaTc25\" />\n<text font-size=\"15.0\" fill=\"#D9D9D9\" text-anchor=\"middle\"><textPath xlink:href=\"#AzkxJaTc25\" startOffset=\"50%\"></textPath></text>\n</g>\n</svg>"
     },
     "execution_count": 29,
     "metadata": {},
     "output_type": "execute_result"
    }
   ],
   "execution_count": 29
  },
  {
   "metadata": {},
   "cell_type": "code",
   "outputs": [],
   "execution_count": null,
   "source": "",
   "id": "69515bfbb4db6a13"
  }
 ],
 "metadata": {
  "kernelspec": {
   "display_name": "Python 3",
   "language": "python",
   "name": "python3"
  },
  "language_info": {
   "codemirror_mode": {
    "name": "ipython",
    "version": 2
   },
   "file_extension": ".py",
   "mimetype": "text/x-python",
   "name": "python",
   "nbconvert_exporter": "python",
   "pygments_lexer": "ipython2",
   "version": "2.7.6"
  }
 },
 "nbformat": 4,
 "nbformat_minor": 5
}
