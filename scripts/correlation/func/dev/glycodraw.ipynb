{
 "cells": [
  {
   "cell_type": "code",
   "id": "initial_id",
   "metadata": {
    "collapsed": true,
    "ExecuteTime": {
     "end_time": "2025-01-16T10:40:33.511298Z",
     "start_time": "2025-01-16T10:40:16.695448Z"
    }
   },
   "source": "from glycowork.motif.draw import GlycoDraw",
   "outputs": [],
   "execution_count": 1
  },
  {
   "metadata": {
    "ExecuteTime": {
     "end_time": "2025-01-16T10:40:33.538243Z",
     "start_time": "2025-01-16T10:40:33.525072Z"
    }
   },
   "cell_type": "code",
   "source": [
    "GlycoDraw(\"Gal(b1-3)GalNAc(b1-4)Gal(b1-4)Glc\", highlight_motif = \"Gal(b1-3)GalNAc\")\n",
    "GlycoDraw(\"Fuc(a1-2)Gal(b1-3)GlcNAc\", highlight_motif = \"Fuc\")\n",
    "GlycoDraw(\"Gal(b1-4)GlcNAc(b1-2)Man(a1-3)[GlcNAc(b1-2)Man(a1-6)]Man(b1-4)GlcNAc(b1-4)GlcNAc\")\n"
   ],
   "id": "e5b377d002a338fc",
   "outputs": [
    {
     "data": {
      "text/plain": [
       "<drawsvg.drawing.Drawing at 0x131973cb0>"
      ],
      "image/svg+xml": "<?xml version=\"1.0\" encoding=\"UTF-8\"?>\n<svg xmlns=\"http://www.w3.org/2000/svg\" xmlns:xlink=\"http://www.w3.org/1999/xlink\"\n     width=\"600\" height=\"310\" viewBox=\"-550.0 -205.0 600 310\">\n<defs>\n<path d=\"M-100,-50.0 L0,-50.0\" stroke-width=\"4.0\" stroke=\"#000000\" id=\"Y7En5rwf0\" />\n<path d=\"M-200,-50.0 L-100,-50.0\" stroke-width=\"4.0\" stroke=\"#000000\" id=\"Y7En5rwf1\" />\n<path d=\"M-300,0 L-200,-50.0\" stroke-width=\"4.0\" stroke=\"#000000\" id=\"Y7En5rwf2\" />\n<path d=\"M-400,0 L-300,0\" stroke-width=\"4.0\" stroke=\"#000000\" id=\"Y7En5rwf3\" />\n<path d=\"M-500,0 L-400,0\" stroke-width=\"4.0\" stroke=\"#000000\" id=\"Y7En5rwf4\" />\n<path d=\"M-400,-100 L-300,-100\" stroke-width=\"4.0\" stroke=\"#000000\" id=\"Y7En5rwf5\" />\n<path d=\"M-300,-100 L-200,-50.0\" stroke-width=\"4.0\" stroke=\"#000000\" id=\"Y7En5rwf6\" />\n<path d=\"M-50,-25.0 L50,-25.0\" stroke-width=\"0\" id=\"Y7En5rwf7\" />\n<path d=\"M-150,-25.0 L-50,-25.0\" stroke-width=\"0\" id=\"Y7En5rwf8\" />\n<path d=\"M-250,-25.0 L-150,-25.0\" stroke-width=\"0\" id=\"Y7En5rwf9\" />\n<path d=\"M-350,25.0 L-250,25.0\" stroke-width=\"0\" id=\"Y7En5rwf10\" />\n<path d=\"M-450,25.0 L-350,25.0\" stroke-width=\"0\" id=\"Y7En5rwf11\" />\n<path d=\"M-550,25.0 L-450,25.0\" stroke-width=\"0\" id=\"Y7En5rwf12\" />\n<path d=\"M-350,-75.0 L-250,-75.0\" stroke-width=\"0\" id=\"Y7En5rwf13\" />\n<path d=\"M-450,-75.0 L-350,-75.0\" stroke-width=\"0\" id=\"Y7En5rwf14\" />\n</defs>\n<g transform=\"rotate(0 -250.0 -50.0)\">\n<use xlink:href=\"#Y7En5rwf0\" />\n<text font-size=\"20.0\" text-anchor=\"middle\" fill=\"#000000\" valign=\"middle\"><textPath xlink:href=\"#Y7En5rwf0\" startOffset=\"50%\">\n<tspan dy=\"-0.5em\">β 4</tspan>\n</textPath></text>\n<use xlink:href=\"#Y7En5rwf1\" />\n<text font-size=\"20.0\" text-anchor=\"middle\" fill=\"#000000\" valign=\"middle\"><textPath xlink:href=\"#Y7En5rwf1\" startOffset=\"50%\">\n<tspan dy=\"-0.5em\">β 4</tspan>\n</textPath></text>\n<use xlink:href=\"#Y7En5rwf2\" />\n<text font-size=\"20.0\" text-anchor=\"middle\" fill=\"#000000\" valign=\"middle\"><textPath xlink:href=\"#Y7En5rwf2\" startOffset=\"50%\">\n<tspan dy=\"-0.5em\">α 3</tspan>\n</textPath></text>\n<use xlink:href=\"#Y7En5rwf3\" />\n<text font-size=\"20.0\" text-anchor=\"middle\" fill=\"#000000\" valign=\"middle\"><textPath xlink:href=\"#Y7En5rwf3\" startOffset=\"50%\">\n<tspan dy=\"-0.5em\">β 2</tspan>\n</textPath></text>\n<use xlink:href=\"#Y7En5rwf4\" />\n<text font-size=\"20.0\" text-anchor=\"middle\" fill=\"#000000\" valign=\"middle\"><textPath xlink:href=\"#Y7En5rwf4\" startOffset=\"50%\">\n<tspan dy=\"-0.5em\">β 4</tspan>\n</textPath></text>\n<use xlink:href=\"#Y7En5rwf5\" />\n<text font-size=\"20.0\" text-anchor=\"middle\" fill=\"#000000\" valign=\"middle\"><textPath xlink:href=\"#Y7En5rwf5\" startOffset=\"50%\">\n<tspan dy=\"-0.5em\">β 2</tspan>\n</textPath></text>\n<use xlink:href=\"#Y7En5rwf6\" />\n<text font-size=\"20.0\" text-anchor=\"middle\" fill=\"#000000\" valign=\"middle\"><textPath xlink:href=\"#Y7En5rwf6\" startOffset=\"50%\">\n<tspan dy=\"-0.5em\">α 6</tspan>\n</textPath></text>\n<rect x=\"-25.0\" y=\"-75.0\" width=\"50\" height=\"50\" fill=\"#0385AE\" stroke-width=\"2.0\" stroke=\"#000000\" />\n<use xlink:href=\"#Y7En5rwf7\" />\n<text font-size=\"17.5\" fill=\"#000000\" text-anchor=\"middle\"><textPath xlink:href=\"#Y7En5rwf7\" startOffset=\"50%\"></textPath></text>\n<rect x=\"-125.0\" y=\"-75.0\" width=\"50\" height=\"50\" fill=\"#0385AE\" stroke-width=\"2.0\" stroke=\"#000000\" />\n<use xlink:href=\"#Y7En5rwf8\" />\n<text font-size=\"17.5\" fill=\"#000000\" text-anchor=\"middle\"><textPath xlink:href=\"#Y7En5rwf8\" startOffset=\"50%\"></textPath></text>\n<circle cx=\"-200\" cy=\"-50.0\" r=\"25.0\" fill=\"#058F60\" stroke-width=\"2.0\" stroke=\"#000000\" />\n<use xlink:href=\"#Y7En5rwf9\" />\n<text font-size=\"17.5\" fill=\"#000000\" text-anchor=\"middle\"><textPath xlink:href=\"#Y7En5rwf9\" startOffset=\"50%\"></textPath></text>\n<circle cx=\"-300\" cy=\"0\" r=\"25.0\" fill=\"#058F60\" stroke-width=\"2.0\" stroke=\"#000000\" />\n<use xlink:href=\"#Y7En5rwf10\" />\n<text font-size=\"17.5\" fill=\"#000000\" text-anchor=\"middle\"><textPath xlink:href=\"#Y7En5rwf10\" startOffset=\"50%\"></textPath></text>\n<rect x=\"-425.0\" y=\"-25.0\" width=\"50\" height=\"50\" fill=\"#0385AE\" stroke-width=\"2.0\" stroke=\"#000000\" />\n<use xlink:href=\"#Y7En5rwf11\" />\n<text font-size=\"17.5\" fill=\"#000000\" text-anchor=\"middle\"><textPath xlink:href=\"#Y7En5rwf11\" startOffset=\"50%\"></textPath></text>\n<circle cx=\"-500\" cy=\"0\" r=\"25.0\" fill=\"#FCC326\" stroke-width=\"2.0\" stroke=\"#000000\" />\n<use xlink:href=\"#Y7En5rwf12\" />\n<text font-size=\"17.5\" fill=\"#000000\" text-anchor=\"middle\"><textPath xlink:href=\"#Y7En5rwf12\" startOffset=\"50%\"></textPath></text>\n<circle cx=\"-300\" cy=\"-100\" r=\"25.0\" fill=\"#058F60\" stroke-width=\"2.0\" stroke=\"#000000\" />\n<use xlink:href=\"#Y7En5rwf13\" />\n<text font-size=\"17.5\" fill=\"#000000\" text-anchor=\"middle\"><textPath xlink:href=\"#Y7En5rwf13\" startOffset=\"50%\"></textPath></text>\n<rect x=\"-425.0\" y=\"-125.0\" width=\"50\" height=\"50\" fill=\"#0385AE\" stroke-width=\"2.0\" stroke=\"#000000\" />\n<use xlink:href=\"#Y7En5rwf14\" />\n<text font-size=\"17.5\" fill=\"#000000\" text-anchor=\"middle\"><textPath xlink:href=\"#Y7En5rwf14\" startOffset=\"50%\"></textPath></text>\n</g>\n</svg>"
     },
     "execution_count": 2,
     "metadata": {},
     "output_type": "execute_result"
    }
   ],
   "execution_count": 2
  },
  {
   "metadata": {
    "ExecuteTime": {
     "end_time": "2024-12-10T14:28:20.248720Z",
     "start_time": "2024-12-10T14:28:20.246195Z"
    }
   },
   "cell_type": "code",
   "source": "from glycowork.motif.graph import  glycan_to_nxGraph",
   "id": "78a4545ac3847c18",
   "outputs": [],
   "execution_count": 27
  },
  {
   "metadata": {
    "ExecuteTime": {
     "end_time": "2024-12-10T14:28:54.110107Z",
     "start_time": "2024-12-10T14:28:54.107471Z"
    }
   },
   "cell_type": "code",
   "source": "import pandas as pd",
   "id": "c8d41cc3d28bceaa",
   "outputs": [],
   "execution_count": 29
  },
  {
   "metadata": {
    "ExecuteTime": {
     "end_time": "2024-12-17T08:20:58.593027Z",
     "start_time": "2024-12-17T08:20:58.590991Z"
    }
   },
   "cell_type": "code",
   "source": [
    "flex_data_path = '/Users/xakdze/PycharmProjects/GlyContact_analyses/data/glycan_graphs.pkl'\n",
    "\n",
    "def load_data():\n",
    "    \"\"\"Load glycan flexibility data and binding data.\"\"\"\n",
    "    with open(flex_data_path, 'rb') as file:\n",
    "        flex_data = pickle.load(file)\n",
    "    # binding_df = pd.read_csv(flex_data_path)\n",
    "    return flex_data"
   ],
   "id": "a51042fd0d4f9374",
   "outputs": [],
   "execution_count": 17
  },
  {
   "metadata": {
    "ExecuteTime": {
     "end_time": "2024-12-17T08:20:59.086065Z",
     "start_time": "2024-12-17T08:20:59.084062Z"
    }
   },
   "cell_type": "code",
   "source": [
    "import pickle\n",
    "import networkx as nx"
   ],
   "id": "2fbfcdce1e5abeea",
   "outputs": [],
   "execution_count": 18
  },
  {
   "metadata": {
    "ExecuteTime": {
     "end_time": "2024-12-17T08:20:59.525596Z",
     "start_time": "2024-12-17T08:20:59.512119Z"
    }
   },
   "cell_type": "code",
   "source": "glycan_graphs =load_data()",
   "id": "5ba8f1ac408cae48",
   "outputs": [],
   "execution_count": 19
  },
  {
   "metadata": {
    "ExecuteTime": {
     "end_time": "2024-12-17T08:20:45.029960Z",
     "start_time": "2024-12-17T08:20:45.021469Z"
    }
   },
   "cell_type": "code",
   "source": "list(glycan_graphs['Fuc(a1-2)Gal(b1-3)GlcNAc'].nodes)",
   "id": "12ef63cdd803802",
   "outputs": [
    {
     "ename": "NameError",
     "evalue": "name 'glycan_graphs' is not defined",
     "output_type": "error",
     "traceback": [
      "\u001B[0;31m---------------------------------------------------------------------------\u001B[0m",
      "\u001B[0;31mNameError\u001B[0m                                 Traceback (most recent call last)",
      "Cell \u001B[0;32mIn[15], line 1\u001B[0m\n\u001B[0;32m----> 1\u001B[0m \u001B[38;5;28mlist\u001B[39m(glycan_graphs[\u001B[38;5;124m'\u001B[39m\u001B[38;5;124mFuc(a1-2)Gal(b1-3)GlcNAc\u001B[39m\u001B[38;5;124m'\u001B[39m]\u001B[38;5;241m.\u001B[39mnodes)\n",
      "\u001B[0;31mNameError\u001B[0m: name 'glycan_graphs' is not defined"
     ]
    }
   ],
   "execution_count": 15
  },
  {
   "metadata": {
    "ExecuteTime": {
     "end_time": "2024-12-17T08:20:45.700820Z",
     "start_time": "2024-12-17T08:20:45.691293Z"
    }
   },
   "cell_type": "code",
   "source": "luc_graph = glycan_graphs['Gal(b1-3)GalNAc(b1-4)Gal(b1-4)Glc'].copy()",
   "id": "ad550601e7c9f2a0",
   "outputs": [
    {
     "ename": "NameError",
     "evalue": "name 'glycan_graphs' is not defined",
     "output_type": "error",
     "traceback": [
      "\u001B[0;31m---------------------------------------------------------------------------\u001B[0m",
      "\u001B[0;31mNameError\u001B[0m                                 Traceback (most recent call last)",
      "Cell \u001B[0;32mIn[16], line 1\u001B[0m\n\u001B[0;32m----> 1\u001B[0m luc_graph \u001B[38;5;241m=\u001B[39m glycan_graphs[\u001B[38;5;124m'\u001B[39m\u001B[38;5;124mGal(b1-3)GalNAc(b1-4)Gal(b1-4)Glc\u001B[39m\u001B[38;5;124m'\u001B[39m]\u001B[38;5;241m.\u001B[39mcopy()\n",
      "\u001B[0;31mNameError\u001B[0m: name 'glycan_graphs' is not defined"
     ]
    }
   ],
   "execution_count": 16
  },
  {
   "metadata": {
    "ExecuteTime": {
     "end_time": "2024-12-10T14:55:01.595109Z",
     "start_time": "2024-12-10T14:55:01.591471Z"
    }
   },
   "cell_type": "code",
   "source": [
    "mygraph = glycan_to_nxGraph('Rha(a1-3)Rha(a1-2)Gal')\n",
    "oldgraph = glycan_graphs['Rha(a1-3)Rha(a1-2)Gal']\n",
    "if len(mygraph.nodes)%2 ==1:\n",
    "    new_max = len(mygraph.nodes)\n",
    "    old_max = len(oldgraph.nodes)\n",
    "    map_dict = dict(zip(range(0, new_max, 2),range(old_max,0,-1)))\n",
    "else:\n",
    "    new_max = len(mygraph.nodes)-1\n",
    "    old_max = len(oldgraph.nodes)\n",
    "    map_dict = dict(zip(range(0, new_max, 2),range(old_max,0,-1)))\n"
   ],
   "id": "c93f10dcfe27c848",
   "outputs": [],
   "execution_count": 78
  },
  {
   "metadata": {
    "ExecuteTime": {
     "end_time": "2024-12-10T14:56:15.599788Z",
     "start_time": "2024-12-10T14:56:15.596368Z"
    }
   },
   "cell_type": "code",
   "source": "dict(zip(range(0, new_max, 2),range(old_max,0,-1)))",
   "id": "69657f64809d7590",
   "outputs": [
    {
     "data": {
      "text/plain": [
       "{0: 4, 2: 3, 4: 2}"
      ]
     },
     "execution_count": 81,
     "metadata": {},
     "output_type": "execute_result"
    }
   ],
   "execution_count": 81
  },
  {
   "metadata": {
    "ExecuteTime": {
     "end_time": "2024-12-10T14:56:59.669963Z",
     "start_time": "2024-12-10T14:56:59.666780Z"
    }
   },
   "cell_type": "code",
   "source": [
    "def get_daniel_to_luc_graph_map(daniel_graph, luc_graph):\n",
    "    if len(daniel_graph.nodes)%2 ==1:\n",
    "        new_max = len(daniel_graph.nodes)\n",
    "        old_max = len(luc_graph.nodes)\n",
    "        map_dict = dict(zip(range(0, new_max, 2),range(old_max,0,-1)))\n",
    "    else:\n",
    "        new_max = len(daniel_graph.nodes)-1\n",
    "        old_max = len(luc_graph.nodes)\n",
    "        map_dict = dict(zip(range(0, new_max, 2),range(old_max,0,-1)))\n",
    "    return map_dict"
   ],
   "id": "c35ce4fd63eed18a",
   "outputs": [],
   "execution_count": 82
  },
  {
   "metadata": {
    "ExecuteTime": {
     "end_time": "2024-12-10T15:15:48.519125Z",
     "start_time": "2024-12-10T15:15:48.512830Z"
    }
   },
   "cell_type": "code",
   "source": [
    "d_graph = glycan_to_nxGraph('Fuc(a1-2)Gal(b1-3)GlcNAc')\n",
    "luc_graph = glycan_graphs['Fuc(a1-2)Gal(b1-3)GlcNAc']\n",
    "g_map = get_daniel_to_luc_graph_map(d_graph, luc_graph)\n",
    "g_map"
   ],
   "id": "277eb810e19f50ad",
   "outputs": [
    {
     "data": {
      "text/plain": [
       "{0: 4, 2: 3, 4: 2}"
      ]
     },
     "execution_count": 94,
     "metadata": {},
     "output_type": "execute_result"
    }
   ],
   "execution_count": 94
  },
  {
   "metadata": {
    "ExecuteTime": {
     "end_time": "2024-12-16T08:39:36.483127Z",
     "start_time": "2024-12-16T08:39:36.473985Z"
    }
   },
   "cell_type": "code",
   "source": [
    "d_graph = glycan_to_nxGraph('Fuc(a1-2)Gal(b1-4)[Fuc(a1-3)]GlcNAc')\n",
    "luc_graph = glycan_graphs['Fuc(a1-2)Gal(b1-4)[Fuc(a1-3)]GlcNAc']\n",
    "g_map = get_daniel_to_luc_graph_map(d_graph, luc_graph)\n",
    "g_map"
   ],
   "id": "c1e350fd32290a35",
   "outputs": [
    {
     "data": {
      "text/plain": [
       "{0: 5, 2: 4, 4: 3, 6: 2}"
      ]
     },
     "execution_count": 126,
     "metadata": {},
     "output_type": "execute_result"
    }
   ],
   "execution_count": 126
  },
  {
   "metadata": {
    "ExecuteTime": {
     "end_time": "2024-12-16T07:54:36.476965Z",
     "start_time": "2024-12-16T07:54:36.473835Z"
    }
   },
   "cell_type": "code",
   "source": [
    "#daniel_selected_nodes = [0, 2, 4,6]\n",
    "luc_selected_nodes = []\n",
    "for node in daniel_selected_nodes:\n",
    "    if node in g_map:\n",
    "        luc_selected_nodes.append(g_map[node])\n",
    "luc_selected_nodes"
   ],
   "id": "bfa9e5febdc791df",
   "outputs": [
    {
     "data": {
      "text/plain": [
       "[5, 4, 3, 2]"
      ]
     },
     "execution_count": 125,
     "metadata": {},
     "output_type": "execute_result"
    }
   ],
   "execution_count": 125
  },
  {
   "metadata": {
    "ExecuteTime": {
     "end_time": "2024-12-10T15:00:30.182998Z",
     "start_time": "2024-12-10T15:00:30.180928Z"
    }
   },
   "cell_type": "code",
   "source": "luc_graph.nodes[g_map[0]]",
   "id": "4a630e7b0ad182ac",
   "outputs": [
    {
     "data": {
      "text/plain": [
       "{'Monosaccharide': 'Fuc(a1-2)',\n",
       " 'Mean Score': 2.1199890089725764,\n",
       " 'Median Score': 2.1202326342463493,\n",
       " 'Weighted Score': 2.12907997324471,\n",
       " 'weighted_mean_flexibility': 0.6843510982235121}"
      ]
     },
     "execution_count": 93,
     "metadata": {},
     "output_type": "execute_result"
    }
   ],
   "execution_count": 93
  },
  {
   "metadata": {
    "ExecuteTime": {
     "end_time": "2024-12-15T15:59:16.682006Z",
     "start_time": "2024-12-15T15:59:16.677119Z"
    }
   },
   "cell_type": "code",
   "source": [
    "## alternative mapping func\n",
    "#d_graph = glycan_to_nxGraph('Fuc(a1-2)Gal(b1-3)GlcNAc')\n",
    "#luc_graph = glycan_graphs['Fuc(a1-2)Gal(b1-3)GlcNAc']\n",
    "d_graph =glycan_to_nxGraph('Fuc(a1-2)Gal(b1-4)[Fuc(a1-3)]GlcNAc')\n",
    "luc_graph = glycan_graphs['Fuc(a1-2)Gal(b1-4)[Fuc(a1-3)]GlcNAc']\n",
    "\n",
    "def create_mapping(daniel_graph, luc_graph):\n",
    "    node_count_daniel = len(daniel_graph.nodes)\n",
    "    node_count_luc = len(luc_graph.nodes)\n",
    "    if node_count_daniel % 2 == 1:\n",
    "        max_index = node_count_daniel\n",
    "    else:\n",
    "        max_index = node_count_daniel - 1\n",
    "    return dict(zip(range(0, max_index, 2), range(node_count_luc, 0, -1)))\n",
    "\n",
    "mapping = create_mapping(d_graph, luc_graph)\n",
    "mapping\n"
   ],
   "id": "4051c7e2e06f411b",
   "outputs": [
    {
     "data": {
      "text/plain": [
       "{0: 5, 2: 4, 4: 3, 6: 2}"
      ]
     },
     "execution_count": 120,
     "metadata": {},
     "output_type": "execute_result"
    }
   ],
   "execution_count": 120
  },
  {
   "metadata": {
    "ExecuteTime": {
     "end_time": "2024-12-15T15:22:29.776732Z",
     "start_time": "2024-12-15T15:22:29.772576Z"
    }
   },
   "cell_type": "code",
   "source": "GlycoDraw(\"Fuc(a1-2)Gal(b1-4)[Fuc(a1-3)]GlcNAc\", highlight_motif=\"Fuc\")",
   "id": "35311cb870c5a74c",
   "outputs": [
    {
     "data": {
      "text/plain": [
       "<drawsvg.drawing.Drawing at 0x31731e300>"
      ],
      "image/svg+xml": "<?xml version=\"1.0\" encoding=\"UTF-8\"?>\n<svg xmlns=\"http://www.w3.org/2000/svg\" xmlns:xlink=\"http://www.w3.org/1999/xlink\"\n     width=\"200\" height=\"310\" viewBox=\"-150.0 -105.0 200 310\">\n<defs>\n<path d=\"M-100,0 L0,0\" stroke-width=\"4.0\" stroke=\"#D9D9D9\" id=\"VbhJXgWr0\" />\n<path d=\"M-100,100 L-100,0\" stroke-width=\"4.0\" stroke=\"#D9D9D9\" id=\"VbhJXgWr1\" />\n<path d=\"M0,100 L0,0\" stroke-width=\"4.0\" stroke=\"#D9D9D9\" id=\"VbhJXgWr2\" />\n<path d=\"M-50,25.0 L50,25.0\" stroke-width=\"0\" id=\"VbhJXgWr3\" />\n<path d=\"M-50,0 L50,0\" stroke-width=\"0\" id=\"VbhJXgWr4\" />\n<path d=\"M-150,25.0 L-50,25.0\" stroke-width=\"0\" id=\"VbhJXgWr5\" />\n<path d=\"M-150,0 L-50,0\" stroke-width=\"0\" id=\"VbhJXgWr6\" />\n<path d=\"M-150,125.0 L-50,125.0\" stroke-width=\"0\" id=\"VbhJXgWr7\" />\n<path d=\"M-150,100 L-50,100\" stroke-width=\"0\" id=\"VbhJXgWr8\" />\n<path d=\"M-50,125.0 L50,125.0\" stroke-width=\"0\" id=\"VbhJXgWr9\" />\n<path d=\"M-50,100 L50,100\" stroke-width=\"0\" id=\"VbhJXgWr10\" />\n</defs>\n<g transform=\"rotate(0 -50.0 50.0)\">\n<use xlink:href=\"#VbhJXgWr0\" />\n<text font-size=\"20.0\" text-anchor=\"middle\" fill=\"#D9D9D9\" valign=\"middle\"><textPath xlink:href=\"#VbhJXgWr0\" startOffset=\"50%\">\n<tspan dy=\"-0.5em\">β 4</tspan>\n</textPath></text>\n<use xlink:href=\"#VbhJXgWr1\" />\n<text font-size=\"20.0\" text-anchor=\"middle\" fill=\"#D9D9D9\" valign=\"middle\"><textPath xlink:href=\"#VbhJXgWr1\" startOffset=\"50%\">\n<tspan dy=\"-0.5em\">α 2</tspan>\n</textPath></text>\n<use xlink:href=\"#VbhJXgWr2\" />\n<text font-size=\"20.0\" text-anchor=\"middle\" fill=\"#D9D9D9\" valign=\"middle\"><textPath xlink:href=\"#VbhJXgWr2\" startOffset=\"50%\">\n<tspan dy=\"-0.5em\">α 3</tspan>\n</textPath></text>\n<rect x=\"-25.0\" y=\"-25.0\" width=\"50\" height=\"50\" fill=\"#CDE7EF\" stroke-width=\"2.0\" stroke=\"#D9D9D9\" />\n<use xlink:href=\"#VbhJXgWr3\" />\n<text font-size=\"17.5\" fill=\"#D9D9D9\" text-anchor=\"middle\"><textPath xlink:href=\"#VbhJXgWr3\" startOffset=\"50%\"></textPath></text>\n<use xlink:href=\"#VbhJXgWr4\" />\n<text font-size=\"15.0\" fill=\"#D9D9D9\" text-anchor=\"middle\"><textPath xlink:href=\"#VbhJXgWr4\" startOffset=\"50%\"></textPath></text>\n<circle cx=\"-100\" cy=\"0\" r=\"25.0\" fill=\"#FFF6DE\" stroke-width=\"2.0\" stroke=\"#D9D9D9\" />\n<use xlink:href=\"#VbhJXgWr5\" />\n<text font-size=\"17.5\" fill=\"#D9D9D9\" text-anchor=\"middle\"><textPath xlink:href=\"#VbhJXgWr5\" startOffset=\"50%\"></textPath></text>\n<use xlink:href=\"#VbhJXgWr6\" />\n<text font-size=\"15.0\" fill=\"#D9D9D9\" text-anchor=\"middle\"><textPath xlink:href=\"#VbhJXgWr6\" startOffset=\"50%\"></textPath></text>\n<path d=\"M-125.0,121.65063509461096 L-100,78.34936490538904 L-75.0,121.65063509461096 Z\" fill=\"#C23537\" stroke=\"#000000\" stroke-width=\"2.0\" />\n<use xlink:href=\"#VbhJXgWr7\" />\n<text font-size=\"17.5\" text-anchor=\"middle\"><textPath xlink:href=\"#VbhJXgWr7\" startOffset=\"50%\"></textPath></text>\n<use xlink:href=\"#VbhJXgWr8\" />\n<text font-size=\"15.0\" fill=\"#000000\" text-anchor=\"middle\"><textPath xlink:href=\"#VbhJXgWr8\" startOffset=\"50%\"></textPath></text>\n<path d=\"M-25.0,121.65063509461096 L0,78.34936490538904 L25.0,121.65063509461096 Z\" fill=\"#C23537\" stroke=\"#000000\" stroke-width=\"2.0\" />\n<use xlink:href=\"#VbhJXgWr9\" />\n<text font-size=\"17.5\" text-anchor=\"middle\"><textPath xlink:href=\"#VbhJXgWr9\" startOffset=\"50%\"></textPath></text>\n<use xlink:href=\"#VbhJXgWr10\" />\n<text font-size=\"15.0\" fill=\"#000000\" text-anchor=\"middle\"><textPath xlink:href=\"#VbhJXgWr10\" startOffset=\"50%\"></textPath></text>\n</g>\n</svg>"
     },
     "execution_count": 116,
     "metadata": {},
     "output_type": "execute_result"
    }
   ],
   "execution_count": 116
  },
  {
   "metadata": {
    "ExecuteTime": {
     "end_time": "2024-12-16T14:58:48.215525Z",
     "start_time": "2024-12-16T14:58:48.143342Z"
    }
   },
   "cell_type": "code",
   "source": [
    "daniel_graph = glycan_to_nxGraph('Fuc(a1-2)Gal(b1-4)[Fuc(a1-3)]GlcNAc')\n",
    "nx.draw(daniel_graph, with_labels=True)"
   ],
   "id": "338406149a218116",
   "outputs": [
    {
     "ename": "NameError",
     "evalue": "name 'glycan_to_nxGraph' is not defined",
     "output_type": "error",
     "traceback": [
      "\u001B[0;31m---------------------------------------------------------------------------\u001B[0m",
      "\u001B[0;31mNameError\u001B[0m                                 Traceback (most recent call last)",
      "Cell \u001B[0;32mIn[6], line 1\u001B[0m\n\u001B[0;32m----> 1\u001B[0m daniel_graph \u001B[38;5;241m=\u001B[39m glycan_to_nxGraph(\u001B[38;5;124m'\u001B[39m\u001B[38;5;124mFuc(a1-2)Gal(b1-4)[Fuc(a1-3)]GlcNAc\u001B[39m\u001B[38;5;124m'\u001B[39m)\n\u001B[1;32m      2\u001B[0m nx\u001B[38;5;241m.\u001B[39mdraw(daniel_graph, with_labels\u001B[38;5;241m=\u001B[39m\u001B[38;5;28;01mTrue\u001B[39;00m)\n",
      "\u001B[0;31mNameError\u001B[0m: name 'glycan_to_nxGraph' is not defined"
     ]
    }
   ],
   "execution_count": 6
  },
  {
   "metadata": {
    "ExecuteTime": {
     "end_time": "2024-12-15T15:23:39.431827Z",
     "start_time": "2024-12-15T15:23:39.379057Z"
    }
   },
   "cell_type": "code",
   "source": "nx.draw(glycan_graphs['Fuc(a1-2)Gal(b1-4)[Fuc(a1-3)]GlcNAc'], with_labels=True)\n",
   "id": "820e01d1db24c675",
   "outputs": [
    {
     "data": {
      "text/plain": [
       "<Figure size 640x480 with 1 Axes>"
      ],
      "image/png": "[encoded data removed]"
     },
     "metadata": {},
     "output_type": "display_data"
    }
   ],
   "execution_count": 118
  },
  {
   "metadata": {
    "ExecuteTime": {
     "end_time": "2024-12-15T15:17:20.016319Z",
     "start_time": "2024-12-15T15:17:20.013809Z"
    }
   },
   "cell_type": "code",
   "source": "luc_graph.__dict__",
   "id": "a436ca8fff99a54d",
   "outputs": [
    {
     "data": {
      "text/plain": [
       "{'graph': {},\n",
       " '_node': {3: {'Monosaccharide': 'Gal(b1-3)',\n",
       "   'Mean Score': 2.0702558295646063,\n",
       "   'Median Score': 2.1024119952926412,\n",
       "   'Weighted Score': 2.092785973050695,\n",
       "   'weighted_mean_flexibility': 0.36258494150584986},\n",
       "  2: {'Monosaccharide': 'GlcNAc(b1-1)',\n",
       "   'Mean Score': 2.538361548252093,\n",
       "   'Median Score': 2.5042925303569064,\n",
       "   'Weighted Score': 2.5166298042982795,\n",
       "   'weighted_mean_flexibility': 0.5460559610705573},\n",
       "  1: {'Monosaccharide': '-R',\n",
       "   'Mean Score': 0.46005027492841083,\n",
       "   'Median Score': 0.4585103988647461,\n",
       "   'Weighted Score': 0.46351294226347717,\n",
       "   'weighted_mean_flexibility': 0.8475338132853361},\n",
       "  4: {'Monosaccharide': 'Fuc(a1-2)',\n",
       "   'Mean Score': 2.1199890089725764,\n",
       "   'Median Score': 2.1202326342463493,\n",
       "   'Weighted Score': 2.12907997324471,\n",
       "   'weighted_mean_flexibility': 0.6843510982235121}},\n",
       " '_adj': {3: {2: {}, 4: {}}, 2: {3: {}, 1: {}}, 1: {2: {}}, 4: {3: {}}},\n",
       " 'nodes': NodeView((3, 2, 1, 4)),\n",
       " 'degree': DegreeView({3: 2, 2: 2, 1: 1, 4: 1}),\n",
       " 'adj': AdjacencyView({3: {2: {}, 4: {}}, 2: {3: {}, 1: {}}, 1: {2: {}}, 4: {3: {}}})}"
      ]
     },
     "execution_count": 111,
     "metadata": {},
     "output_type": "execute_result"
    }
   ],
   "execution_count": 111
  },
  {
   "metadata": {
    "ExecuteTime": {
     "end_time": "2024-12-11T08:36:48.738883Z",
     "start_time": "2024-12-11T08:36:48.733230Z"
    }
   },
   "cell_type": "code",
   "source": "luc_graph.nodes[]",
   "id": "5ed9ae880b7728f1",
   "outputs": [
    {
     "ename": "SyntaxError",
     "evalue": "invalid syntax (3242455246.py, line 1)",
     "output_type": "error",
     "traceback": [
      "\u001B[0;36m  Cell \u001B[0;32mIn[95], line 1\u001B[0;36m\u001B[0m\n\u001B[0;31m    luc_graph.nodes[]\u001B[0m\n\u001B[0m                    ^\u001B[0m\n\u001B[0;31mSyntaxError\u001B[0m\u001B[0;31m:\u001B[0m invalid syntax\n"
     ]
    }
   ],
   "execution_count": 95
  },
  {
   "metadata": {
    "ExecuteTime": {
     "end_time": "2024-12-11T08:36:49.336370Z",
     "start_time": "2024-12-11T08:36:49.333633Z"
    }
   },
   "cell_type": "code",
   "source": [
    "\n",
    "map_dict"
   ],
   "id": "69790fdba6fa9569",
   "outputs": [
    {
     "data": {
      "text/plain": [
       "{0: 4, 2: 3, 4: 2}"
      ]
     },
     "execution_count": 96,
     "metadata": {},
     "output_type": "execute_result"
    }
   ],
   "execution_count": 96
  },
  {
   "metadata": {
    "ExecuteTime": {
     "end_time": "2024-12-10T14:53:42.471623Z",
     "start_time": "2024-12-10T14:53:42.469733Z"
    }
   },
   "cell_type": "code",
   "source": "map_dict",
   "id": "7871cc79653a1e7e",
   "outputs": [
    {
     "data": {
      "text/plain": [
       "{0: 5, 2: 4, 4: 3, 6: 2}"
      ]
     },
     "execution_count": 75,
     "metadata": {},
     "output_type": "execute_result"
    }
   ],
   "execution_count": 75
  },
  {
   "metadata": {},
   "cell_type": "code",
   "outputs": [],
   "execution_count": null,
   "source": "",
   "id": "c222fce818581dac"
  },
  {
   "metadata": {
    "ExecuteTime": {
     "end_time": "2024-12-11T08:37:48.441363Z",
     "start_time": "2024-12-11T08:37:48.383157Z"
    }
   },
   "cell_type": "code",
   "source": [
    "daniel_graph = glycan_to_nxGraph('Rha(a1-3)Rha(a1-2)Gal')\n",
    "nx.draw(daniel_graph, with_labels=True)"
   ],
   "id": "66e320b505704847",
   "outputs": [
    {
     "data": {
      "text/plain": [
       "<Figure size 640x480 with 1 Axes>"
      ],
      "image/png": "[encoded data removed]"
     },
     "metadata": {},
     "output_type": "display_data"
    }
   ],
   "execution_count": 97
  },
  {
   "metadata": {
    "ExecuteTime": {
     "end_time": "2024-12-11T08:39:01.982920Z",
     "start_time": "2024-12-11T08:39:01.935932Z"
    }
   },
   "cell_type": "code",
   "source": "nx.draw(glycan_graphs['Rha(a1-3)Rha(a1-2)Gal'], with_labels=True)",
   "id": "7f668475295679cd",
   "outputs": [
    {
     "data": {
      "text/plain": [
       "<Figure size 640x480 with 1 Axes>"
      ],
      "image/png": "[encoded data removed]"
     },
     "metadata": {},
     "output_type": "display_data"
    }
   ],
   "execution_count": 99
  },
  {
   "metadata": {
    "ExecuteTime": {
     "end_time": "2024-12-10T14:49:58.124181Z",
     "start_time": "2024-12-10T14:49:58.122032Z"
    }
   },
   "cell_type": "code",
   "source": "map_dic",
   "id": "6c0a5518e108a523",
   "outputs": [
    {
     "data": {
      "text/plain": [
       "{0: 1, 2: 3, 4: 5, 6: 7}"
      ]
     },
     "execution_count": 62,
     "metadata": {},
     "output_type": "execute_result"
    }
   ],
   "execution_count": 62
  },
  {
   "metadata": {
    "ExecuteTime": {
     "end_time": "2024-12-10T14:28:21.551088Z",
     "start_time": "2024-12-10T14:28:21.547418Z"
    }
   },
   "cell_type": "code",
   "source": "daniel_graph = glycan_to_nxGraph('Gal(b1-3)GalNAc(b1-4)Gal(b1-4)Glc')",
   "id": "18af691e87feabf5",
   "outputs": [],
   "execution_count": 28
  },
  {
   "metadata": {
    "ExecuteTime": {
     "end_time": "2024-12-10T14:37:14.060525Z",
     "start_time": "2024-12-10T14:37:14.015973Z"
    }
   },
   "cell_type": "code",
   "source": "nx.draw(daniel_graph, with_labels=True)",
   "id": "942e2ff3493de1ea",
   "outputs": [
    {
     "data": {
      "text/plain": [
       "<Figure size 640x480 with 1 Axes>"
      ],
      "image/png": "[encoded data removed]"
     },
     "metadata": {},
     "output_type": "display_data"
    }
   ],
   "execution_count": 54
  },
  {
   "metadata": {
    "ExecuteTime": {
     "end_time": "2024-12-10T14:37:31.758493Z",
     "start_time": "2024-12-10T14:37:31.707003Z"
    }
   },
   "cell_type": "code",
   "source": "nx.draw(luc_graph, with_labels=True)",
   "id": "69867982e3f054ee",
   "outputs": [
    {
     "data": {
      "text/plain": [
       "<Figure size 640x480 with 1 Axes>"
      ],
      "image/png": "[encoded data removed]"
     },
     "metadata": {},
     "output_type": "display_data"
    }
   ],
   "execution_count": 55
  },
  {
   "metadata": {
    "ExecuteTime": {
     "end_time": "2024-12-09T12:02:48.462572Z",
     "start_time": "2024-12-09T12:02:48.452580Z"
    }
   },
   "cell_type": "code",
   "source": "GlycoDraw(\"Man(a1-3)[Xyl(b1-2)][Man(a1-6)]Man(b1-4)GlcNAc(b1-4)[Fuc(a1-3)]GlcNAc\")",
   "id": "353e6522e0d37774",
   "outputs": [
    {
     "data": {
      "text/plain": [
       "<drawsvg.drawing.Drawing at 0x177dd91c0>"
      ],
      "image/svg+xml": "<?xml version=\"1.0\" encoding=\"UTF-8\"?>\n<svg xmlns=\"http://www.w3.org/2000/svg\" xmlns:xlink=\"http://www.w3.org/1999/xlink\"\n     width=\"400\" height=\"310\" viewBox=\"-350.0 -180.0 400 310\">\n<defs>\n<path d=\"M-100,-50.0 L0,-50.0\" stroke-width=\"4.0\" stroke=\"#000000\" id=\"cN2aphhN0\" />\n<path d=\"M-200,-50.0 L-100,-50.0\" stroke-width=\"4.0\" stroke=\"#000000\" id=\"cN2aphhN1\" />\n<path d=\"M-300,0 L-200,-50.0\" stroke-width=\"4.0\" stroke=\"#000000\" id=\"cN2aphhN2\" />\n<path d=\"M-200,50.0 L-200,-50.0\" stroke-width=\"4.0\" stroke=\"#000000\" id=\"cN2aphhN3\" />\n<path d=\"M-300,-100 L-200,-50.0\" stroke-width=\"4.0\" stroke=\"#000000\" id=\"cN2aphhN4\" />\n<path d=\"M0,50.0 L0,-50.0\" stroke-width=\"4.0\" stroke=\"#000000\" id=\"cN2aphhN5\" />\n<path d=\"M-50,-25.0 L50,-25.0\" stroke-width=\"0\" id=\"cN2aphhN6\" />\n<path d=\"M-50,-50.0 L50,-50.0\" stroke-width=\"0\" id=\"cN2aphhN7\" />\n<path d=\"M-150,-25.0 L-50,-25.0\" stroke-width=\"0\" id=\"cN2aphhN8\" />\n<path d=\"M-150,-50.0 L-50,-50.0\" stroke-width=\"0\" id=\"cN2aphhN9\" />\n<path d=\"M-250,-25.0 L-150,-25.0\" stroke-width=\"0\" id=\"cN2aphhN10\" />\n<path d=\"M-250,-50.0 L-150,-50.0\" stroke-width=\"0\" id=\"cN2aphhN11\" />\n<path d=\"M-350,25.0 L-250,25.0\" stroke-width=\"0\" id=\"cN2aphhN12\" />\n<path d=\"M-350,0 L-250,0\" stroke-width=\"0\" id=\"cN2aphhN13\" />\n<path d=\"M-250,75.0 L-150,75.0\" stroke-width=\"0\" id=\"cN2aphhN14\" />\n<path d=\"M-250,50.0 L-150,50.0\" stroke-width=\"0\" id=\"cN2aphhN15\" />\n<path d=\"M-350,-75.0 L-250,-75.0\" stroke-width=\"0\" id=\"cN2aphhN16\" />\n<path d=\"M-350,-100 L-250,-100\" stroke-width=\"0\" id=\"cN2aphhN17\" />\n<path d=\"M-50,75.0 L50,75.0\" stroke-width=\"0\" id=\"cN2aphhN18\" />\n<path d=\"M-50,50.0 L50,50.0\" stroke-width=\"0\" id=\"cN2aphhN19\" />\n</defs>\n<g transform=\"rotate(0 -150.0 -25.0)\">\n<use xlink:href=\"#cN2aphhN0\" />\n<text font-size=\"20.0\" text-anchor=\"middle\" fill=\"#000000\" valign=\"middle\"><textPath xlink:href=\"#cN2aphhN0\" startOffset=\"50%\">\n<tspan dy=\"-0.5em\">β 4</tspan>\n</textPath></text>\n<use xlink:href=\"#cN2aphhN1\" />\n<text font-size=\"20.0\" text-anchor=\"middle\" fill=\"#000000\" valign=\"middle\"><textPath xlink:href=\"#cN2aphhN1\" startOffset=\"50%\">\n<tspan dy=\"-0.5em\">β 4</tspan>\n</textPath></text>\n<use xlink:href=\"#cN2aphhN2\" />\n<text font-size=\"20.0\" text-anchor=\"middle\" fill=\"#000000\" valign=\"middle\"><textPath xlink:href=\"#cN2aphhN2\" startOffset=\"50%\">\n<tspan dy=\"-0.5em\">α 3</tspan>\n</textPath></text>\n<use xlink:href=\"#cN2aphhN3\" />\n<text font-size=\"20.0\" text-anchor=\"middle\" fill=\"#000000\" valign=\"middle\"><textPath xlink:href=\"#cN2aphhN3\" startOffset=\"50%\">\n<tspan dy=\"-0.5em\">β 2</tspan>\n</textPath></text>\n<use xlink:href=\"#cN2aphhN4\" />\n<text font-size=\"20.0\" text-anchor=\"middle\" fill=\"#000000\" valign=\"middle\"><textPath xlink:href=\"#cN2aphhN4\" startOffset=\"50%\">\n<tspan dy=\"-0.5em\">α 6</tspan>\n</textPath></text>\n<use xlink:href=\"#cN2aphhN5\" />\n<text font-size=\"20.0\" text-anchor=\"middle\" fill=\"#000000\" valign=\"middle\"><textPath xlink:href=\"#cN2aphhN5\" startOffset=\"50%\">\n<tspan dy=\"-0.5em\">α 3</tspan>\n</textPath></text>\n<rect x=\"-25.0\" y=\"-75.0\" width=\"50\" height=\"50\" fill=\"#0385AE\" stroke-width=\"2.0\" stroke=\"#000000\" />\n<use xlink:href=\"#cN2aphhN6\" />\n<text font-size=\"17.5\" fill=\"#000000\" text-anchor=\"middle\"><textPath xlink:href=\"#cN2aphhN6\" startOffset=\"50%\"></textPath></text>\n<use xlink:href=\"#cN2aphhN7\" />\n<text font-size=\"15.0\" fill=\"#000000\" text-anchor=\"middle\"><textPath xlink:href=\"#cN2aphhN7\" startOffset=\"50%\"></textPath></text>\n<rect x=\"-125.0\" y=\"-75.0\" width=\"50\" height=\"50\" fill=\"#0385AE\" stroke-width=\"2.0\" stroke=\"#000000\" />\n<use xlink:href=\"#cN2aphhN8\" />\n<text font-size=\"17.5\" fill=\"#000000\" text-anchor=\"middle\"><textPath xlink:href=\"#cN2aphhN8\" startOffset=\"50%\"></textPath></text>\n<use xlink:href=\"#cN2aphhN9\" />\n<text font-size=\"15.0\" fill=\"#000000\" text-anchor=\"middle\"><textPath xlink:href=\"#cN2aphhN9\" startOffset=\"50%\"></textPath></text>\n<circle cx=\"-200\" cy=\"-50.0\" r=\"25.0\" fill=\"#058F60\" stroke-width=\"2.0\" stroke=\"#000000\" />\n<use xlink:href=\"#cN2aphhN10\" />\n<text font-size=\"17.5\" fill=\"#000000\" text-anchor=\"middle\"><textPath xlink:href=\"#cN2aphhN10\" startOffset=\"50%\"></textPath></text>\n<use xlink:href=\"#cN2aphhN11\" />\n<text font-size=\"15.0\" fill=\"#000000\" text-anchor=\"middle\"><textPath xlink:href=\"#cN2aphhN11\" startOffset=\"50%\"></textPath></text>\n<circle cx=\"-300\" cy=\"0\" r=\"25.0\" fill=\"#058F60\" stroke-width=\"2.0\" stroke=\"#000000\" />\n<use xlink:href=\"#cN2aphhN12\" />\n<text font-size=\"17.5\" fill=\"#000000\" text-anchor=\"middle\"><textPath xlink:href=\"#cN2aphhN12\" startOffset=\"50%\"></textPath></text>\n<use xlink:href=\"#cN2aphhN13\" />\n<text font-size=\"15.0\" fill=\"#000000\" text-anchor=\"middle\"><textPath xlink:href=\"#cN2aphhN13\" startOffset=\"50%\"></textPath></text>\n<path d=\"M-200,23.713444394043318 L-192.27457514062633,39.3668648955995 L-175.0,41.87700759417734 L-187.5,54.06149620291133 L-184.54915028125262,71.266270208801 L-200,63.14327780297834 L-215.45084971874738,71.266270208801 L-212.5,54.06149620291133 L-225.0,41.87700759417734 L-207.72542485937367,39.3668648955995 Z\" fill=\"#EF6130\" stroke=\"#000000\" stroke-width=\"2.0\" />\n<use xlink:href=\"#cN2aphhN14\" />\n<text font-size=\"17.5\" fill=\"#000000\" text-anchor=\"middle\"><textPath xlink:href=\"#cN2aphhN14\" startOffset=\"50%\"></textPath></text>\n<use xlink:href=\"#cN2aphhN15\" />\n<text font-size=\"15.0\" fill=\"#000000\" text-anchor=\"middle\"><textPath xlink:href=\"#cN2aphhN15\" startOffset=\"50%\"></textPath></text>\n<circle cx=\"-300\" cy=\"-100\" r=\"25.0\" fill=\"#058F60\" stroke-width=\"2.0\" stroke=\"#000000\" />\n<use xlink:href=\"#cN2aphhN16\" />\n<text font-size=\"17.5\" fill=\"#000000\" text-anchor=\"middle\"><textPath xlink:href=\"#cN2aphhN16\" startOffset=\"50%\"></textPath></text>\n<use xlink:href=\"#cN2aphhN17\" />\n<text font-size=\"15.0\" fill=\"#000000\" text-anchor=\"middle\"><textPath xlink:href=\"#cN2aphhN17\" startOffset=\"50%\"></textPath></text>\n<path d=\"M-25.0,71.65063509461096 L0,28.349364905389034 L25.0,71.65063509461096 Z\" fill=\"#C23537\" stroke=\"#000000\" stroke-width=\"2.0\" />\n<use xlink:href=\"#cN2aphhN18\" />\n<text font-size=\"17.5\" text-anchor=\"middle\"><textPath xlink:href=\"#cN2aphhN18\" startOffset=\"50%\"></textPath></text>\n<use xlink:href=\"#cN2aphhN19\" />\n<text font-size=\"15.0\" fill=\"#000000\" text-anchor=\"middle\"><textPath xlink:href=\"#cN2aphhN19\" startOffset=\"50%\"></textPath></text>\n</g>\n</svg>"
     },
     "execution_count": 6,
     "metadata": {},
     "output_type": "execute_result"
    }
   ],
   "execution_count": 6
  },
  {
   "metadata": {
    "ExecuteTime": {
     "end_time": "2024-12-09T15:30:45.534040Z",
     "start_time": "2024-12-09T15:30:45.526055Z"
    }
   },
   "cell_type": "code",
   "source": [
    "from glycowork.motif.graph import subgraph_isomorphism, glycan_to_nxGraph\n",
    "\n",
    "print(subgraph_isomorphism('Neu5Ac(a2-3)Gal(b1-4)[Fuc(a1-3)]GlcNAc(b1-6)[Gal(b1-3)]GalNAc',\n",
    "                     'Fuc(a1-?)[Gal(b1-?)]GlcNAc', termini_list = ['terminal']))\n",
    "\n",
    "\n",
    "GlycoDraw(\"Neu5Ac(a2-3)Gal(b1-4)[Fuc(a1-3)]GlcNAc(b1-6)[Gal(b1-3)]GalNAc\")\n"
   ],
   "id": "6acffc9f56c18227",
   "outputs": [
    {
     "name": "stdout",
     "output_type": "stream",
     "text": [
      "True\n"
     ]
    },
    {
     "data": {
      "text/plain": [
       "<drawsvg.drawing.Drawing at 0x31659cda0>"
      ],
      "image/svg+xml": "<?xml version=\"1.0\" encoding=\"UTF-8\"?>\n<svg xmlns=\"http://www.w3.org/2000/svg\" xmlns:xlink=\"http://www.w3.org/1999/xlink\"\n     width=\"400\" height=\"510\" viewBox=\"-350.0 -355.0 400 510\">\n<defs>\n<path d=\"M-100,0 L0,-100.0\" stroke-width=\"4.0\" stroke=\"#000000\" id=\"oUAkoGoV0\" />\n<path d=\"M-200,-200 L-100,-200\" stroke-width=\"4.0\" stroke=\"#000000\" id=\"oUAkoGoV1\" />\n<path d=\"M-300,-200 L-200,-200\" stroke-width=\"4.0\" stroke=\"#000000\" id=\"oUAkoGoV2\" />\n<path d=\"M-100,-200 L0,-100.0\" stroke-width=\"4.0\" stroke=\"#000000\" id=\"oUAkoGoV3\" />\n<path d=\"M-100,-100 L-100,-200\" stroke-width=\"4.0\" stroke=\"#000000\" id=\"oUAkoGoV4\" />\n<path d=\"M-50,-75.0 L50,-75.0\" stroke-width=\"0\" id=\"oUAkoGoV5\" />\n<path d=\"M-50,-100.0 L50,-100.0\" stroke-width=\"0\" id=\"oUAkoGoV6\" />\n<path d=\"M-150,25.0 L-50,25.0\" stroke-width=\"0\" id=\"oUAkoGoV7\" />\n<path d=\"M-150,0 L-50,0\" stroke-width=\"0\" id=\"oUAkoGoV8\" />\n<path d=\"M-150,-175.0 L-50,-175.0\" stroke-width=\"0\" id=\"oUAkoGoV9\" />\n<path d=\"M-150,-200 L-50,-200\" stroke-width=\"0\" id=\"oUAkoGoV10\" />\n<path d=\"M-250,-175.0 L-150,-175.0\" stroke-width=\"0\" id=\"oUAkoGoV11\" />\n<path d=\"M-250,-200 L-150,-200\" stroke-width=\"0\" id=\"oUAkoGoV12\" />\n<path d=\"M-350,-175.0 L-250,-175.0\" stroke-width=\"0\" id=\"oUAkoGoV13\" />\n<path d=\"M-350,-200 L-250,-200\" stroke-width=\"0\" id=\"oUAkoGoV14\" />\n<path d=\"M-150,-75.0 L-50,-75.0\" stroke-width=\"0\" id=\"oUAkoGoV15\" />\n<path d=\"M-150,-100 L-50,-100\" stroke-width=\"0\" id=\"oUAkoGoV16\" />\n</defs>\n<g transform=\"rotate(0 -150.0 -100.0)\">\n<use xlink:href=\"#oUAkoGoV0\" />\n<text font-size=\"20.0\" text-anchor=\"middle\" fill=\"#000000\" valign=\"middle\"><textPath xlink:href=\"#oUAkoGoV0\" startOffset=\"50%\">\n<tspan dy=\"-0.5em\">β 3</tspan>\n</textPath></text>\n<use xlink:href=\"#oUAkoGoV1\" />\n<text font-size=\"20.0\" text-anchor=\"middle\" fill=\"#000000\" valign=\"middle\"><textPath xlink:href=\"#oUAkoGoV1\" startOffset=\"50%\">\n<tspan dy=\"-0.5em\">β 4</tspan>\n</textPath></text>\n<use xlink:href=\"#oUAkoGoV2\" />\n<text font-size=\"20.0\" text-anchor=\"middle\" fill=\"#000000\" valign=\"middle\"><textPath xlink:href=\"#oUAkoGoV2\" startOffset=\"50%\">\n<tspan dy=\"-0.5em\">α 3</tspan>\n</textPath></text>\n<use xlink:href=\"#oUAkoGoV3\" />\n<text font-size=\"20.0\" text-anchor=\"middle\" fill=\"#000000\" valign=\"middle\"><textPath xlink:href=\"#oUAkoGoV3\" startOffset=\"50%\">\n<tspan dy=\"-0.5em\">β 6</tspan>\n</textPath></text>\n<use xlink:href=\"#oUAkoGoV4\" />\n<text font-size=\"20.0\" text-anchor=\"middle\" fill=\"#000000\" valign=\"middle\"><textPath xlink:href=\"#oUAkoGoV4\" startOffset=\"50%\">\n<tspan dy=\"-0.5em\">α 3</tspan>\n</textPath></text>\n<rect x=\"-25.0\" y=\"-125.0\" width=\"50\" height=\"50\" fill=\"#FCC326\" stroke-width=\"2.0\" stroke=\"#000000\" />\n<use xlink:href=\"#oUAkoGoV5\" />\n<text font-size=\"17.5\" fill=\"#000000\" text-anchor=\"middle\"><textPath xlink:href=\"#oUAkoGoV5\" startOffset=\"50%\"></textPath></text>\n<use xlink:href=\"#oUAkoGoV6\" />\n<text font-size=\"15.0\" fill=\"#000000\" text-anchor=\"middle\"><textPath xlink:href=\"#oUAkoGoV6\" startOffset=\"50%\"></textPath></text>\n<circle cx=\"-100\" cy=\"0\" r=\"25.0\" fill=\"#FCC326\" stroke-width=\"2.0\" stroke=\"#000000\" />\n<use xlink:href=\"#oUAkoGoV7\" />\n<text font-size=\"17.5\" fill=\"#000000\" text-anchor=\"middle\"><textPath xlink:href=\"#oUAkoGoV7\" startOffset=\"50%\"></textPath></text>\n<use xlink:href=\"#oUAkoGoV8\" />\n<text font-size=\"15.0\" fill=\"#000000\" text-anchor=\"middle\"><textPath xlink:href=\"#oUAkoGoV8\" startOffset=\"50%\"></textPath></text>\n<rect x=\"-125.0\" y=\"-225.0\" width=\"50\" height=\"50\" fill=\"#0385AE\" stroke-width=\"2.0\" stroke=\"#000000\" />\n<use xlink:href=\"#oUAkoGoV9\" />\n<text font-size=\"17.5\" fill=\"#000000\" text-anchor=\"middle\"><textPath xlink:href=\"#oUAkoGoV9\" startOffset=\"50%\"></textPath></text>\n<use xlink:href=\"#oUAkoGoV10\" />\n<text font-size=\"15.0\" fill=\"#000000\" text-anchor=\"middle\"><textPath xlink:href=\"#oUAkoGoV10\" startOffset=\"50%\"></textPath></text>\n<circle cx=\"-200\" cy=\"-200\" r=\"25.0\" fill=\"#FCC326\" stroke-width=\"2.0\" stroke=\"#000000\" />\n<use xlink:href=\"#oUAkoGoV11\" />\n<text font-size=\"17.5\" fill=\"#000000\" text-anchor=\"middle\"><textPath xlink:href=\"#oUAkoGoV11\" startOffset=\"50%\"></textPath></text>\n<use xlink:href=\"#oUAkoGoV12\" />\n<text font-size=\"15.0\" fill=\"#000000\" text-anchor=\"middle\"><textPath xlink:href=\"#oUAkoGoV12\" startOffset=\"50%\"></textPath></text>\n<path d=\"M-300,-175.0 L-275.0,-200 L-300,-225.0 L-325.0,-200 Z\" fill=\"#A15989\" stroke=\"#000000\" stroke-width=\"2.0\" />\n<use xlink:href=\"#oUAkoGoV13\" />\n<text font-size=\"17.5\" fill=\"#000000\" text-anchor=\"middle\"><textPath xlink:href=\"#oUAkoGoV13\" startOffset=\"50%\"></textPath></text>\n<use xlink:href=\"#oUAkoGoV14\" />\n<text font-size=\"15.0\" fill=\"#000000\" text-anchor=\"middle\"><textPath xlink:href=\"#oUAkoGoV14\" startOffset=\"50%\"></textPath></text>\n<path d=\"M-125.0,-78.34936490538904 L-100,-121.65063509461096 L-75.0,-78.34936490538904 Z\" fill=\"#C23537\" stroke=\"#000000\" stroke-width=\"2.0\" />\n<use xlink:href=\"#oUAkoGoV15\" />\n<text font-size=\"17.5\" text-anchor=\"middle\"><textPath xlink:href=\"#oUAkoGoV15\" startOffset=\"50%\"></textPath></text>\n<use xlink:href=\"#oUAkoGoV16\" />\n<text font-size=\"15.0\" fill=\"#000000\" text-anchor=\"middle\"><textPath xlink:href=\"#oUAkoGoV16\" startOffset=\"50%\"></textPath></text>\n</g>\n</svg>"
     },
     "execution_count": 18,
     "metadata": {},
     "output_type": "execute_result"
    }
   ],
   "execution_count": 18
  },
  {
   "metadata": {
    "ExecuteTime": {
     "end_time": "2024-12-11T15:46:18.863948Z",
     "start_time": "2024-12-11T15:46:18.855836Z"
    }
   },
   "cell_type": "code",
   "source": "GlycoDraw(\"GlcNAc(b1-2)Man(a1-3)[Man(a1-3)[Man(a1-6)]Man(a1-6)]Man(b1-4)GlcNAc(b1-4)[Fuc(a1-6)]GlcNAc\", highlight_motif=\"Man\")",
   "id": "84d3ed9894f45fdf",
   "outputs": [
    {
     "data": {
      "text/plain": [
       "<drawsvg.drawing.Drawing at 0x316ee8380>"
      ],
      "image/svg+xml": "<?xml version=\"1.0\" encoding=\"UTF-8\"?>\n<svg xmlns=\"http://www.w3.org/2000/svg\" xmlns:xlink=\"http://www.w3.org/1999/xlink\"\n     width=\"500\" height=\"510\" viewBox=\"-450.0 -355.0 500 510\">\n<defs>\n<path d=\"M-100,-75.0 L0,-75.0\" stroke-width=\"4.0\" stroke=\"#D9D9D9\" id=\"tZlf369F0\" />\n<path d=\"M-200,-75.0 L-100,-75.0\" stroke-width=\"4.0\" stroke=\"#D9D9D9\" id=\"tZlf369F1\" />\n<path d=\"M-300,0 L-200,-75.0\" stroke-width=\"4.0\" stroke=\"#D9D9D9\" id=\"tZlf369F2\" />\n<path d=\"M-400,0 L-300,0\" stroke-width=\"4.0\" stroke=\"#D9D9D9\" id=\"tZlf369F3\" />\n<path d=\"M-400,-100 L-300,-150.0\" stroke-width=\"4.0\" stroke=\"#D9D9D9\" id=\"tZlf369F4\" />\n<path d=\"M-300,-150.0 L-200,-75.0\" stroke-width=\"4.0\" stroke=\"#D9D9D9\" id=\"tZlf369F5\" />\n<path d=\"M0,-175.0 L0,-75.0\" stroke-width=\"4.0\" stroke=\"#D9D9D9\" id=\"tZlf369F6\" />\n<path d=\"M-400,-200 L-300,-150.0\" stroke-width=\"4.0\" stroke=\"#D9D9D9\" id=\"tZlf369F7\" />\n<path d=\"M-50,-50.0 L50,-50.0\" stroke-width=\"0\" id=\"tZlf369F8\" />\n<path d=\"M-50,-75.0 L50,-75.0\" stroke-width=\"0\" id=\"tZlf369F9\" />\n<path d=\"M-150,-50.0 L-50,-50.0\" stroke-width=\"0\" id=\"tZlf369F10\" />\n<path d=\"M-150,-75.0 L-50,-75.0\" stroke-width=\"0\" id=\"tZlf369F11\" />\n<path d=\"M-250,-50.0 L-150,-50.0\" stroke-width=\"0\" id=\"tZlf369F12\" />\n<path d=\"M-250,-75.0 L-150,-75.0\" stroke-width=\"0\" id=\"tZlf369F13\" />\n<path d=\"M-350,25.0 L-250,25.0\" stroke-width=\"0\" id=\"tZlf369F14\" />\n<path d=\"M-350,0 L-250,0\" stroke-width=\"0\" id=\"tZlf369F15\" />\n<path d=\"M-450,25.0 L-350,25.0\" stroke-width=\"0\" id=\"tZlf369F16\" />\n<path d=\"M-450,0 L-350,0\" stroke-width=\"0\" id=\"tZlf369F17\" />\n<path d=\"M-350,-125.0 L-250,-125.0\" stroke-width=\"0\" id=\"tZlf369F18\" />\n<path d=\"M-350,-150.0 L-250,-150.0\" stroke-width=\"0\" id=\"tZlf369F19\" />\n<path d=\"M-450,-75.0 L-350,-75.0\" stroke-width=\"0\" id=\"tZlf369F20\" />\n<path d=\"M-450,-100 L-350,-100\" stroke-width=\"0\" id=\"tZlf369F21\" />\n<path d=\"M-50,-150.0 L50,-150.0\" stroke-width=\"0\" id=\"tZlf369F22\" />\n<path d=\"M-50,-175.0 L50,-175.0\" stroke-width=\"0\" id=\"tZlf369F23\" />\n<path d=\"M-450,-175.0 L-350,-175.0\" stroke-width=\"0\" id=\"tZlf369F24\" />\n<path d=\"M-450,-200 L-350,-200\" stroke-width=\"0\" id=\"tZlf369F25\" />\n</defs>\n<g transform=\"rotate(0 -200.0 -100.0)\">\n<use xlink:href=\"#tZlf369F0\" />\n<text font-size=\"20.0\" text-anchor=\"middle\" fill=\"#D9D9D9\" valign=\"middle\"><textPath xlink:href=\"#tZlf369F0\" startOffset=\"50%\">\n<tspan dy=\"-0.5em\">β 4</tspan>\n</textPath></text>\n<use xlink:href=\"#tZlf369F1\" />\n<text font-size=\"20.0\" text-anchor=\"middle\" fill=\"#D9D9D9\" valign=\"middle\"><textPath xlink:href=\"#tZlf369F1\" startOffset=\"50%\">\n<tspan dy=\"-0.5em\">β 4</tspan>\n</textPath></text>\n<use xlink:href=\"#tZlf369F2\" />\n<text font-size=\"20.0\" text-anchor=\"middle\" fill=\"#D9D9D9\" valign=\"middle\"><textPath xlink:href=\"#tZlf369F2\" startOffset=\"50%\">\n<tspan dy=\"-0.5em\">α 3</tspan>\n</textPath></text>\n<use xlink:href=\"#tZlf369F3\" />\n<text font-size=\"20.0\" text-anchor=\"middle\" fill=\"#D9D9D9\" valign=\"middle\"><textPath xlink:href=\"#tZlf369F3\" startOffset=\"50%\">\n<tspan dy=\"-0.5em\">β 2</tspan>\n</textPath></text>\n<use xlink:href=\"#tZlf369F4\" />\n<text font-size=\"20.0\" text-anchor=\"middle\" fill=\"#D9D9D9\" valign=\"middle\"><textPath xlink:href=\"#tZlf369F4\" startOffset=\"50%\">\n<tspan dy=\"-0.5em\">α 3</tspan>\n</textPath></text>\n<use xlink:href=\"#tZlf369F5\" />\n<text font-size=\"20.0\" text-anchor=\"middle\" fill=\"#D9D9D9\" valign=\"middle\"><textPath xlink:href=\"#tZlf369F5\" startOffset=\"50%\">\n<tspan dy=\"-0.5em\">α 6</tspan>\n</textPath></text>\n<use xlink:href=\"#tZlf369F6\" />\n<text font-size=\"20.0\" text-anchor=\"middle\" fill=\"#D9D9D9\" valign=\"middle\"><textPath xlink:href=\"#tZlf369F6\" startOffset=\"50%\">\n<tspan dy=\"-0.5em\">α 6</tspan>\n</textPath></text>\n<use xlink:href=\"#tZlf369F7\" />\n<text font-size=\"20.0\" text-anchor=\"middle\" fill=\"#D9D9D9\" valign=\"middle\"><textPath xlink:href=\"#tZlf369F7\" startOffset=\"50%\">\n<tspan dy=\"-0.5em\">α 6</tspan>\n</textPath></text>\n<rect x=\"-25.0\" y=\"-100.0\" width=\"50\" height=\"50\" fill=\"#CDE7EF\" stroke-width=\"2.0\" stroke=\"#D9D9D9\" />\n<use xlink:href=\"#tZlf369F8\" />\n<text font-size=\"17.5\" fill=\"#D9D9D9\" text-anchor=\"middle\"><textPath xlink:href=\"#tZlf369F8\" startOffset=\"50%\"></textPath></text>\n<use xlink:href=\"#tZlf369F9\" />\n<text font-size=\"15.0\" fill=\"#D9D9D9\" text-anchor=\"middle\"><textPath xlink:href=\"#tZlf369F9\" startOffset=\"50%\"></textPath></text>\n<rect x=\"-125.0\" y=\"-100.0\" width=\"50\" height=\"50\" fill=\"#CDE7EF\" stroke-width=\"2.0\" stroke=\"#D9D9D9\" />\n<use xlink:href=\"#tZlf369F10\" />\n<text font-size=\"17.5\" fill=\"#D9D9D9\" text-anchor=\"middle\"><textPath xlink:href=\"#tZlf369F10\" startOffset=\"50%\"></textPath></text>\n<use xlink:href=\"#tZlf369F11\" />\n<text font-size=\"15.0\" fill=\"#D9D9D9\" text-anchor=\"middle\"><textPath xlink:href=\"#tZlf369F11\" startOffset=\"50%\"></textPath></text>\n<circle cx=\"-200\" cy=\"-75.0\" r=\"25.0\" fill=\"#058F60\" stroke-width=\"2.0\" stroke=\"#000000\" />\n<use xlink:href=\"#tZlf369F12\" />\n<text font-size=\"17.5\" fill=\"#000000\" text-anchor=\"middle\"><textPath xlink:href=\"#tZlf369F12\" startOffset=\"50%\"></textPath></text>\n<use xlink:href=\"#tZlf369F13\" />\n<text font-size=\"15.0\" fill=\"#000000\" text-anchor=\"middle\"><textPath xlink:href=\"#tZlf369F13\" startOffset=\"50%\"></textPath></text>\n<circle cx=\"-300\" cy=\"0\" r=\"25.0\" fill=\"#058F60\" stroke-width=\"2.0\" stroke=\"#000000\" />\n<use xlink:href=\"#tZlf369F14\" />\n<text font-size=\"17.5\" fill=\"#000000\" text-anchor=\"middle\"><textPath xlink:href=\"#tZlf369F14\" startOffset=\"50%\"></textPath></text>\n<use xlink:href=\"#tZlf369F15\" />\n<text font-size=\"15.0\" fill=\"#000000\" text-anchor=\"middle\"><textPath xlink:href=\"#tZlf369F15\" startOffset=\"50%\"></textPath></text>\n<rect x=\"-425.0\" y=\"-25.0\" width=\"50\" height=\"50\" fill=\"#CDE7EF\" stroke-width=\"2.0\" stroke=\"#D9D9D9\" />\n<use xlink:href=\"#tZlf369F16\" />\n<text font-size=\"17.5\" fill=\"#D9D9D9\" text-anchor=\"middle\"><textPath xlink:href=\"#tZlf369F16\" startOffset=\"50%\"></textPath></text>\n<use xlink:href=\"#tZlf369F17\" />\n<text font-size=\"15.0\" fill=\"#D9D9D9\" text-anchor=\"middle\"><textPath xlink:href=\"#tZlf369F17\" startOffset=\"50%\"></textPath></text>\n<circle cx=\"-300\" cy=\"-150.0\" r=\"25.0\" fill=\"#058F60\" stroke-width=\"2.0\" stroke=\"#000000\" />\n<use xlink:href=\"#tZlf369F18\" />\n<text font-size=\"17.5\" fill=\"#000000\" text-anchor=\"middle\"><textPath xlink:href=\"#tZlf369F18\" startOffset=\"50%\"></textPath></text>\n<use xlink:href=\"#tZlf369F19\" />\n<text font-size=\"15.0\" fill=\"#000000\" text-anchor=\"middle\"><textPath xlink:href=\"#tZlf369F19\" startOffset=\"50%\"></textPath></text>\n<circle cx=\"-400\" cy=\"-100\" r=\"25.0\" fill=\"#058F60\" stroke-width=\"2.0\" stroke=\"#000000\" />\n<use xlink:href=\"#tZlf369F20\" />\n<text font-size=\"17.5\" fill=\"#000000\" text-anchor=\"middle\"><textPath xlink:href=\"#tZlf369F20\" startOffset=\"50%\"></textPath></text>\n<use xlink:href=\"#tZlf369F21\" />\n<text font-size=\"15.0\" fill=\"#000000\" text-anchor=\"middle\"><textPath xlink:href=\"#tZlf369F21\" startOffset=\"50%\"></textPath></text>\n<path d=\"M-25.0,-153.34936490538902 L0,-196.65063509461098 L25.0,-153.34936490538902 Z\" fill=\"#F7E0E0\" stroke=\"#D9D9D9\" stroke-width=\"2.0\" />\n<use xlink:href=\"#tZlf369F22\" />\n<text font-size=\"17.5\" text-anchor=\"middle\"><textPath xlink:href=\"#tZlf369F22\" startOffset=\"50%\"></textPath></text>\n<use xlink:href=\"#tZlf369F23\" />\n<text font-size=\"15.0\" fill=\"#D9D9D9\" text-anchor=\"middle\"><textPath xlink:href=\"#tZlf369F23\" startOffset=\"50%\"></textPath></text>\n<circle cx=\"-400\" cy=\"-200\" r=\"25.0\" fill=\"#058F60\" stroke-width=\"2.0\" stroke=\"#000000\" />\n<use xlink:href=\"#tZlf369F24\" />\n<text font-size=\"17.5\" fill=\"#000000\" text-anchor=\"middle\"><textPath xlink:href=\"#tZlf369F24\" startOffset=\"50%\"></textPath></text>\n<use xlink:href=\"#tZlf369F25\" />\n<text font-size=\"15.0\" fill=\"#000000\" text-anchor=\"middle\"><textPath xlink:href=\"#tZlf369F25\" startOffset=\"50%\"></textPath></text>\n</g>\n</svg>"
     },
     "execution_count": 101,
     "metadata": {},
     "output_type": "execute_result"
    }
   ],
   "execution_count": 101
  },
  {
   "metadata": {
    "ExecuteTime": {
     "end_time": "2024-12-11T15:48:12.392892Z",
     "start_time": "2024-12-11T15:48:12.386256Z"
    }
   },
   "cell_type": "code",
   "source": "GlycoDraw(\"Fuc(a1-2)Gal(b1-4)[Fuc(a1-3)]GlcNAc\", highlight_motif=\"Fuc\")",
   "id": "88281bcea8affff2",
   "outputs": [
    {
     "data": {
      "text/plain": [
       "<drawsvg.drawing.Drawing at 0x177e54920>"
      ],
      "image/svg+xml": "<?xml version=\"1.0\" encoding=\"UTF-8\"?>\n<svg xmlns=\"http://www.w3.org/2000/svg\" xmlns:xlink=\"http://www.w3.org/1999/xlink\"\n     width=\"200\" height=\"310\" viewBox=\"-150.0 -105.0 200 310\">\n<defs>\n<path d=\"M-100,0 L0,0\" stroke-width=\"4.0\" stroke=\"#D9D9D9\" id=\"miMwXai50\" />\n<path d=\"M-100,100 L-100,0\" stroke-width=\"4.0\" stroke=\"#D9D9D9\" id=\"miMwXai51\" />\n<path d=\"M0,100 L0,0\" stroke-width=\"4.0\" stroke=\"#D9D9D9\" id=\"miMwXai52\" />\n<path d=\"M-50,25.0 L50,25.0\" stroke-width=\"0\" id=\"miMwXai53\" />\n<path d=\"M-50,0 L50,0\" stroke-width=\"0\" id=\"miMwXai54\" />\n<path d=\"M-150,25.0 L-50,25.0\" stroke-width=\"0\" id=\"miMwXai55\" />\n<path d=\"M-150,0 L-50,0\" stroke-width=\"0\" id=\"miMwXai56\" />\n<path d=\"M-150,125.0 L-50,125.0\" stroke-width=\"0\" id=\"miMwXai57\" />\n<path d=\"M-150,100 L-50,100\" stroke-width=\"0\" id=\"miMwXai58\" />\n<path d=\"M-50,125.0 L50,125.0\" stroke-width=\"0\" id=\"miMwXai59\" />\n<path d=\"M-50,100 L50,100\" stroke-width=\"0\" id=\"miMwXai510\" />\n</defs>\n<g transform=\"rotate(0 -50.0 50.0)\">\n<use xlink:href=\"#miMwXai50\" />\n<text font-size=\"20.0\" text-anchor=\"middle\" fill=\"#D9D9D9\" valign=\"middle\"><textPath xlink:href=\"#miMwXai50\" startOffset=\"50%\">\n<tspan dy=\"-0.5em\">β 4</tspan>\n</textPath></text>\n<use xlink:href=\"#miMwXai51\" />\n<text font-size=\"20.0\" text-anchor=\"middle\" fill=\"#D9D9D9\" valign=\"middle\"><textPath xlink:href=\"#miMwXai51\" startOffset=\"50%\">\n<tspan dy=\"-0.5em\">α 2</tspan>\n</textPath></text>\n<use xlink:href=\"#miMwXai52\" />\n<text font-size=\"20.0\" text-anchor=\"middle\" fill=\"#D9D9D9\" valign=\"middle\"><textPath xlink:href=\"#miMwXai52\" startOffset=\"50%\">\n<tspan dy=\"-0.5em\">α 3</tspan>\n</textPath></text>\n<rect x=\"-25.0\" y=\"-25.0\" width=\"50\" height=\"50\" fill=\"#CDE7EF\" stroke-width=\"2.0\" stroke=\"#D9D9D9\" />\n<use xlink:href=\"#miMwXai53\" />\n<text font-size=\"17.5\" fill=\"#D9D9D9\" text-anchor=\"middle\"><textPath xlink:href=\"#miMwXai53\" startOffset=\"50%\"></textPath></text>\n<use xlink:href=\"#miMwXai54\" />\n<text font-size=\"15.0\" fill=\"#D9D9D9\" text-anchor=\"middle\"><textPath xlink:href=\"#miMwXai54\" startOffset=\"50%\"></textPath></text>\n<circle cx=\"-100\" cy=\"0\" r=\"25.0\" fill=\"#FFF6DE\" stroke-width=\"2.0\" stroke=\"#D9D9D9\" />\n<use xlink:href=\"#miMwXai55\" />\n<text font-size=\"17.5\" fill=\"#D9D9D9\" text-anchor=\"middle\"><textPath xlink:href=\"#miMwXai55\" startOffset=\"50%\"></textPath></text>\n<use xlink:href=\"#miMwXai56\" />\n<text font-size=\"15.0\" fill=\"#D9D9D9\" text-anchor=\"middle\"><textPath xlink:href=\"#miMwXai56\" startOffset=\"50%\"></textPath></text>\n<path d=\"M-125.0,121.65063509461096 L-100,78.34936490538904 L-75.0,121.65063509461096 Z\" fill=\"#C23537\" stroke=\"#000000\" stroke-width=\"2.0\" />\n<use xlink:href=\"#miMwXai57\" />\n<text font-size=\"17.5\" text-anchor=\"middle\"><textPath xlink:href=\"#miMwXai57\" startOffset=\"50%\"></textPath></text>\n<use xlink:href=\"#miMwXai58\" />\n<text font-size=\"15.0\" fill=\"#000000\" text-anchor=\"middle\"><textPath xlink:href=\"#miMwXai58\" startOffset=\"50%\"></textPath></text>\n<path d=\"M-25.0,121.65063509461096 L0,78.34936490538904 L25.0,121.65063509461096 Z\" fill=\"#C23537\" stroke=\"#000000\" stroke-width=\"2.0\" />\n<use xlink:href=\"#miMwXai59\" />\n<text font-size=\"17.5\" text-anchor=\"middle\"><textPath xlink:href=\"#miMwXai59\" startOffset=\"50%\"></textPath></text>\n<use xlink:href=\"#miMwXai510\" />\n<text font-size=\"15.0\" fill=\"#000000\" text-anchor=\"middle\"><textPath xlink:href=\"#miMwXai510\" startOffset=\"50%\"></textPath></text>\n</g>\n</svg>"
     },
     "execution_count": 102,
     "metadata": {},
     "output_type": "execute_result"
    }
   ],
   "execution_count": 102
  },
  {
   "metadata": {
    "ExecuteTime": {
     "end_time": "2024-12-11T15:58:39.261963Z",
     "start_time": "2024-12-11T15:58:39.252363Z"
    }
   },
   "cell_type": "code",
   "source": "GlycoDraw(\"Neu5Ac(a2-3)Gal(b1-4)[Fuc(a1-3)]GlcNAc(b1-6)[Neu5Ac(a2-3)Gal(b1-3)]GalNAc\", highlight_motif=\"Neu5Ac\")",
   "id": "1b2040c5bf6f6d95",
   "outputs": [
    {
     "data": {
      "text/plain": [
       "<drawsvg.drawing.Drawing at 0x3172bcbc0>"
      ],
      "image/svg+xml": "<?xml version=\"1.0\" encoding=\"UTF-8\"?>\n<svg xmlns=\"http://www.w3.org/2000/svg\" xmlns:xlink=\"http://www.w3.org/1999/xlink\"\n     width=\"400\" height=\"510\" viewBox=\"-350.0 -355.0 400 510\">\n<defs>\n<path d=\"M-100,0 L0,-100.0\" stroke-width=\"4.0\" stroke=\"#D9D9D9\" id=\"iS2cQp1q0\" />\n<path d=\"M-200,0 L-100,0\" stroke-width=\"4.0\" stroke=\"#D9D9D9\" id=\"iS2cQp1q1\" />\n<path d=\"M-200,-200 L-100,-200\" stroke-width=\"4.0\" stroke=\"#D9D9D9\" id=\"iS2cQp1q2\" />\n<path d=\"M-300,-200 L-200,-200\" stroke-width=\"4.0\" stroke=\"#D9D9D9\" id=\"iS2cQp1q3\" />\n<path d=\"M-100,-200 L0,-100.0\" stroke-width=\"4.0\" stroke=\"#D9D9D9\" id=\"iS2cQp1q4\" />\n<path d=\"M-100,-100 L-100,-200\" stroke-width=\"4.0\" stroke=\"#D9D9D9\" id=\"iS2cQp1q5\" />\n<path d=\"M-50,-75.0 L50,-75.0\" stroke-width=\"0\" id=\"iS2cQp1q6\" />\n<path d=\"M-50,-100.0 L50,-100.0\" stroke-width=\"0\" id=\"iS2cQp1q7\" />\n<path d=\"M-150,25.0 L-50,25.0\" stroke-width=\"0\" id=\"iS2cQp1q8\" />\n<path d=\"M-150,0 L-50,0\" stroke-width=\"0\" id=\"iS2cQp1q9\" />\n<path d=\"M-250,25.0 L-150,25.0\" stroke-width=\"0\" id=\"iS2cQp1q10\" />\n<path d=\"M-250,0 L-150,0\" stroke-width=\"0\" id=\"iS2cQp1q11\" />\n<path d=\"M-150,-175.0 L-50,-175.0\" stroke-width=\"0\" id=\"iS2cQp1q12\" />\n<path d=\"M-150,-200 L-50,-200\" stroke-width=\"0\" id=\"iS2cQp1q13\" />\n<path d=\"M-250,-175.0 L-150,-175.0\" stroke-width=\"0\" id=\"iS2cQp1q14\" />\n<path d=\"M-250,-200 L-150,-200\" stroke-width=\"0\" id=\"iS2cQp1q15\" />\n<path d=\"M-350,-175.0 L-250,-175.0\" stroke-width=\"0\" id=\"iS2cQp1q16\" />\n<path d=\"M-350,-200 L-250,-200\" stroke-width=\"0\" id=\"iS2cQp1q17\" />\n<path d=\"M-150,-75.0 L-50,-75.0\" stroke-width=\"0\" id=\"iS2cQp1q18\" />\n<path d=\"M-150,-100 L-50,-100\" stroke-width=\"0\" id=\"iS2cQp1q19\" />\n</defs>\n<g transform=\"rotate(0 -150.0 -100.0)\">\n<use xlink:href=\"#iS2cQp1q0\" />\n<text font-size=\"20.0\" text-anchor=\"middle\" fill=\"#D9D9D9\" valign=\"middle\"><textPath xlink:href=\"#iS2cQp1q0\" startOffset=\"50%\">\n<tspan dy=\"-0.5em\">β 3</tspan>\n</textPath></text>\n<use xlink:href=\"#iS2cQp1q1\" />\n<text font-size=\"20.0\" text-anchor=\"middle\" fill=\"#D9D9D9\" valign=\"middle\"><textPath xlink:href=\"#iS2cQp1q1\" startOffset=\"50%\">\n<tspan dy=\"-0.5em\">α 3</tspan>\n</textPath></text>\n<use xlink:href=\"#iS2cQp1q2\" />\n<text font-size=\"20.0\" text-anchor=\"middle\" fill=\"#D9D9D9\" valign=\"middle\"><textPath xlink:href=\"#iS2cQp1q2\" startOffset=\"50%\">\n<tspan dy=\"-0.5em\">β 4</tspan>\n</textPath></text>\n<use xlink:href=\"#iS2cQp1q3\" />\n<text font-size=\"20.0\" text-anchor=\"middle\" fill=\"#D9D9D9\" valign=\"middle\"><textPath xlink:href=\"#iS2cQp1q3\" startOffset=\"50%\">\n<tspan dy=\"-0.5em\">α 3</tspan>\n</textPath></text>\n<use xlink:href=\"#iS2cQp1q4\" />\n<text font-size=\"20.0\" text-anchor=\"middle\" fill=\"#D9D9D9\" valign=\"middle\"><textPath xlink:href=\"#iS2cQp1q4\" startOffset=\"50%\">\n<tspan dy=\"-0.5em\">β 6</tspan>\n</textPath></text>\n<use xlink:href=\"#iS2cQp1q5\" />\n<text font-size=\"20.0\" text-anchor=\"middle\" fill=\"#D9D9D9\" valign=\"middle\"><textPath xlink:href=\"#iS2cQp1q5\" startOffset=\"50%\">\n<tspan dy=\"-0.5em\">α 3</tspan>\n</textPath></text>\n<rect x=\"-25.0\" y=\"-125.0\" width=\"50\" height=\"50\" fill=\"#FFF6DE\" stroke-width=\"2.0\" stroke=\"#D9D9D9\" />\n<use xlink:href=\"#iS2cQp1q6\" />\n<text font-size=\"17.5\" fill=\"#D9D9D9\" text-anchor=\"middle\"><textPath xlink:href=\"#iS2cQp1q6\" startOffset=\"50%\"></textPath></text>\n<use xlink:href=\"#iS2cQp1q7\" />\n<text font-size=\"15.0\" fill=\"#D9D9D9\" text-anchor=\"middle\"><textPath xlink:href=\"#iS2cQp1q7\" startOffset=\"50%\"></textPath></text>\n<circle cx=\"-100\" cy=\"0\" r=\"25.0\" fill=\"#FFF6DE\" stroke-width=\"2.0\" stroke=\"#D9D9D9\" />\n<use xlink:href=\"#iS2cQp1q8\" />\n<text font-size=\"17.5\" fill=\"#D9D9D9\" text-anchor=\"middle\"><textPath xlink:href=\"#iS2cQp1q8\" startOffset=\"50%\"></textPath></text>\n<use xlink:href=\"#iS2cQp1q9\" />\n<text font-size=\"15.0\" fill=\"#D9D9D9\" text-anchor=\"middle\"><textPath xlink:href=\"#iS2cQp1q9\" startOffset=\"50%\"></textPath></text>\n<path d=\"M-200,25.0 L-175.0,0 L-200,-25.0 L-225.0,0 Z\" fill=\"#A15989\" stroke=\"#000000\" stroke-width=\"2.0\" />\n<use xlink:href=\"#iS2cQp1q10\" />\n<text font-size=\"17.5\" fill=\"#000000\" text-anchor=\"middle\"><textPath xlink:href=\"#iS2cQp1q10\" startOffset=\"50%\"></textPath></text>\n<use xlink:href=\"#iS2cQp1q11\" />\n<text font-size=\"15.0\" fill=\"#000000\" text-anchor=\"middle\"><textPath xlink:href=\"#iS2cQp1q11\" startOffset=\"50%\"></textPath></text>\n<rect x=\"-125.0\" y=\"-225.0\" width=\"50\" height=\"50\" fill=\"#CDE7EF\" stroke-width=\"2.0\" stroke=\"#D9D9D9\" />\n<use xlink:href=\"#iS2cQp1q12\" />\n<text font-size=\"17.5\" fill=\"#D9D9D9\" text-anchor=\"middle\"><textPath xlink:href=\"#iS2cQp1q12\" startOffset=\"50%\"></textPath></text>\n<use xlink:href=\"#iS2cQp1q13\" />\n<text font-size=\"15.0\" fill=\"#D9D9D9\" text-anchor=\"middle\"><textPath xlink:href=\"#iS2cQp1q13\" startOffset=\"50%\"></textPath></text>\n<circle cx=\"-200\" cy=\"-200\" r=\"25.0\" fill=\"#FFF6DE\" stroke-width=\"2.0\" stroke=\"#D9D9D9\" />\n<use xlink:href=\"#iS2cQp1q14\" />\n<text font-size=\"17.5\" fill=\"#D9D9D9\" text-anchor=\"middle\"><textPath xlink:href=\"#iS2cQp1q14\" startOffset=\"50%\"></textPath></text>\n<use xlink:href=\"#iS2cQp1q15\" />\n<text font-size=\"15.0\" fill=\"#D9D9D9\" text-anchor=\"middle\"><textPath xlink:href=\"#iS2cQp1q15\" startOffset=\"50%\"></textPath></text>\n<path d=\"M-300,-175.0 L-275.0,-200 L-300,-225.0 L-325.0,-200 Z\" fill=\"#A15989\" stroke=\"#000000\" stroke-width=\"2.0\" />\n<use xlink:href=\"#iS2cQp1q16\" />\n<text font-size=\"17.5\" fill=\"#000000\" text-anchor=\"middle\"><textPath xlink:href=\"#iS2cQp1q16\" startOffset=\"50%\"></textPath></text>\n<use xlink:href=\"#iS2cQp1q17\" />\n<text font-size=\"15.0\" fill=\"#000000\" text-anchor=\"middle\"><textPath xlink:href=\"#iS2cQp1q17\" startOffset=\"50%\"></textPath></text>\n<path d=\"M-125.0,-78.34936490538904 L-100,-121.65063509461096 L-75.0,-78.34936490538904 Z\" fill=\"#F7E0E0\" stroke=\"#D9D9D9\" stroke-width=\"2.0\" />\n<use xlink:href=\"#iS2cQp1q18\" />\n<text font-size=\"17.5\" text-anchor=\"middle\"><textPath xlink:href=\"#iS2cQp1q18\" startOffset=\"50%\"></textPath></text>\n<use xlink:href=\"#iS2cQp1q19\" />\n<text font-size=\"15.0\" fill=\"#D9D9D9\" text-anchor=\"middle\"><textPath xlink:href=\"#iS2cQp1q19\" startOffset=\"50%\"></textPath></text>\n</g>\n</svg>"
     },
     "execution_count": 103,
     "metadata": {},
     "output_type": "execute_result"
    }
   ],
   "execution_count": 103
  },
  {
   "metadata": {
    "ExecuteTime": {
     "end_time": "2024-12-14T17:23:04.616464Z",
     "start_time": "2024-12-14T17:23:04.606912Z"
    }
   },
   "cell_type": "code",
   "source": "GlycoDraw(\"Fuc(a1-2)[Gal(a1-3)]Gal(b1-4)GlcNAc(b1-3)[Fuc(a1-2)[Gal(a1-3)]Gal(b1-4)GlcNAc(b1-6)]GalNAc\")",
   "id": "34d409bfcd3f1",
   "outputs": [
    {
     "data": {
      "text/plain": [
       "<drawsvg.drawing.Drawing at 0x3170dade0>"
      ],
      "image/svg+xml": "<?xml version=\"1.0\" encoding=\"UTF-8\"?>\n<svg xmlns=\"http://www.w3.org/2000/svg\" xmlns:xlink=\"http://www.w3.org/1999/xlink\"\n     width=\"400\" height=\"510.0\" viewBox=\"-350.0 -305.0 400 510.0\">\n<defs>\n<path d=\"M-100,0.0 L0,-100.0\" stroke-width=\"4.0\" stroke=\"#000000\" id=\"WOlDbNwo0\" />\n<path d=\"M-200,0.0 L-100,0.0\" stroke-width=\"4.0\" stroke=\"#000000\" id=\"WOlDbNwo1\" />\n<path d=\"M-200,100.0 L-200,0.0\" stroke-width=\"4.0\" stroke=\"#000000\" id=\"WOlDbNwo2\" />\n<path d=\"M-200,-200 L-100,-200\" stroke-width=\"4.0\" stroke=\"#000000\" id=\"WOlDbNwo3\" />\n<path d=\"M-200,-100 L-200,-200\" stroke-width=\"4.0\" stroke=\"#000000\" id=\"WOlDbNwo4\" />\n<path d=\"M-300,0 L-200,0.0\" stroke-width=\"4.0\" stroke=\"#000000\" id=\"WOlDbNwo5\" />\n<path d=\"M-100,-200 L0,-100.0\" stroke-width=\"4.0\" stroke=\"#000000\" id=\"WOlDbNwo6\" />\n<path d=\"M-300,-200.0 L-200,-200\" stroke-width=\"4.0\" stroke=\"#000000\" id=\"WOlDbNwo7\" />\n<path d=\"M-50,-75.0 L50,-75.0\" stroke-width=\"0\" id=\"WOlDbNwo8\" />\n<path d=\"M-50,-100.0 L50,-100.0\" stroke-width=\"0\" id=\"WOlDbNwo9\" />\n<path d=\"M-150,25.0 L-50,25.0\" stroke-width=\"0\" id=\"WOlDbNwo10\" />\n<path d=\"M-150,0.0 L-50,0.0\" stroke-width=\"0\" id=\"WOlDbNwo11\" />\n<path d=\"M-250,25.0 L-150,25.0\" stroke-width=\"0\" id=\"WOlDbNwo12\" />\n<path d=\"M-250,0.0 L-150,0.0\" stroke-width=\"0\" id=\"WOlDbNwo13\" />\n<path d=\"M-250,125.0 L-150,125.0\" stroke-width=\"0\" id=\"WOlDbNwo14\" />\n<path d=\"M-250,100.0 L-150,100.0\" stroke-width=\"0\" id=\"WOlDbNwo15\" />\n<path d=\"M-350,25.0 L-250,25.0\" stroke-width=\"0\" id=\"WOlDbNwo16\" />\n<path d=\"M-350,0 L-250,0\" stroke-width=\"0\" id=\"WOlDbNwo17\" />\n<path d=\"M-150,-175.0 L-50,-175.0\" stroke-width=\"0\" id=\"WOlDbNwo18\" />\n<path d=\"M-150,-200 L-50,-200\" stroke-width=\"0\" id=\"WOlDbNwo19\" />\n<path d=\"M-250,-175.0 L-150,-175.0\" stroke-width=\"0\" id=\"WOlDbNwo20\" />\n<path d=\"M-250,-200 L-150,-200\" stroke-width=\"0\" id=\"WOlDbNwo21\" />\n<path d=\"M-250,-75.0 L-150,-75.0\" stroke-width=\"0\" id=\"WOlDbNwo22\" />\n<path d=\"M-250,-100 L-150,-100\" stroke-width=\"0\" id=\"WOlDbNwo23\" />\n<path d=\"M-350,-175.0 L-250,-175.0\" stroke-width=\"0\" id=\"WOlDbNwo24\" />\n<path d=\"M-350,-200.0 L-250,-200.0\" stroke-width=\"0\" id=\"WOlDbNwo25\" />\n</defs>\n<g transform=\"rotate(0 -150.0 -50.0)\">\n<use xlink:href=\"#WOlDbNwo0\" />\n<text font-size=\"20.0\" text-anchor=\"middle\" fill=\"#000000\" valign=\"middle\"><textPath xlink:href=\"#WOlDbNwo0\" startOffset=\"50%\">\n<tspan dy=\"-0.5em\">β 3</tspan>\n</textPath></text>\n<use xlink:href=\"#WOlDbNwo1\" />\n<text font-size=\"20.0\" text-anchor=\"middle\" fill=\"#000000\" valign=\"middle\"><textPath xlink:href=\"#WOlDbNwo1\" startOffset=\"50%\">\n<tspan dy=\"-0.5em\">β 4</tspan>\n</textPath></text>\n<use xlink:href=\"#WOlDbNwo2\" />\n<text font-size=\"20.0\" text-anchor=\"middle\" fill=\"#000000\" valign=\"middle\"><textPath xlink:href=\"#WOlDbNwo2\" startOffset=\"50%\">\n<tspan dy=\"-0.5em\">α 2</tspan>\n</textPath></text>\n<use xlink:href=\"#WOlDbNwo3\" />\n<text font-size=\"20.0\" text-anchor=\"middle\" fill=\"#000000\" valign=\"middle\"><textPath xlink:href=\"#WOlDbNwo3\" startOffset=\"50%\">\n<tspan dy=\"-0.5em\">β 4</tspan>\n</textPath></text>\n<use xlink:href=\"#WOlDbNwo4\" />\n<text font-size=\"20.0\" text-anchor=\"middle\" fill=\"#000000\" valign=\"middle\"><textPath xlink:href=\"#WOlDbNwo4\" startOffset=\"50%\">\n<tspan dy=\"-0.5em\">α 2</tspan>\n</textPath></text>\n<use xlink:href=\"#WOlDbNwo5\" />\n<text font-size=\"20.0\" text-anchor=\"middle\" fill=\"#000000\" valign=\"middle\"><textPath xlink:href=\"#WOlDbNwo5\" startOffset=\"50%\">\n<tspan dy=\"-0.5em\">α 3</tspan>\n</textPath></text>\n<use xlink:href=\"#WOlDbNwo6\" />\n<text font-size=\"20.0\" text-anchor=\"middle\" fill=\"#000000\" valign=\"middle\"><textPath xlink:href=\"#WOlDbNwo6\" startOffset=\"50%\">\n<tspan dy=\"-0.5em\">β 6</tspan>\n</textPath></text>\n<use xlink:href=\"#WOlDbNwo7\" />\n<text font-size=\"20.0\" text-anchor=\"middle\" fill=\"#000000\" valign=\"middle\"><textPath xlink:href=\"#WOlDbNwo7\" startOffset=\"50%\">\n<tspan dy=\"-0.5em\">α 3</tspan>\n</textPath></text>\n<rect x=\"-25.0\" y=\"-125.0\" width=\"50\" height=\"50\" fill=\"#FCC326\" stroke-width=\"2.0\" stroke=\"#000000\" />\n<use xlink:href=\"#WOlDbNwo8\" />\n<text font-size=\"17.5\" fill=\"#000000\" text-anchor=\"middle\"><textPath xlink:href=\"#WOlDbNwo8\" startOffset=\"50%\"></textPath></text>\n<use xlink:href=\"#WOlDbNwo9\" />\n<text font-size=\"15.0\" fill=\"#000000\" text-anchor=\"middle\"><textPath xlink:href=\"#WOlDbNwo9\" startOffset=\"50%\"></textPath></text>\n<rect x=\"-125.0\" y=\"-25.0\" width=\"50\" height=\"50\" fill=\"#0385AE\" stroke-width=\"2.0\" stroke=\"#000000\" />\n<use xlink:href=\"#WOlDbNwo10\" />\n<text font-size=\"17.5\" fill=\"#000000\" text-anchor=\"middle\"><textPath xlink:href=\"#WOlDbNwo10\" startOffset=\"50%\"></textPath></text>\n<use xlink:href=\"#WOlDbNwo11\" />\n<text font-size=\"15.0\" fill=\"#000000\" text-anchor=\"middle\"><textPath xlink:href=\"#WOlDbNwo11\" startOffset=\"50%\"></textPath></text>\n<circle cx=\"-200\" cy=\"0.0\" r=\"25.0\" fill=\"#FCC326\" stroke-width=\"2.0\" stroke=\"#000000\" />\n<use xlink:href=\"#WOlDbNwo12\" />\n<text font-size=\"17.5\" fill=\"#000000\" text-anchor=\"middle\"><textPath xlink:href=\"#WOlDbNwo12\" startOffset=\"50%\"></textPath></text>\n<use xlink:href=\"#WOlDbNwo13\" />\n<text font-size=\"15.0\" fill=\"#000000\" text-anchor=\"middle\"><textPath xlink:href=\"#WOlDbNwo13\" startOffset=\"50%\"></textPath></text>\n<path d=\"M-225.0,121.65063509461096 L-200,78.34936490538904 L-175.0,121.65063509461096 Z\" fill=\"#C23537\" stroke=\"#000000\" stroke-width=\"2.0\" />\n<use xlink:href=\"#WOlDbNwo14\" />\n<text font-size=\"17.5\" text-anchor=\"middle\"><textPath xlink:href=\"#WOlDbNwo14\" startOffset=\"50%\"></textPath></text>\n<use xlink:href=\"#WOlDbNwo15\" />\n<text font-size=\"15.0\" fill=\"#000000\" text-anchor=\"middle\"><textPath xlink:href=\"#WOlDbNwo15\" startOffset=\"50%\"></textPath></text>\n<circle cx=\"-300\" cy=\"0\" r=\"25.0\" fill=\"#FCC326\" stroke-width=\"2.0\" stroke=\"#000000\" />\n<use xlink:href=\"#WOlDbNwo16\" />\n<text font-size=\"17.5\" fill=\"#000000\" text-anchor=\"middle\"><textPath xlink:href=\"#WOlDbNwo16\" startOffset=\"50%\"></textPath></text>\n<use xlink:href=\"#WOlDbNwo17\" />\n<text font-size=\"15.0\" fill=\"#000000\" text-anchor=\"middle\"><textPath xlink:href=\"#WOlDbNwo17\" startOffset=\"50%\"></textPath></text>\n<rect x=\"-125.0\" y=\"-225.0\" width=\"50\" height=\"50\" fill=\"#0385AE\" stroke-width=\"2.0\" stroke=\"#000000\" />\n<use xlink:href=\"#WOlDbNwo18\" />\n<text font-size=\"17.5\" fill=\"#000000\" text-anchor=\"middle\"><textPath xlink:href=\"#WOlDbNwo18\" startOffset=\"50%\"></textPath></text>\n<use xlink:href=\"#WOlDbNwo19\" />\n<text font-size=\"15.0\" fill=\"#000000\" text-anchor=\"middle\"><textPath xlink:href=\"#WOlDbNwo19\" startOffset=\"50%\"></textPath></text>\n<circle cx=\"-200\" cy=\"-200\" r=\"25.0\" fill=\"#FCC326\" stroke-width=\"2.0\" stroke=\"#000000\" />\n<use xlink:href=\"#WOlDbNwo20\" />\n<text font-size=\"17.5\" fill=\"#000000\" text-anchor=\"middle\"><textPath xlink:href=\"#WOlDbNwo20\" startOffset=\"50%\"></textPath></text>\n<use xlink:href=\"#WOlDbNwo21\" />\n<text font-size=\"15.0\" fill=\"#000000\" text-anchor=\"middle\"><textPath xlink:href=\"#WOlDbNwo21\" startOffset=\"50%\"></textPath></text>\n<path d=\"M-225.0,-78.34936490538904 L-200,-121.65063509461096 L-175.0,-78.34936490538904 Z\" fill=\"#C23537\" stroke=\"#000000\" stroke-width=\"2.0\" />\n<use xlink:href=\"#WOlDbNwo22\" />\n<text font-size=\"17.5\" text-anchor=\"middle\"><textPath xlink:href=\"#WOlDbNwo22\" startOffset=\"50%\"></textPath></text>\n<use xlink:href=\"#WOlDbNwo23\" />\n<text font-size=\"15.0\" fill=\"#000000\" text-anchor=\"middle\"><textPath xlink:href=\"#WOlDbNwo23\" startOffset=\"50%\"></textPath></text>\n<circle cx=\"-300\" cy=\"-200.0\" r=\"25.0\" fill=\"#FCC326\" stroke-width=\"2.0\" stroke=\"#000000\" />\n<use xlink:href=\"#WOlDbNwo24\" />\n<text font-size=\"17.5\" fill=\"#000000\" text-anchor=\"middle\"><textPath xlink:href=\"#WOlDbNwo24\" startOffset=\"50%\"></textPath></text>\n<use xlink:href=\"#WOlDbNwo25\" />\n<text font-size=\"15.0\" fill=\"#000000\" text-anchor=\"middle\"><textPath xlink:href=\"#WOlDbNwo25\" startOffset=\"50%\"></textPath></text>\n</g>\n</svg>"
     },
     "execution_count": 104,
     "metadata": {},
     "output_type": "execute_result"
    }
   ],
   "execution_count": 104
  },
  {
   "metadata": {
    "ExecuteTime": {
     "end_time": "2024-12-15T20:11:08.628742Z",
     "start_time": "2024-12-15T20:11:08.616730Z"
    }
   },
   "cell_type": "code",
   "source": "GlycoDraw(\"Fuc(a1-2)Gal(b1-4)[Fuc(a1-3)]GlcNAc(b1-3)[Fuc(a1-3)[Gal(b1-4)]GlcNAc(b1-6)]Gal(b1-4)Glc\")",
   "id": "d0df3f64e5428d6d",
   "outputs": [
    {
     "data": {
      "text/plain": [
       "<drawsvg.drawing.Drawing at 0x316fa7170>"
      ],
      "image/svg+xml": "<?xml version=\"1.0\" encoding=\"UTF-8\"?>\n<svg xmlns=\"http://www.w3.org/2000/svg\" xmlns:xlink=\"http://www.w3.org/1999/xlink\"\n     width=\"400\" height=\"510\" viewBox=\"-350.0 -305.0 400 510\">\n<defs>\n<path d=\"M-100,-100.0 L0,-100.0\" stroke-width=\"4.0\" stroke=\"#000000\" id=\"w22ZJj6e0\" />\n<path d=\"M-200,0 L-100,-100.0\" stroke-width=\"4.0\" stroke=\"#000000\" id=\"w22ZJj6e1\" />\n<path d=\"M-300,0 L-200,0\" stroke-width=\"4.0\" stroke=\"#000000\" id=\"w22ZJj6e2\" />\n<path d=\"M-300,100 L-300,0\" stroke-width=\"4.0\" stroke=\"#000000\" id=\"w22ZJj6e3\" />\n<path d=\"M-200,-100 L-200,-200\" stroke-width=\"4.0\" stroke=\"#000000\" id=\"w22ZJj6e4\" />\n<path d=\"M-200,100 L-200,0\" stroke-width=\"4.0\" stroke=\"#000000\" id=\"w22ZJj6e5\" />\n<path d=\"M-200,-200 L-100,-100.0\" stroke-width=\"4.0\" stroke=\"#000000\" id=\"w22ZJj6e6\" />\n<path d=\"M-300,-200 L-200,-200\" stroke-width=\"4.0\" stroke=\"#000000\" id=\"w22ZJj6e7\" />\n<path d=\"M-50,-75.0 L50,-75.0\" stroke-width=\"0\" id=\"w22ZJj6e8\" />\n<path d=\"M-50,-100.0 L50,-100.0\" stroke-width=\"0\" id=\"w22ZJj6e9\" />\n<path d=\"M-150,-75.0 L-50,-75.0\" stroke-width=\"0\" id=\"w22ZJj6e10\" />\n<path d=\"M-150,-100.0 L-50,-100.0\" stroke-width=\"0\" id=\"w22ZJj6e11\" />\n<path d=\"M-250,25.0 L-150,25.0\" stroke-width=\"0\" id=\"w22ZJj6e12\" />\n<path d=\"M-250,0 L-150,0\" stroke-width=\"0\" id=\"w22ZJj6e13\" />\n<path d=\"M-350,25.0 L-250,25.0\" stroke-width=\"0\" id=\"w22ZJj6e14\" />\n<path d=\"M-350,0 L-250,0\" stroke-width=\"0\" id=\"w22ZJj6e15\" />\n<path d=\"M-350,125.0 L-250,125.0\" stroke-width=\"0\" id=\"w22ZJj6e16\" />\n<path d=\"M-350,100 L-250,100\" stroke-width=\"0\" id=\"w22ZJj6e17\" />\n<path d=\"M-250,125.0 L-150,125.0\" stroke-width=\"0\" id=\"w22ZJj6e18\" />\n<path d=\"M-250,100 L-150,100\" stroke-width=\"0\" id=\"w22ZJj6e19\" />\n<path d=\"M-250,-175.0 L-150,-175.0\" stroke-width=\"0\" id=\"w22ZJj6e20\" />\n<path d=\"M-250,-200 L-150,-200\" stroke-width=\"0\" id=\"w22ZJj6e21\" />\n<path d=\"M-250,-75.0 L-150,-75.0\" stroke-width=\"0\" id=\"w22ZJj6e22\" />\n<path d=\"M-250,-100 L-150,-100\" stroke-width=\"0\" id=\"w22ZJj6e23\" />\n<path d=\"M-350,-175.0 L-250,-175.0\" stroke-width=\"0\" id=\"w22ZJj6e24\" />\n<path d=\"M-350,-200 L-250,-200\" stroke-width=\"0\" id=\"w22ZJj6e25\" />\n</defs>\n<g transform=\"rotate(0 -150.0 -50.0)\">\n<use xlink:href=\"#w22ZJj6e0\" />\n<text font-size=\"20.0\" text-anchor=\"middle\" fill=\"#000000\" valign=\"middle\"><textPath xlink:href=\"#w22ZJj6e0\" startOffset=\"50%\">\n<tspan dy=\"-0.5em\">β 4</tspan>\n</textPath></text>\n<use xlink:href=\"#w22ZJj6e1\" />\n<text font-size=\"20.0\" text-anchor=\"middle\" fill=\"#000000\" valign=\"middle\"><textPath xlink:href=\"#w22ZJj6e1\" startOffset=\"50%\">\n<tspan dy=\"-0.5em\">β 3</tspan>\n</textPath></text>\n<use xlink:href=\"#w22ZJj6e2\" />\n<text font-size=\"20.0\" text-anchor=\"middle\" fill=\"#000000\" valign=\"middle\"><textPath xlink:href=\"#w22ZJj6e2\" startOffset=\"50%\">\n<tspan dy=\"-0.5em\">β 4</tspan>\n</textPath></text>\n<use xlink:href=\"#w22ZJj6e3\" />\n<text font-size=\"20.0\" text-anchor=\"middle\" fill=\"#000000\" valign=\"middle\"><textPath xlink:href=\"#w22ZJj6e3\" startOffset=\"50%\">\n<tspan dy=\"-0.5em\">α 2</tspan>\n</textPath></text>\n<use xlink:href=\"#w22ZJj6e4\" />\n<text font-size=\"20.0\" text-anchor=\"middle\" fill=\"#000000\" valign=\"middle\"><textPath xlink:href=\"#w22ZJj6e4\" startOffset=\"50%\">\n<tspan dy=\"-0.5em\">α 3</tspan>\n</textPath></text>\n<use xlink:href=\"#w22ZJj6e5\" />\n<text font-size=\"20.0\" text-anchor=\"middle\" fill=\"#000000\" valign=\"middle\"><textPath xlink:href=\"#w22ZJj6e5\" startOffset=\"50%\">\n<tspan dy=\"-0.5em\">α 3</tspan>\n</textPath></text>\n<use xlink:href=\"#w22ZJj6e6\" />\n<text font-size=\"20.0\" text-anchor=\"middle\" fill=\"#000000\" valign=\"middle\"><textPath xlink:href=\"#w22ZJj6e6\" startOffset=\"50%\">\n<tspan dy=\"-0.5em\">β 6</tspan>\n</textPath></text>\n<use xlink:href=\"#w22ZJj6e7\" />\n<text font-size=\"20.0\" text-anchor=\"middle\" fill=\"#000000\" valign=\"middle\"><textPath xlink:href=\"#w22ZJj6e7\" startOffset=\"50%\">\n<tspan dy=\"-0.5em\">β 4</tspan>\n</textPath></text>\n<circle cx=\"0\" cy=\"-100.0\" r=\"25.0\" fill=\"#0385AE\" stroke-width=\"2.0\" stroke=\"#000000\" />\n<use xlink:href=\"#w22ZJj6e8\" />\n<text font-size=\"17.5\" fill=\"#000000\" text-anchor=\"middle\"><textPath xlink:href=\"#w22ZJj6e8\" startOffset=\"50%\"></textPath></text>\n<use xlink:href=\"#w22ZJj6e9\" />\n<text font-size=\"15.0\" fill=\"#000000\" text-anchor=\"middle\"><textPath xlink:href=\"#w22ZJj6e9\" startOffset=\"50%\"></textPath></text>\n<circle cx=\"-100\" cy=\"-100.0\" r=\"25.0\" fill=\"#FCC326\" stroke-width=\"2.0\" stroke=\"#000000\" />\n<use xlink:href=\"#w22ZJj6e10\" />\n<text font-size=\"17.5\" fill=\"#000000\" text-anchor=\"middle\"><textPath xlink:href=\"#w22ZJj6e10\" startOffset=\"50%\"></textPath></text>\n<use xlink:href=\"#w22ZJj6e11\" />\n<text font-size=\"15.0\" fill=\"#000000\" text-anchor=\"middle\"><textPath xlink:href=\"#w22ZJj6e11\" startOffset=\"50%\"></textPath></text>\n<rect x=\"-225.0\" y=\"-25.0\" width=\"50\" height=\"50\" fill=\"#0385AE\" stroke-width=\"2.0\" stroke=\"#000000\" />\n<use xlink:href=\"#w22ZJj6e12\" />\n<text font-size=\"17.5\" fill=\"#000000\" text-anchor=\"middle\"><textPath xlink:href=\"#w22ZJj6e12\" startOffset=\"50%\"></textPath></text>\n<use xlink:href=\"#w22ZJj6e13\" />\n<text font-size=\"15.0\" fill=\"#000000\" text-anchor=\"middle\"><textPath xlink:href=\"#w22ZJj6e13\" startOffset=\"50%\"></textPath></text>\n<circle cx=\"-300\" cy=\"0\" r=\"25.0\" fill=\"#FCC326\" stroke-width=\"2.0\" stroke=\"#000000\" />\n<use xlink:href=\"#w22ZJj6e14\" />\n<text font-size=\"17.5\" fill=\"#000000\" text-anchor=\"middle\"><textPath xlink:href=\"#w22ZJj6e14\" startOffset=\"50%\"></textPath></text>\n<use xlink:href=\"#w22ZJj6e15\" />\n<text font-size=\"15.0\" fill=\"#000000\" text-anchor=\"middle\"><textPath xlink:href=\"#w22ZJj6e15\" startOffset=\"50%\"></textPath></text>\n<path d=\"M-325.0,121.65063509461096 L-300,78.34936490538904 L-275.0,121.65063509461096 Z\" fill=\"#C23537\" stroke=\"#000000\" stroke-width=\"2.0\" />\n<use xlink:href=\"#w22ZJj6e16\" />\n<text font-size=\"17.5\" text-anchor=\"middle\"><textPath xlink:href=\"#w22ZJj6e16\" startOffset=\"50%\"></textPath></text>\n<use xlink:href=\"#w22ZJj6e17\" />\n<text font-size=\"15.0\" fill=\"#000000\" text-anchor=\"middle\"><textPath xlink:href=\"#w22ZJj6e17\" startOffset=\"50%\"></textPath></text>\n<path d=\"M-225.0,121.65063509461096 L-200,78.34936490538904 L-175.0,121.65063509461096 Z\" fill=\"#C23537\" stroke=\"#000000\" stroke-width=\"2.0\" />\n<use xlink:href=\"#w22ZJj6e18\" />\n<text font-size=\"17.5\" text-anchor=\"middle\"><textPath xlink:href=\"#w22ZJj6e18\" startOffset=\"50%\"></textPath></text>\n<use xlink:href=\"#w22ZJj6e19\" />\n<text font-size=\"15.0\" fill=\"#000000\" text-anchor=\"middle\"><textPath xlink:href=\"#w22ZJj6e19\" startOffset=\"50%\"></textPath></text>\n<rect x=\"-225.0\" y=\"-225.0\" width=\"50\" height=\"50\" fill=\"#0385AE\" stroke-width=\"2.0\" stroke=\"#000000\" />\n<use xlink:href=\"#w22ZJj6e20\" />\n<text font-size=\"17.5\" fill=\"#000000\" text-anchor=\"middle\"><textPath xlink:href=\"#w22ZJj6e20\" startOffset=\"50%\"></textPath></text>\n<use xlink:href=\"#w22ZJj6e21\" />\n<text font-size=\"15.0\" fill=\"#000000\" text-anchor=\"middle\"><textPath xlink:href=\"#w22ZJj6e21\" startOffset=\"50%\"></textPath></text>\n<path d=\"M-225.0,-78.34936490538904 L-200,-121.65063509461096 L-175.0,-78.34936490538904 Z\" fill=\"#C23537\" stroke=\"#000000\" stroke-width=\"2.0\" />\n<use xlink:href=\"#w22ZJj6e22\" />\n<text font-size=\"17.5\" text-anchor=\"middle\"><textPath xlink:href=\"#w22ZJj6e22\" startOffset=\"50%\"></textPath></text>\n<use xlink:href=\"#w22ZJj6e23\" />\n<text font-size=\"15.0\" fill=\"#000000\" text-anchor=\"middle\"><textPath xlink:href=\"#w22ZJj6e23\" startOffset=\"50%\"></textPath></text>\n<circle cx=\"-300\" cy=\"-200\" r=\"25.0\" fill=\"#FCC326\" stroke-width=\"2.0\" stroke=\"#000000\" />\n<use xlink:href=\"#w22ZJj6e24\" />\n<text font-size=\"17.5\" fill=\"#000000\" text-anchor=\"middle\"><textPath xlink:href=\"#w22ZJj6e24\" startOffset=\"50%\"></textPath></text>\n<use xlink:href=\"#w22ZJj6e25\" />\n<text font-size=\"15.0\" fill=\"#000000\" text-anchor=\"middle\"><textPath xlink:href=\"#w22ZJj6e25\" startOffset=\"50%\"></textPath></text>\n</g>\n</svg>"
     },
     "execution_count": 122,
     "metadata": {},
     "output_type": "execute_result"
    }
   ],
   "execution_count": 122
  },
  {
   "metadata": {
    "ExecuteTime": {
     "end_time": "2024-12-17T09:20:49.181900Z",
     "start_time": "2024-12-17T09:20:49.179381Z"
    }
   },
   "cell_type": "code",
   "source": "glycan_graphs[\"Fuc(a1-2)Gal(b1-4)[Fuc(a1-3)]GlcNAc(b1-3)[Fuc(a1-3)[Gal(b1-4)]GlcNAc(b1-6)]Gal(b1-4)Glc\"].__dict__",
   "id": "8265d76fc988482",
   "outputs": [
    {
     "data": {
      "text/plain": [
       "{'graph': {},\n",
       " '_node': {2: {'Monosaccharide': 'Glc(b1-1)',\n",
       "   'Mean Score': 2.0514767858432608,\n",
       "   'Median Score': 2.244769612327218,\n",
       "   'Weighted Score': 2.128792897366927,\n",
       "   'weighted_mean_flexibility': 12.17857534246575},\n",
       "  1: {'Monosaccharide': '-R',\n",
       "   'Mean Score': 0.46870365738868713,\n",
       "   'Median Score': 0.5194512158632278,\n",
       "   'Weighted Score': 0.492240047726902,\n",
       "   'weighted_mean_flexibility': 21.947800819918005},\n",
       "  4: {'Monosaccharide': 'GlcNAc(b1-6)',\n",
       "   'Mean Score': 1.773262549820356,\n",
       "   'Median Score': 1.6837695762515068,\n",
       "   'Weighted Score': 1.7021496458169612,\n",
       "   'weighted_mean_flexibility': 17.064866673332663},\n",
       "  3: {'Monosaccharide': 'Gal(b1-4)',\n",
       "   'Mean Score': 1.0813572494313122,\n",
       "   'Median Score': 1.0846662780968472,\n",
       "   'Weighted Score': 1.0457681036238264,\n",
       "   'weighted_mean_flexibility': 6.275166123387661},\n",
       "  8: {'Monosaccharide': 'Gal(b1-4)',\n",
       "   'Mean Score': 1.7647929069120436,\n",
       "   'Median Score': 1.7578037350904197,\n",
       "   'Weighted Score': 1.7861381799561076,\n",
       "   'weighted_mean_flexibility': 15.575945445455453},\n",
       "  7: {'Monosaccharide': 'GlcNAc(b1-3)',\n",
       "   'Mean Score': 1.6338292866479605,\n",
       "   'Median Score': 1.6407650627661496,\n",
       "   'Weighted Score': 1.59215364100916,\n",
       "   'weighted_mean_flexibility': 10.98267171282872},\n",
       "  5: {'Monosaccharide': 'Gal(b1-4)',\n",
       "   'Mean Score': 2.1178403232130223,\n",
       "   'Median Score': 2.1259297977085225,\n",
       "   'Weighted Score': 2.1429253625935147,\n",
       "   'weighted_mean_flexibility': 21.138903229677034},\n",
       "  6: {'Monosaccharide': 'Fuc(a1-3)',\n",
       "   'Mean Score': 1.81364550429862,\n",
       "   'Median Score': 1.891440232633613,\n",
       "   'Weighted Score': 1.8669023368021382,\n",
       "   'weighted_mean_flexibility': 22.883701009899013},\n",
       "  10: {'Monosaccharide': 'Fuc(a1-3)',\n",
       "   'Mean Score': 1.8676189828198404,\n",
       "   'Median Score': 1.8176706893136725,\n",
       "   'Weighted Score': 1.9261586474572951,\n",
       "   'weighted_mean_flexibility': 16.641286591340865},\n",
       "  9: {'Monosaccharide': 'Fuc(a1-2)',\n",
       "   'Mean Score': 1.9629103216109798,\n",
       "   'Median Score': 2.0159400925040245,\n",
       "   'Weighted Score': 1.94111501673313,\n",
       "   'weighted_mean_flexibility': 20.127824177582237}},\n",
       " '_adj': {2: {1: {}, 3: {}},\n",
       "  1: {2: {}},\n",
       "  4: {3: {}, 5: {}, 6: {}},\n",
       "  3: {4: {}, 7: {}, 2: {}},\n",
       "  8: {7: {}, 9: {}},\n",
       "  7: {8: {}, 10: {}, 3: {}},\n",
       "  5: {4: {}},\n",
       "  6: {4: {}},\n",
       "  10: {7: {}},\n",
       "  9: {8: {}}},\n",
       " 'nodes': NodeView((2, 1, 4, 3, 8, 7, 5, 6, 10, 9))}"
      ]
     },
     "execution_count": 31,
     "metadata": {},
     "output_type": "execute_result"
    }
   ],
   "execution_count": 31
  },
  {
   "metadata": {
    "ExecuteTime": {
     "end_time": "2024-12-17T08:47:59.125785Z",
     "start_time": "2024-12-17T08:47:59.110525Z"
    }
   },
   "cell_type": "code",
   "source": "GlycoDraw(\"Fuc(a1-2)Gal(b1-4)[Fuc(a1-3)]GlcNAc\", highlight_motif= \"Fuc\")",
   "id": "fbfe3810ac488e88",
   "outputs": [
    {
     "data": {
      "text/plain": [
       "<drawsvg.drawing.Drawing at 0x321b02c30>"
      ],
      "image/svg+xml": "<?xml version=\"1.0\" encoding=\"UTF-8\"?>\n<svg xmlns=\"http://www.w3.org/2000/svg\" xmlns:xlink=\"http://www.w3.org/1999/xlink\"\n     width=\"200\" height=\"310\" viewBox=\"-150.0 -105.0 200 310\">\n<defs>\n<path d=\"M-100,0 L0,0\" stroke-width=\"4.0\" stroke=\"#D9D9D9\" id=\"X7S4X8zQ0\" />\n<path d=\"M-100,100 L-100,0\" stroke-width=\"4.0\" stroke=\"#D9D9D9\" id=\"X7S4X8zQ1\" />\n<path d=\"M0,100 L0,0\" stroke-width=\"4.0\" stroke=\"#D9D9D9\" id=\"X7S4X8zQ2\" />\n<path d=\"M-50,25.0 L50,25.0\" stroke-width=\"0\" id=\"X7S4X8zQ3\" />\n<path d=\"M-50,0 L50,0\" stroke-width=\"0\" id=\"X7S4X8zQ4\" />\n<path d=\"M-150,25.0 L-50,25.0\" stroke-width=\"0\" id=\"X7S4X8zQ5\" />\n<path d=\"M-150,0 L-50,0\" stroke-width=\"0\" id=\"X7S4X8zQ6\" />\n<path d=\"M-150,125.0 L-50,125.0\" stroke-width=\"0\" id=\"X7S4X8zQ7\" />\n<path d=\"M-150,100 L-50,100\" stroke-width=\"0\" id=\"X7S4X8zQ8\" />\n<path d=\"M-50,125.0 L50,125.0\" stroke-width=\"0\" id=\"X7S4X8zQ9\" />\n<path d=\"M-50,100 L50,100\" stroke-width=\"0\" id=\"X7S4X8zQ10\" />\n</defs>\n<g transform=\"rotate(0 -50.0 50.0)\">\n<use xlink:href=\"#X7S4X8zQ0\" />\n<text font-size=\"20.0\" text-anchor=\"middle\" fill=\"#D9D9D9\" valign=\"middle\"><textPath xlink:href=\"#X7S4X8zQ0\" startOffset=\"50%\">\n<tspan dy=\"-0.5em\">β 4</tspan>\n</textPath></text>\n<use xlink:href=\"#X7S4X8zQ1\" />\n<text font-size=\"20.0\" text-anchor=\"middle\" fill=\"#D9D9D9\" valign=\"middle\"><textPath xlink:href=\"#X7S4X8zQ1\" startOffset=\"50%\">\n<tspan dy=\"-0.5em\">α 2</tspan>\n</textPath></text>\n<use xlink:href=\"#X7S4X8zQ2\" />\n<text font-size=\"20.0\" text-anchor=\"middle\" fill=\"#D9D9D9\" valign=\"middle\"><textPath xlink:href=\"#X7S4X8zQ2\" startOffset=\"50%\">\n<tspan dy=\"-0.5em\">α 3</tspan>\n</textPath></text>\n<rect x=\"-25.0\" y=\"-25.0\" width=\"50\" height=\"50\" fill=\"#CDE7EF\" stroke-width=\"2.0\" stroke=\"#D9D9D9\" />\n<use xlink:href=\"#X7S4X8zQ3\" />\n<text font-size=\"17.5\" fill=\"#D9D9D9\" text-anchor=\"middle\"><textPath xlink:href=\"#X7S4X8zQ3\" startOffset=\"50%\"></textPath></text>\n<use xlink:href=\"#X7S4X8zQ4\" />\n<text font-size=\"15.0\" fill=\"#D9D9D9\" text-anchor=\"middle\"><textPath xlink:href=\"#X7S4X8zQ4\" startOffset=\"50%\"></textPath></text>\n<circle cx=\"-100\" cy=\"0\" r=\"25.0\" fill=\"#FFF6DE\" stroke-width=\"2.0\" stroke=\"#D9D9D9\" />\n<use xlink:href=\"#X7S4X8zQ5\" />\n<text font-size=\"17.5\" fill=\"#D9D9D9\" text-anchor=\"middle\"><textPath xlink:href=\"#X7S4X8zQ5\" startOffset=\"50%\"></textPath></text>\n<use xlink:href=\"#X7S4X8zQ6\" />\n<text font-size=\"15.0\" fill=\"#D9D9D9\" text-anchor=\"middle\"><textPath xlink:href=\"#X7S4X8zQ6\" startOffset=\"50%\"></textPath></text>\n<path d=\"M-125.0,121.65063509461096 L-100,78.34936490538904 L-75.0,121.65063509461096 Z\" fill=\"#C23537\" stroke=\"#000000\" stroke-width=\"2.0\" />\n<use xlink:href=\"#X7S4X8zQ7\" />\n<text font-size=\"17.5\" text-anchor=\"middle\"><textPath xlink:href=\"#X7S4X8zQ7\" startOffset=\"50%\"></textPath></text>\n<use xlink:href=\"#X7S4X8zQ8\" />\n<text font-size=\"15.0\" fill=\"#000000\" text-anchor=\"middle\"><textPath xlink:href=\"#X7S4X8zQ8\" startOffset=\"50%\"></textPath></text>\n<path d=\"M-25.0,121.65063509461096 L0,78.34936490538904 L25.0,121.65063509461096 Z\" fill=\"#C23537\" stroke=\"#000000\" stroke-width=\"2.0\" />\n<use xlink:href=\"#X7S4X8zQ9\" />\n<text font-size=\"17.5\" text-anchor=\"middle\"><textPath xlink:href=\"#X7S4X8zQ9\" startOffset=\"50%\"></textPath></text>\n<use xlink:href=\"#X7S4X8zQ10\" />\n<text font-size=\"15.0\" fill=\"#000000\" text-anchor=\"middle\"><textPath xlink:href=\"#X7S4X8zQ10\" startOffset=\"50%\"></textPath></text>\n</g>\n</svg>"
     },
     "execution_count": 28,
     "metadata": {},
     "output_type": "execute_result"
    }
   ],
   "execution_count": 28
  },
  {
   "metadata": {
    "ExecuteTime": {
     "end_time": "2024-12-17T14:46:59.777323Z",
     "start_time": "2024-12-17T14:46:59.726095Z"
    }
   },
   "cell_type": "code",
   "source": [
    "import networkx as nx\n",
    "from glycowork.motif.graph import glycan_to_nxGraph\n",
    "nx.draw(glycan_to_nxGraph('Fuc(a1-2)Gal(b1-4)[Fuc(a1-3)]GlcNAc'), with_labels=True)\n",
    "print(\"2Fuc:\")\n",
    "print(\"daniel\", glycan_to_nxGraph('Fuc(a1-2)Gal(b1-4)[Fuc(a1-3)]GlcNAc').nodes)\n",
    "print('luc',glycan_graphs['Fuc(a1-2)Gal(b1-4)[Fuc(a1-3)]GlcNAc'].nodes)\n",
    "print(\"3Fuc:\")\n",
    "print(\"daniel\",glycan_to_nxGraph(\"Fuc(a1-2)Gal(b1-4)[Fuc(a1-3)]GlcNAc(b1-3)[Fuc(a1-3)[Gal(b1-4)]GlcNAc(b1-6)]Gal(b1-4)Glc\").nodes)\n",
    "print(\"luc\",glycan_graphs[\"Fuc(a1-2)Gal(b1-4)[Fuc(a1-3)]GlcNAc(b1-3)[Fuc(a1-3)[Gal(b1-4)]GlcNAc(b1-6)]Gal(b1-4)Glc\"].nodes)"
   ],
   "id": "16fcd5dba804997a",
   "outputs": [
    {
     "name": "stdout",
     "output_type": "stream",
     "text": [
      "2Fuc:\n",
      "daniel [0, 1, 2, 3, 4, 5, 6]\n",
      "luc [3, 2, 5, 4, 1]\n",
      "3Fuc:\n",
      "daniel [0, 1, 2, 3, 4, 5, 6, 7, 8, 9, 10, 11, 12, 13, 14, 15, 16]\n",
      "luc [2, 1, 4, 3, 8, 7, 5, 6, 10, 9]\n"
     ]
    },
    {
     "data": {
      "text/plain": [
       "<Figure size 640x480 with 1 Axes>"
      ],
      "image/png": "[encoded data removed]"
     },
     "metadata": {},
     "output_type": "display_data"
    }
   ],
   "execution_count": 35
  },
  {
   "metadata": {
    "ExecuteTime": {
     "end_time": "2024-12-17T08:22:01.639740Z",
     "start_time": "2024-12-17T08:22:01.587543Z"
    }
   },
   "cell_type": "code",
   "source": "nx.draw(glycan_graphs['Fuc(a1-2)Gal(b1-4)[Fuc(a1-3)]GlcNAc'], with_labels=True)",
   "id": "c8365ec583fc7751",
   "outputs": [
    {
     "data": {
      "text/plain": [
       "<Figure size 640x480 with 1 Axes>"
      ],
      "image/png": "[encoded data removed]"
     },
     "metadata": {},
     "output_type": "display_data"
    }
   ],
   "execution_count": 22
  },
  {
   "metadata": {
    "ExecuteTime": {
     "end_time": "2024-12-17T08:32:25.085848Z",
     "start_time": "2024-12-17T08:32:25.080393Z"
    }
   },
   "cell_type": "code",
   "source": "glycan_graphs['Fuc(a1-2)Gal(b1-4)[Fuc(a1-3)]GlcNAc'].nodes\n",
   "id": "19d3e0e66e446e63",
   "outputs": [
    {
     "data": {
      "text/plain": [
       "NodeView((3, 2, 5, 4, 1))"
      ]
     },
     "execution_count": 23,
     "metadata": {},
     "output_type": "execute_result"
    }
   ],
   "execution_count": 23
  },
  {
   "metadata": {
    "ExecuteTime": {
     "end_time": "2024-12-17T08:40:38.964092Z",
     "start_time": "2024-12-17T08:40:38.960723Z"
    }
   },
   "cell_type": "code",
   "source": "glycan_graphs['Fuc(a1-2)Gal(b1-4)[Fuc(a1-3)]GlcNAc'].__dict__",
   "id": "924be93cb34f5c55",
   "outputs": [
    {
     "data": {
      "text/plain": [
       "{'graph': {},\n",
       " '_node': {3: {'Monosaccharide': 'Fuc(a1-3)',\n",
       "   'Mean Score': 1.763120694970712,\n",
       "   'Median Score': 1.749811589717865,\n",
       "   'Weighted Score': 1.7597374506394274,\n",
       "   'weighted_mean_flexibility': 0.6866602260226038},\n",
       "  2: {'Monosaccharide': 'GlcNAc(b1-1)',\n",
       "   'Mean Score': 2.1611419503344225,\n",
       "   'Median Score': 2.158357013016939,\n",
       "   'Weighted Score': 2.1689804389134233,\n",
       "   'weighted_mean_flexibility': 0.42260358035803125},\n",
       "  5: {'Monosaccharide': 'Fuc(a1-2)',\n",
       "   'Mean Score': 2.157345515722409,\n",
       "   'Median Score': 2.18301942886319,\n",
       "   'Weighted Score': 2.170830920556838,\n",
       "   'weighted_mean_flexibility': 0.9650379437943786},\n",
       "  4: {'Monosaccharide': 'Gal(b1-4)',\n",
       "   'Mean Score': 1.6548255177214741,\n",
       "   'Median Score': 1.666945289936848,\n",
       "   'Weighted Score': 1.6512541135026229,\n",
       "   'weighted_mean_flexibility': 0.48598685868586866},\n",
       "  1: {'Monosaccharide': '-R',\n",
       "   'Mean Score': 0.4869304597377777,\n",
       "   'Median Score': 0.47832901775836945,\n",
       "   'Weighted Score': 0.48961252550838447,\n",
       "   'weighted_mean_flexibility': 0.558732173217323}},\n",
       " '_adj': {3: {2: {}},\n",
       "  2: {3: {}, 1: {}, 4: {}},\n",
       "  5: {4: {}},\n",
       "  4: {5: {}, 2: {}},\n",
       "  1: {2: {}}},\n",
       " 'nodes': NodeView((3, 2, 5, 4, 1)),\n",
       " 'degree': DegreeView({3: 1, 2: 3, 5: 1, 4: 2, 1: 1}),\n",
       " 'edges': EdgeView([(3, 2), (2, 1), (2, 4), (5, 4)])}"
      ]
     },
     "execution_count": 27,
     "metadata": {},
     "output_type": "execute_result"
    }
   ],
   "execution_count": 27
  },
  {
   "metadata": {
    "ExecuteTime": {
     "end_time": "2024-12-16T14:17:17.103457Z",
     "start_time": "2024-12-16T14:17:11.720842Z"
    }
   },
   "cell_type": "code",
   "source": [
    "from glycowork.motif.draw import GlycoDraw\n",
    "GlycoDraw(\"Fuc(a1-2)Gal(b1-4)[Fuc(a1-3)]GlcNAc(b1-3)[Fuc(a1-3)[Gal(b1-4)]GlcNAc(b1-6)]Gal(b1-4)Glc\", highlight_motif=\"Fuc\")\n"
   ],
   "id": "be19632c3fdf10b6",
   "outputs": [
    {
     "data": {
      "text/plain": [
       "<drawsvg.drawing.Drawing at 0x3212cb230>"
      ],
      "image/svg+xml": "<?xml version=\"1.0\" encoding=\"UTF-8\"?>\n<svg xmlns=\"http://www.w3.org/2000/svg\" xmlns:xlink=\"http://www.w3.org/1999/xlink\"\n     width=\"400\" height=\"510\" viewBox=\"-350.0 -305.0 400 510\">\n<defs>\n<path d=\"M-100,-100.0 L0,-100.0\" stroke-width=\"4.0\" stroke=\"#D9D9D9\" id=\"QFxBzrN10\" />\n<path d=\"M-200,0 L-100,-100.0\" stroke-width=\"4.0\" stroke=\"#D9D9D9\" id=\"QFxBzrN11\" />\n<path d=\"M-300,0 L-200,0\" stroke-width=\"4.0\" stroke=\"#D9D9D9\" id=\"QFxBzrN12\" />\n<path d=\"M-300,100 L-300,0\" stroke-width=\"4.0\" stroke=\"#D9D9D9\" id=\"QFxBzrN13\" />\n<path d=\"M-200,-100 L-200,-200\" stroke-width=\"4.0\" stroke=\"#D9D9D9\" id=\"QFxBzrN14\" />\n<path d=\"M-200,100 L-200,0\" stroke-width=\"4.0\" stroke=\"#D9D9D9\" id=\"QFxBzrN15\" />\n<path d=\"M-200,-200 L-100,-100.0\" stroke-width=\"4.0\" stroke=\"#D9D9D9\" id=\"QFxBzrN16\" />\n<path d=\"M-300,-200 L-200,-200\" stroke-width=\"4.0\" stroke=\"#D9D9D9\" id=\"QFxBzrN17\" />\n<path d=\"M-50,-75.0 L50,-75.0\" stroke-width=\"0\" id=\"QFxBzrN18\" />\n<path d=\"M-50,-100.0 L50,-100.0\" stroke-width=\"0\" id=\"QFxBzrN19\" />\n<path d=\"M-150,-75.0 L-50,-75.0\" stroke-width=\"0\" id=\"QFxBzrN110\" />\n<path d=\"M-150,-100.0 L-50,-100.0\" stroke-width=\"0\" id=\"QFxBzrN111\" />\n<path d=\"M-250,25.0 L-150,25.0\" stroke-width=\"0\" id=\"QFxBzrN112\" />\n<path d=\"M-250,0 L-150,0\" stroke-width=\"0\" id=\"QFxBzrN113\" />\n<path d=\"M-350,25.0 L-250,25.0\" stroke-width=\"0\" id=\"QFxBzrN114\" />\n<path d=\"M-350,0 L-250,0\" stroke-width=\"0\" id=\"QFxBzrN115\" />\n<path d=\"M-350,125.0 L-250,125.0\" stroke-width=\"0\" id=\"QFxBzrN116\" />\n<path d=\"M-350,100 L-250,100\" stroke-width=\"0\" id=\"QFxBzrN117\" />\n<path d=\"M-250,125.0 L-150,125.0\" stroke-width=\"0\" id=\"QFxBzrN118\" />\n<path d=\"M-250,100 L-150,100\" stroke-width=\"0\" id=\"QFxBzrN119\" />\n<path d=\"M-250,-175.0 L-150,-175.0\" stroke-width=\"0\" id=\"QFxBzrN120\" />\n<path d=\"M-250,-200 L-150,-200\" stroke-width=\"0\" id=\"QFxBzrN121\" />\n<path d=\"M-250,-75.0 L-150,-75.0\" stroke-width=\"0\" id=\"QFxBzrN122\" />\n<path d=\"M-250,-100 L-150,-100\" stroke-width=\"0\" id=\"QFxBzrN123\" />\n<path d=\"M-350,-175.0 L-250,-175.0\" stroke-width=\"0\" id=\"QFxBzrN124\" />\n<path d=\"M-350,-200 L-250,-200\" stroke-width=\"0\" id=\"QFxBzrN125\" />\n</defs>\n<g transform=\"rotate(0 -150.0 -50.0)\">\n<use xlink:href=\"#QFxBzrN10\" />\n<text font-size=\"20.0\" text-anchor=\"middle\" fill=\"#D9D9D9\" valign=\"middle\"><textPath xlink:href=\"#QFxBzrN10\" startOffset=\"50%\">\n<tspan dy=\"-0.5em\">β 4</tspan>\n</textPath></text>\n<use xlink:href=\"#QFxBzrN11\" />\n<text font-size=\"20.0\" text-anchor=\"middle\" fill=\"#D9D9D9\" valign=\"middle\"><textPath xlink:href=\"#QFxBzrN11\" startOffset=\"50%\">\n<tspan dy=\"-0.5em\">β 3</tspan>\n</textPath></text>\n<use xlink:href=\"#QFxBzrN12\" />\n<text font-size=\"20.0\" text-anchor=\"middle\" fill=\"#D9D9D9\" valign=\"middle\"><textPath xlink:href=\"#QFxBzrN12\" startOffset=\"50%\">\n<tspan dy=\"-0.5em\">β 4</tspan>\n</textPath></text>\n<use xlink:href=\"#QFxBzrN13\" />\n<text font-size=\"20.0\" text-anchor=\"middle\" fill=\"#D9D9D9\" valign=\"middle\"><textPath xlink:href=\"#QFxBzrN13\" startOffset=\"50%\">\n<tspan dy=\"-0.5em\">α 2</tspan>\n</textPath></text>\n<use xlink:href=\"#QFxBzrN14\" />\n<text font-size=\"20.0\" text-anchor=\"middle\" fill=\"#D9D9D9\" valign=\"middle\"><textPath xlink:href=\"#QFxBzrN14\" startOffset=\"50%\">\n<tspan dy=\"-0.5em\">α 3</tspan>\n</textPath></text>\n<use xlink:href=\"#QFxBzrN15\" />\n<text font-size=\"20.0\" text-anchor=\"middle\" fill=\"#D9D9D9\" valign=\"middle\"><textPath xlink:href=\"#QFxBzrN15\" startOffset=\"50%\">\n<tspan dy=\"-0.5em\">α 3</tspan>\n</textPath></text>\n<use xlink:href=\"#QFxBzrN16\" />\n<text font-size=\"20.0\" text-anchor=\"middle\" fill=\"#D9D9D9\" valign=\"middle\"><textPath xlink:href=\"#QFxBzrN16\" startOffset=\"50%\">\n<tspan dy=\"-0.5em\">β 6</tspan>\n</textPath></text>\n<use xlink:href=\"#QFxBzrN17\" />\n<text font-size=\"20.0\" text-anchor=\"middle\" fill=\"#D9D9D9\" valign=\"middle\"><textPath xlink:href=\"#QFxBzrN17\" startOffset=\"50%\">\n<tspan dy=\"-0.5em\">β 4</tspan>\n</textPath></text>\n<circle cx=\"0\" cy=\"-100.0\" r=\"25.0\" fill=\"#CDE7EF\" stroke-width=\"2.0\" stroke=\"#D9D9D9\" />\n<use xlink:href=\"#QFxBzrN18\" />\n<text font-size=\"17.5\" fill=\"#D9D9D9\" text-anchor=\"middle\"><textPath xlink:href=\"#QFxBzrN18\" startOffset=\"50%\"></textPath></text>\n<use xlink:href=\"#QFxBzrN19\" />\n<text font-size=\"15.0\" fill=\"#D9D9D9\" text-anchor=\"middle\"><textPath xlink:href=\"#QFxBzrN19\" startOffset=\"50%\"></textPath></text>\n<circle cx=\"-100\" cy=\"-100.0\" r=\"25.0\" fill=\"#FFF6DE\" stroke-width=\"2.0\" stroke=\"#D9D9D9\" />\n<use xlink:href=\"#QFxBzrN110\" />\n<text font-size=\"17.5\" fill=\"#D9D9D9\" text-anchor=\"middle\"><textPath xlink:href=\"#QFxBzrN110\" startOffset=\"50%\"></textPath></text>\n<use xlink:href=\"#QFxBzrN111\" />\n<text font-size=\"15.0\" fill=\"#D9D9D9\" text-anchor=\"middle\"><textPath xlink:href=\"#QFxBzrN111\" startOffset=\"50%\"></textPath></text>\n<rect x=\"-225.0\" y=\"-25.0\" width=\"50\" height=\"50\" fill=\"#CDE7EF\" stroke-width=\"2.0\" stroke=\"#D9D9D9\" />\n<use xlink:href=\"#QFxBzrN112\" />\n<text font-size=\"17.5\" fill=\"#D9D9D9\" text-anchor=\"middle\"><textPath xlink:href=\"#QFxBzrN112\" startOffset=\"50%\"></textPath></text>\n<use xlink:href=\"#QFxBzrN113\" />\n<text font-size=\"15.0\" fill=\"#D9D9D9\" text-anchor=\"middle\"><textPath xlink:href=\"#QFxBzrN113\" startOffset=\"50%\"></textPath></text>\n<circle cx=\"-300\" cy=\"0\" r=\"25.0\" fill=\"#FFF6DE\" stroke-width=\"2.0\" stroke=\"#D9D9D9\" />\n<use xlink:href=\"#QFxBzrN114\" />\n<text font-size=\"17.5\" fill=\"#D9D9D9\" text-anchor=\"middle\"><textPath xlink:href=\"#QFxBzrN114\" startOffset=\"50%\"></textPath></text>\n<use xlink:href=\"#QFxBzrN115\" />\n<text font-size=\"15.0\" fill=\"#D9D9D9\" text-anchor=\"middle\"><textPath xlink:href=\"#QFxBzrN115\" startOffset=\"50%\"></textPath></text>\n<path d=\"M-325.0,121.65063509461096 L-300,78.34936490538904 L-275.0,121.65063509461096 Z\" fill=\"#C23537\" stroke=\"#000000\" stroke-width=\"2.0\" />\n<use xlink:href=\"#QFxBzrN116\" />\n<text font-size=\"17.5\" text-anchor=\"middle\"><textPath xlink:href=\"#QFxBzrN116\" startOffset=\"50%\"></textPath></text>\n<use xlink:href=\"#QFxBzrN117\" />\n<text font-size=\"15.0\" fill=\"#000000\" text-anchor=\"middle\"><textPath xlink:href=\"#QFxBzrN117\" startOffset=\"50%\"></textPath></text>\n<path d=\"M-225.0,121.65063509461096 L-200,78.34936490538904 L-175.0,121.65063509461096 Z\" fill=\"#C23537\" stroke=\"#000000\" stroke-width=\"2.0\" />\n<use xlink:href=\"#QFxBzrN118\" />\n<text font-size=\"17.5\" text-anchor=\"middle\"><textPath xlink:href=\"#QFxBzrN118\" startOffset=\"50%\"></textPath></text>\n<use xlink:href=\"#QFxBzrN119\" />\n<text font-size=\"15.0\" fill=\"#000000\" text-anchor=\"middle\"><textPath xlink:href=\"#QFxBzrN119\" startOffset=\"50%\"></textPath></text>\n<rect x=\"-225.0\" y=\"-225.0\" width=\"50\" height=\"50\" fill=\"#CDE7EF\" stroke-width=\"2.0\" stroke=\"#D9D9D9\" />\n<use xlink:href=\"#QFxBzrN120\" />\n<text font-size=\"17.5\" fill=\"#D9D9D9\" text-anchor=\"middle\"><textPath xlink:href=\"#QFxBzrN120\" startOffset=\"50%\"></textPath></text>\n<use xlink:href=\"#QFxBzrN121\" />\n<text font-size=\"15.0\" fill=\"#D9D9D9\" text-anchor=\"middle\"><textPath xlink:href=\"#QFxBzrN121\" startOffset=\"50%\"></textPath></text>\n<path d=\"M-225.0,-78.34936490538904 L-200,-121.65063509461096 L-175.0,-78.34936490538904 Z\" fill=\"#C23537\" stroke=\"#000000\" stroke-width=\"2.0\" />\n<use xlink:href=\"#QFxBzrN122\" />\n<text font-size=\"17.5\" text-anchor=\"middle\"><textPath xlink:href=\"#QFxBzrN122\" startOffset=\"50%\"></textPath></text>\n<use xlink:href=\"#QFxBzrN123\" />\n<text font-size=\"15.0\" fill=\"#000000\" text-anchor=\"middle\"><textPath xlink:href=\"#QFxBzrN123\" startOffset=\"50%\"></textPath></text>\n<circle cx=\"-300\" cy=\"-200\" r=\"25.0\" fill=\"#FFF6DE\" stroke-width=\"2.0\" stroke=\"#D9D9D9\" />\n<use xlink:href=\"#QFxBzrN124\" />\n<text font-size=\"17.5\" fill=\"#D9D9D9\" text-anchor=\"middle\"><textPath xlink:href=\"#QFxBzrN124\" startOffset=\"50%\"></textPath></text>\n<use xlink:href=\"#QFxBzrN125\" />\n<text font-size=\"15.0\" fill=\"#D9D9D9\" text-anchor=\"middle\"><textPath xlink:href=\"#QFxBzrN125\" startOffset=\"50%\"></textPath></text>\n</g>\n</svg>"
     },
     "execution_count": 5,
     "metadata": {},
     "output_type": "execute_result"
    }
   ],
   "execution_count": 5
  },
  {
   "metadata": {},
   "cell_type": "code",
   "outputs": [],
   "execution_count": null,
   "source": "",
   "id": "24733030f5932ff7"
  }
 ],
 "metadata": {
  "kernelspec": {
   "display_name": "Python 3",
   "language": "python",
   "name": "python3"
  },
  "language_info": {
   "codemirror_mode": {
    "name": "ipython",
    "version": 2
   },
   "file_extension": ".py",
   "mimetype": "text/x-python",
   "name": "python",
   "nbconvert_exporter": "python",
   "pygments_lexer": "ipython2",
   "version": "2.7.6"
  }
 },
 "nbformat": 4,
 "nbformat_minor": 5
}
