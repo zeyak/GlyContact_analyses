{
 "cells": [
  {
   "cell_type": "code",
   "id": "initial_id",
   "metadata": {
    "collapsed": true,
    "ExecuteTime": {
     "end_time": "2025-01-16T14:49:15.977815Z",
     "start_time": "2025-01-16T14:49:15.974342Z"
    }
   },
   "source": [
    "from glycowork.motif.draw import GlycoDraw\n",
    "from glycowork.motif.processing import canonicalize_iupac"
   ],
   "outputs": [],
   "execution_count": 2
  },
  {
   "metadata": {
    "ExecuteTime": {
     "end_time": "2025-01-16T14:49:51.159320Z",
     "start_time": "2025-01-16T14:49:51.155144Z"
    }
   },
   "cell_type": "code",
   "source": "print(canonicalize_iupac(\"Neu5Ac(a2-8)Neu5Gc(a2-3/6)Gal(b1-4)[Fuc(a1-3)]GlcNAc(b1-2)Man(a1-3)[Neu5Ac(a2-3/6)Gal(b1-4)[Fuc(a1-3)]GlcNAc(b1-2)Man(a1-6)]Man(b1-4)GlcNAc(b1-4)[Fuc(a1-6)]GlcNAc\"))",
   "id": "6e088e020376fac1",
   "outputs": [
    {
     "name": "stdout",
     "output_type": "stream",
     "text": [
      "Neu5Ac(a2-8)Neu5Gc(a2-3/6)Gal(b1-4)[Fuc(a1-3)]GlcNAc(b1-2)Man(a1-3)[Neu5Ac(a2-3/6)Gal(b1-4)[Fuc(a1-3)]GlcNAc(b1-2)Man(a1-6)]Man(b1-4)GlcNAc(b1-4)[Fuc(a1-6)]GlcNAc\n"
     ]
    }
   ],
   "execution_count": 3
  },
  {
   "metadata": {
    "ExecuteTime": {
     "end_time": "2025-01-16T14:50:41.826721Z",
     "start_time": "2025-01-16T14:50:41.823219Z"
    }
   },
   "cell_type": "code",
   "source": "print(canonicalize_iupac(\"WURCS=2.0/8,15,14/[u2122h_2*NCC/3=O][a2122h-1b_1-5_2*NCC/3=O][a1122h-1b_1-5][a1122h-1a_1-5][a1221m-1a_1-5][a2112h-1b_1-5][Aad21122h-2a_2-6_5*NCCO/3=O][Aad21122h-2a_2-6_5*NCC/3=O]/1-2-3-4-2-5-6-7-8-4-2-5-6-8-5/a4-b1_a6-o1_b4-c1_c3-d1_c6-j1_d2-e1_e3-f1_e4-g1_h8-i2_j2-k1_k3-l1_k4-m1_h2-g3|g6_n2-m3|m6\"))",
   "id": "202b8dbdb5c25170",
   "outputs": [
    {
     "name": "stdout",
     "output_type": "stream",
     "text": [
      "Neu5Ac(a2-8)Neu5Gc(a2-?)Gal(b1-4)[Fuc(a1-3)]GlcNAc(b1-2)Man(a1-3)[Neu5Ac(a2-?)Gal(b1-4)[Fuc(a1-3)]GlcNAc(b1-2)Man(a1-6)]Man(b1-4)GlcNAc(b1-4)[Fuc(a1-6)]GlcNAc\n"
     ]
    }
   ],
   "execution_count": 4
  },
  {
   "metadata": {
    "ExecuteTime": {
     "end_time": "2025-01-16T14:52:51.058009Z",
     "start_time": "2025-01-16T14:52:51.055248Z"
    }
   },
   "cell_type": "code",
   "source": "print(canonicalize_iupac(\"WURCS=2.0/5,7,6/[u2122h_2*NCC/3=O][a2122h-1b_1-5_2*NCC/3=O][a1122h-1b_1-5][a1122h-1a_1-5][a2112h-1b_1-5_2*NCC/3=O_4*OSO/3=O/3=O]/1-2-3-4-2-5-4/a4-b1_b4-c1_c3-d1_c6-g1_d2-e1_e4-f1\"))",
   "id": "132b59cc26150824",
   "outputs": [
    {
     "name": "stdout",
     "output_type": "stream",
     "text": [
      "GalNAc4S(b1-4)GlcNAc(b1-2)Man(a1-3)[Man(a1-6)]Man(b1-4)GlcNAc(b1-4)GlcNAc\n"
     ]
    }
   ],
   "execution_count": 6
  },
  {
   "metadata": {
    "ExecuteTime": {
     "end_time": "2025-01-16T14:59:28.473735Z",
     "start_time": "2025-01-16T14:59:28.340385Z"
    }
   },
   "cell_type": "code",
   "source": "print(canonicalize_iupac(\"WURCS=2.0/4,5,4/[u2112h][a1122h-1x_1-5][a2211m-1x_1-5][a2d22m-1x_1-5]/1-2-2-3-4/a?-b1_b?-c1_c?-d1_d?-e1\"))",
   "id": "5c7db38b816338d9",
   "outputs": [
    {
     "ename": "Exception",
     "evalue": "Token a2d22m-1a_1-5 not recognized.",
     "output_type": "error",
     "traceback": [
      "\u001B[0;31m---------------------------------------------------------------------------\u001B[0m",
      "\u001B[0;31mException\u001B[0m                                 Traceback (most recent call last)",
      "Cell \u001B[0;32mIn[7], line 1\u001B[0m\n\u001B[0;32m----> 1\u001B[0m \u001B[38;5;28mprint\u001B[39m(canonicalize_iupac(\u001B[38;5;124m\"\u001B[39m\u001B[38;5;124mWURCS=2.0/4,5,4/[u2112h][a1122h-1x_1-5][a2211m-1x_1-5][a2d22m-1x_1-5]/1-2-2-3-4/a?-b1_b?-c1_c?-d1_d?-e1\u001B[39m\u001B[38;5;124m\"\u001B[39m))\n",
      "File \u001B[0;32m~/miniconda3/envs/glycowork/lib/python3.12/site-packages/glycowork/motif/processing.py:851\u001B[0m, in \u001B[0;36mcanonicalize_iupac\u001B[0;34m(glycan)\u001B[0m\n\u001B[1;32m    849\u001B[0m   glycan \u001B[38;5;241m=\u001B[39m glycoct_to_iupac(glycan)\n\u001B[1;32m    850\u001B[0m \u001B[38;5;28;01melif\u001B[39;00m \u001B[38;5;124m'\u001B[39m\u001B[38;5;124m=\u001B[39m\u001B[38;5;124m'\u001B[39m \u001B[38;5;129;01min\u001B[39;00m glycan:\n\u001B[0;32m--> 851\u001B[0m   glycan \u001B[38;5;241m=\u001B[39m wurcs_to_iupac(glycan)\n\u001B[1;32m    852\u001B[0m \u001B[38;5;28;01melif\u001B[39;00m \u001B[38;5;129;01mnot\u001B[39;00m \u001B[38;5;28misinstance\u001B[39m(glycan, \u001B[38;5;28mstr\u001B[39m) \u001B[38;5;129;01mor\u001B[39;00m \u001B[38;5;28many\u001B[39m([k \u001B[38;5;129;01min\u001B[39;00m glycan \u001B[38;5;28;01mfor\u001B[39;00m k \u001B[38;5;129;01min\u001B[39;00m [\u001B[38;5;124m'\u001B[39m\u001B[38;5;124m@\u001B[39m\u001B[38;5;124m'\u001B[39m]]):\n\u001B[1;32m    853\u001B[0m   check_nomenclature(glycan)\n",
      "File \u001B[0;32m~/miniconda3/envs/glycowork/lib/python3.12/site-packages/glycowork/motif/processing.py:661\u001B[0m, in \u001B[0;36mwurcs_to_iupac\u001B[0;34m(wurcs)\u001B[0m\n\u001B[1;32m    659\u001B[0m   \u001B[38;5;28;01mcontinue\u001B[39;00m\n\u001B[1;32m    660\u001B[0m target_index, target_carbon \u001B[38;5;241m=\u001B[39m connectivity[target[\u001B[38;5;241m0\u001B[39m]], target[\u001B[38;5;241m1\u001B[39m:]\n\u001B[0;32m--> 661\u001B[0m target_mono \u001B[38;5;241m=\u001B[39m get_mono(monosaccharides[\u001B[38;5;28mint\u001B[39m(target_index)\u001B[38;5;241m-\u001B[39m\u001B[38;5;241m1\u001B[39m])\n\u001B[1;32m    662\u001B[0m \u001B[38;5;28;01mif\u001B[39;00m \u001B[38;5;124m'\u001B[39m\u001B[38;5;124m?\u001B[39m\u001B[38;5;124m'\u001B[39m \u001B[38;5;129;01min\u001B[39;00m target:\n\u001B[1;32m    663\u001B[0m   iupac_parts\u001B[38;5;241m.\u001B[39mappend((\u001B[38;5;124mf\u001B[39m\u001B[38;5;124m\"\u001B[39m\u001B[38;5;132;01m{\u001B[39;00msource_mono\u001B[38;5;132;01m}\u001B[39;00m\u001B[38;5;124m(\u001B[39m\u001B[38;5;132;01m{\u001B[39;00msource_carbon\u001B[38;5;132;01m}\u001B[39;00m\u001B[38;5;124m-\u001B[39m\u001B[38;5;132;01m{\u001B[39;00mtarget_carbon\u001B[38;5;132;01m}\u001B[39;00m\u001B[38;5;124m)\u001B[39m\u001B[38;5;132;01m{\u001B[39;00mtarget_mono\u001B[38;5;132;01m}\u001B[39;00m\u001B[38;5;124m\"\u001B[39m, source[\u001B[38;5;241m0\u001B[39m], target[\u001B[38;5;241m0\u001B[39m]))\n",
      "File \u001B[0;32m~/miniconda3/envs/glycowork/lib/python3.12/site-packages/glycowork/motif/processing.py:625\u001B[0m, in \u001B[0;36mget_mono\u001B[0;34m(token)\u001B[0m\n\u001B[1;32m    623\u001B[0m       \u001B[38;5;28;01mif\u001B[39;00m mono:\n\u001B[1;32m    624\u001B[0m         \u001B[38;5;28;01mbreak\u001B[39;00m\n\u001B[0;32m--> 625\u001B[0m       \u001B[38;5;28;01mraise\u001B[39;00m \u001B[38;5;167;01mException\u001B[39;00m(\u001B[38;5;124m\"\u001B[39m\u001B[38;5;124mToken \u001B[39m\u001B[38;5;124m\"\u001B[39m \u001B[38;5;241m+\u001B[39m token \u001B[38;5;241m+\u001B[39m \u001B[38;5;124m\"\u001B[39m\u001B[38;5;124m not recognized.\u001B[39m\u001B[38;5;124m\"\u001B[39m)\n\u001B[1;32m    626\u001B[0m mono \u001B[38;5;241m+\u001B[39m\u001B[38;5;241m=\u001B[39m anomer \u001B[38;5;28;01mif\u001B[39;00m anomer \u001B[38;5;129;01min\u001B[39;00m [\u001B[38;5;124m'\u001B[39m\u001B[38;5;124ma\u001B[39m\u001B[38;5;124m'\u001B[39m, \u001B[38;5;124m'\u001B[39m\u001B[38;5;124mb\u001B[39m\u001B[38;5;124m'\u001B[39m] \u001B[38;5;28;01melse\u001B[39;00m \u001B[38;5;124m'\u001B[39m\u001B[38;5;124m?\u001B[39m\u001B[38;5;124m'\u001B[39m\n\u001B[1;32m    627\u001B[0m \u001B[38;5;28;01mreturn\u001B[39;00m mono\n",
      "\u001B[0;31mException\u001B[0m: Token a2d22m-1a_1-5 not recognized."
     ]
    }
   ],
   "execution_count": 7
  },
  {
   "metadata": {},
   "cell_type": "code",
   "outputs": [],
   "execution_count": null,
   "source": "",
   "id": "284e6a7bed8d4136"
  }
 ],
 "metadata": {
  "kernelspec": {
   "display_name": "Python 3",
   "language": "python",
   "name": "python3"
  },
  "language_info": {
   "codemirror_mode": {
    "name": "ipython",
    "version": 2
   },
   "file_extension": ".py",
   "mimetype": "text/x-python",
   "name": "python",
   "nbconvert_exporter": "python",
   "pygments_lexer": "ipython2",
   "version": "2.7.6"
  }
 },
 "nbformat": 4,
 "nbformat_minor": 5
}
