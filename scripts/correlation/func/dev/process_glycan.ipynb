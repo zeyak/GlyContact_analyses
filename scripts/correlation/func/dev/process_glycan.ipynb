{
 "cells": [
  {
   "cell_type": "code",
   "id": "initial_id",
   "metadata": {
    "collapsed": true,
    "ExecuteTime": {
     "end_time": "2024-12-18T11:15:01.235136Z",
     "start_time": "2024-12-18T11:14:48.810792Z"
    }
   },
   "source": [
    "import pickle\n",
    "import networkx as nx\n",
    "from glycowork.motif.draw import GlycoDraw\n",
    "from glycowork.motif.graph import  glycan_to_nxGraph\n",
    "from glycowork.motif.graph import  subgraph_isomorphism\n"
   ],
   "outputs": [],
   "execution_count": 5
  },
  {
   "metadata": {
    "ExecuteTime": {
     "end_time": "2024-12-18T11:15:44.071484Z",
     "start_time": "2024-12-18T11:15:44.057812Z"
    }
   },
   "cell_type": "code",
   "source": [
    "flex_data_path = '/Users/xakdze/PycharmProjects/GlyContact_analyses/data/glycan_graphs.pkl'\n",
    "\n",
    "def load_data():\n",
    "    \"\"\"Load glycan flexibility data and binding data.\"\"\"\n",
    "    with open(flex_data_path, 'rb') as file:\n",
    "        flex_data = pickle.load(file)\n",
    "    # binding_df = pd.read_csv(flex_data_path)\n",
    "    return flex_data\n",
    "flex_data = load_data()"
   ],
   "id": "da13418942459c81",
   "outputs": [],
   "execution_count": 8
  },
  {
   "metadata": {
    "ExecuteTime": {
     "end_time": "2024-12-16T15:45:33.581379Z",
     "start_time": "2024-12-16T15:45:33.579003Z"
    }
   },
   "cell_type": "code",
   "source": [
    "def map_daniel_to_luc_graph(matched_glycan, flex_data, daniel_selected_nodes):\n",
    "    \"\"\"\n",
    "    Map selected nodes from a Daniel graph to a corresponding Luc graph based on a predefined mapping.\n",
    "    \"\"\"\n",
    "    daniel_graph = glycan_to_nxGraph(matched_glycan)\n",
    "    luc_graph = flex_data.get(matched_glycan)\n",
    "\n",
    "    # Define the mapping logic between Daniel and Luc graphs\n",
    "    def create_mapping():\n",
    "        if len(daniel_graph.nodes) % 2 == 1:\n",
    "            dan_max = len(daniel_graph.nodes)\n",
    "            luc_max = len(luc_graph.nodes)\n",
    "            map_dict = dict(zip(range(0, dan_max, 2), range(luc_max, 0, -1)))\n",
    "        else:\n",
    "            dan_max = len(daniel_graph.nodes) - 1\n",
    "            luc_max = len(luc_graph.nodes)\n",
    "            map_dict = dict(zip(range(0, dan_max, 2), range(luc_max, 0, -1)))\n",
    "        return map_dict\n",
    "    # Generate the mapping dictionary\n",
    "    map_dict = create_mapping()\n",
    "\n",
    "    # Map the selected nodes from the Daniel graph to the Luc graph\n",
    "    luc_selected_nodes = []\n",
    "    for node in daniel_selected_nodes:\n",
    "        if node in map_dict:\n",
    "            luc_selected_nodes.append(map_dict[node])\n",
    "\n",
    "    return luc_selected_nodes"
   ],
   "id": "fac797e1eca30992",
   "outputs": [],
   "execution_count": 52
  },
  {
   "metadata": {
    "ExecuteTime": {
     "end_time": "2024-12-17T09:10:31.970729Z",
     "start_time": "2024-12-17T09:10:31.957234Z"
    }
   },
   "cell_type": "code",
   "source": [
    "##def process_glycan_with_motifs(\n",
    "matched_glycan= \"Fuc(a1-2)Gal(b1-4)[Fuc(a1-3)]GlcNAc(b1-3)[Fuc(a1-3)[Gal(b1-4)]GlcNAc(b1-6)]Gal(b1-4)Glc\"\n",
    "#matched_glycan= \"Fuc(a1-2)Gal(b1-4)[Fuc(a1-3)]GlcNAc\"\n",
    "properties= {'motif': ['Fuc'], 'termini_list': [['t']]}\n",
    "#properties= {\"motif\": [\"Fuc(a1-2)Gal\", \"GalNAc\"], \"termini_list\": [[\"t\", \"f\"], [\"t\"]]}\n",
    "flex_data=  load_data()\n",
    "\n",
    "\"\"\"\n",
    "Process a glycan string to find nodes matching binding motifs and calculate metrics.\n",
    "Handles both single and multiple binding motifs.\n",
    "\"\"\"\n",
    "matching_monosaccharides, sasa_weighted, flexibility_weighted, found_motifs = [], [], [], []\n",
    "\n",
    "motifs = properties[\"motif\"]\n",
    "termini_list = properties[\"termini_list\"]\n",
    "\n",
    "for motif, termini in zip(motifs, termini_list):\n",
    "    print(\"motif: \", motif)\n",
    "    print(\"termini: \", termini)\n",
    "\n",
    "# Perform subgraph isomorphism\n",
    "    is_present, matched_nodes = subgraph_isomorphism(\n",
    "        matched_glycan, motif,\n",
    "        return_matches=True,\n",
    "        termini_list=termini\n",
    "    )\n",
    "    print(f\"subgraph isomorphism: matched_nodes: {matched_nodes}\")\n",
    "    if not is_present:\n",
    "        continue\n",
    "\n",
    "\n",
    "    found_motifs.append(motif)\n",
    "    print(\"\")\n",
    "    print(f\"matched_glycan: {matched_glycan}\")\n",
    "    print(f\"Processing motif: {motif}\")\n",
    "\n",
    "    matched_nodes = [node for sublist in matched_nodes for node in sublist] \\\n",
    "        if isinstance(matched_nodes[0], list) else matched_nodes\n",
    "\n",
    "\n",
    "print(f\"matched_nodes: {matched_nodes}\")"
   ],
   "id": "a62cc0f6dbf92d26",
   "outputs": [
    {
     "name": "stdout",
     "output_type": "stream",
     "text": [
      "motif:  Fuc\n",
      "termini:  ['t']\n",
      "subgraph isomorphism: matched_nodes: [[0], [4], [8]]\n",
      "\n",
      "matched_glycan: Fuc(a1-2)Gal(b1-4)[Fuc(a1-3)]GlcNAc(b1-3)[Fuc(a1-3)[Gal(b1-4)]GlcNAc(b1-6)]Gal(b1-4)Glc\n",
      "Processing motif: Fuc\n",
      "matched_nodes: [0, 4, 8]\n"
     ]
    }
   ],
   "execution_count": 63
  },
  {
   "metadata": {
    "ExecuteTime": {
     "end_time": "2024-12-16T15:45:34.826172Z",
     "start_time": "2024-12-16T15:45:34.822503Z"
    }
   },
   "cell_type": "code",
   "source": [
    "matched_mono = [matched_nodes[index] for index in range(0, len(matched_nodes), 2)]\n",
    "print(f\"matched_mono: {matched_mono}\")\n",
    "\n",
    "selected_mono = map_daniel_to_luc_graph(matched_glycan, flex_data, matched_nodes)\n",
    "print(f\"selected_mono: {selected_mono}\")\n",
    "\n",
    "\n",
    "# Extract attributes from graph nodes\n",
    "graph = flex_data.get(matched_glycan)\n",
    "if graph and hasattr(graph, \"nodes\"):\n",
    "    #print(f\"graph.nodes: {graph.nodes}\")\n",
    "    #print(f\"graph.attributes: {graph.nodes(data=True)}\")\n",
    "    for mono in selected_mono:\n",
    "        try:\n",
    "            attributes = graph.nodes[mono]\n",
    "            matching_monosaccharides.append(attributes.get(\"Monosaccharide\", 0))\n",
    "            sasa_weighted.append(attributes.get(\"Weighted Score\", 0))\n",
    "            flexibility_weighted.append(attributes.get(\"weighted_mean_flexibility\", 0))\n",
    "            print(f\"matching_monosaccharides: {matching_monosaccharides}\")\n",
    "            print(f\"mono attributes: {attributes}\")\n",
    "        except Exception as e:\n",
    "            print(f\"Error extracting attributes for node {mono} in glycan {matched_glycan}: {e}\")\n"
   ],
   "id": "841851d454f99642",
   "outputs": [
    {
     "name": "stdout",
     "output_type": "stream",
     "text": [
      "matched_mono: [0, 8]\n",
      "selected_mono: [10, 8, 6]\n",
      "matching_monosaccharides: ['Fuc(a1-3)']\n",
      "mono attributes: {'Monosaccharide': 'Fuc(a1-3)', 'Mean Score': 1.8676189828198404, 'Median Score': 1.8176706893136725, 'Weighted Score': 1.9261586474572951, 'weighted_mean_flexibility': 16.641286591340865}\n",
      "matching_monosaccharides: ['Fuc(a1-3)', 'Gal(b1-4)']\n",
      "mono attributes: {'Monosaccharide': 'Gal(b1-4)', 'Mean Score': 1.7647929069120436, 'Median Score': 1.7578037350904197, 'Weighted Score': 1.7861381799561076, 'weighted_mean_flexibility': 15.575945445455453}\n",
      "matching_monosaccharides: ['Fuc(a1-3)', 'Gal(b1-4)', 'Fuc(a1-3)']\n",
      "mono attributes: {'Monosaccharide': 'Fuc(a1-3)', 'Mean Score': 1.81364550429862, 'Median Score': 1.891440232633613, 'Weighted Score': 1.8669023368021382, 'weighted_mean_flexibility': 22.883701009899013}\n"
     ]
    }
   ],
   "execution_count": 54
  },
  {
   "metadata": {
    "ExecuteTime": {
     "end_time": "2024-12-16T15:56:02.767867Z",
     "start_time": "2024-12-16T15:56:02.712978Z"
    }
   },
   "cell_type": "code",
   "source": [
    "#Daniels graph\n",
    "fuc_3 = glycan_to_nxGraph('Fuc(a1-2)Gal(b1-4)[Fuc(a1-3)]GlcNAc(b1-3)[Fuc(a1-3)[Gal(b1-4)]GlcNAc(b1-6)]Gal(b1-4)Glc')\n",
    "nx.draw(fuc_3, with_labels=True)"
   ],
   "id": "e5f00350421aa51a",
   "outputs": [
    {
     "data": {
      "text/plain": [
       "<Figure size 640x480 with 1 Axes>"
      ],
      "image/png": "[encoded data removed]"
     },
     "metadata": {},
     "output_type": "display_data"
    }
   ],
   "execution_count": 57
  },
  {
   "metadata": {
    "ExecuteTime": {
     "end_time": "2024-12-16T15:55:55.390393Z",
     "start_time": "2024-12-16T15:55:55.336981Z"
    }
   },
   "cell_type": "code",
   "source": [
    "#Lucs graph\n",
    "nx.draw(flex_data['Fuc(a1-2)Gal(b1-4)[Fuc(a1-3)]GlcNAc(b1-3)[Fuc(a1-3)[Gal(b1-4)]GlcNAc(b1-6)]Gal(b1-4)Glc'] , with_labels=True)"
   ],
   "id": "addb377383b2998c",
   "outputs": [
    {
     "data": {
      "text/plain": [
       "<Figure size 640x480 with 1 Axes>"
      ],
      "image/png": "[encoded data removed]"
     },
     "metadata": {},
     "output_type": "display_data"
    }
   ],
   "execution_count": 56
  },
  {
   "metadata": {
    "ExecuteTime": {
     "end_time": "2024-12-16T14:58:58.732110Z",
     "start_time": "2024-12-16T14:58:58.723143Z"
    }
   },
   "cell_type": "code",
   "source": "GlycoDraw('Fuc(a1-2)Gal(b1-4)[Fuc(a1-3)]GlcNAc(b1-3)[Fuc(a1-3)[Gal(b1-4)]GlcNAc(b1-6)]Gal(b1-4)Glc', highlight_motif='Fuc')",
   "id": "8f79a5ffd55efa89",
   "outputs": [
    {
     "data": {
      "text/plain": [
       "<drawsvg.drawing.Drawing at 0x321074e60>"
      ],
      "image/svg+xml": "<?xml version=\"1.0\" encoding=\"UTF-8\"?>\n<svg xmlns=\"http://www.w3.org/2000/svg\" xmlns:xlink=\"http://www.w3.org/1999/xlink\"\n     width=\"400\" height=\"510\" viewBox=\"-350.0 -305.0 400 510\">\n<defs>\n<path d=\"M-100,-100.0 L0,-100.0\" stroke-width=\"4.0\" stroke=\"#D9D9D9\" id=\"AzkxJaTc0\" />\n<path d=\"M-200,0 L-100,-100.0\" stroke-width=\"4.0\" stroke=\"#D9D9D9\" id=\"AzkxJaTc1\" />\n<path d=\"M-300,0 L-200,0\" stroke-width=\"4.0\" stroke=\"#D9D9D9\" id=\"AzkxJaTc2\" />\n<path d=\"M-300,100 L-300,0\" stroke-width=\"4.0\" stroke=\"#D9D9D9\" id=\"AzkxJaTc3\" />\n<path d=\"M-200,-100 L-200,-200\" stroke-width=\"4.0\" stroke=\"#D9D9D9\" id=\"AzkxJaTc4\" />\n<path d=\"M-200,100 L-200,0\" stroke-width=\"4.0\" stroke=\"#D9D9D9\" id=\"AzkxJaTc5\" />\n<path d=\"M-200,-200 L-100,-100.0\" stroke-width=\"4.0\" stroke=\"#D9D9D9\" id=\"AzkxJaTc6\" />\n<path d=\"M-300,-200 L-200,-200\" stroke-width=\"4.0\" stroke=\"#D9D9D9\" id=\"AzkxJaTc7\" />\n<path d=\"M-50,-75.0 L50,-75.0\" stroke-width=\"0\" id=\"AzkxJaTc8\" />\n<path d=\"M-50,-100.0 L50,-100.0\" stroke-width=\"0\" id=\"AzkxJaTc9\" />\n<path d=\"M-150,-75.0 L-50,-75.0\" stroke-width=\"0\" id=\"AzkxJaTc10\" />\n<path d=\"M-150,-100.0 L-50,-100.0\" stroke-width=\"0\" id=\"AzkxJaTc11\" />\n<path d=\"M-250,25.0 L-150,25.0\" stroke-width=\"0\" id=\"AzkxJaTc12\" />\n<path d=\"M-250,0 L-150,0\" stroke-width=\"0\" id=\"AzkxJaTc13\" />\n<path d=\"M-350,25.0 L-250,25.0\" stroke-width=\"0\" id=\"AzkxJaTc14\" />\n<path d=\"M-350,0 L-250,0\" stroke-width=\"0\" id=\"AzkxJaTc15\" />\n<path d=\"M-350,125.0 L-250,125.0\" stroke-width=\"0\" id=\"AzkxJaTc16\" />\n<path d=\"M-350,100 L-250,100\" stroke-width=\"0\" id=\"AzkxJaTc17\" />\n<path d=\"M-250,125.0 L-150,125.0\" stroke-width=\"0\" id=\"AzkxJaTc18\" />\n<path d=\"M-250,100 L-150,100\" stroke-width=\"0\" id=\"AzkxJaTc19\" />\n<path d=\"M-250,-175.0 L-150,-175.0\" stroke-width=\"0\" id=\"AzkxJaTc20\" />\n<path d=\"M-250,-200 L-150,-200\" stroke-width=\"0\" id=\"AzkxJaTc21\" />\n<path d=\"M-250,-75.0 L-150,-75.0\" stroke-width=\"0\" id=\"AzkxJaTc22\" />\n<path d=\"M-250,-100 L-150,-100\" stroke-width=\"0\" id=\"AzkxJaTc23\" />\n<path d=\"M-350,-175.0 L-250,-175.0\" stroke-width=\"0\" id=\"AzkxJaTc24\" />\n<path d=\"M-350,-200 L-250,-200\" stroke-width=\"0\" id=\"AzkxJaTc25\" />\n</defs>\n<g transform=\"rotate(0 -150.0 -50.0)\">\n<use xlink:href=\"#AzkxJaTc0\" />\n<text font-size=\"20.0\" text-anchor=\"middle\" fill=\"#D9D9D9\" valign=\"middle\"><textPath xlink:href=\"#AzkxJaTc0\" startOffset=\"50%\">\n<tspan dy=\"-0.5em\">β 4</tspan>\n</textPath></text>\n<use xlink:href=\"#AzkxJaTc1\" />\n<text font-size=\"20.0\" text-anchor=\"middle\" fill=\"#D9D9D9\" valign=\"middle\"><textPath xlink:href=\"#AzkxJaTc1\" startOffset=\"50%\">\n<tspan dy=\"-0.5em\">β 3</tspan>\n</textPath></text>\n<use xlink:href=\"#AzkxJaTc2\" />\n<text font-size=\"20.0\" text-anchor=\"middle\" fill=\"#D9D9D9\" valign=\"middle\"><textPath xlink:href=\"#AzkxJaTc2\" startOffset=\"50%\">\n<tspan dy=\"-0.5em\">β 4</tspan>\n</textPath></text>\n<use xlink:href=\"#AzkxJaTc3\" />\n<text font-size=\"20.0\" text-anchor=\"middle\" fill=\"#D9D9D9\" valign=\"middle\"><textPath xlink:href=\"#AzkxJaTc3\" startOffset=\"50%\">\n<tspan dy=\"-0.5em\">α 2</tspan>\n</textPath></text>\n<use xlink:href=\"#AzkxJaTc4\" />\n<text font-size=\"20.0\" text-anchor=\"middle\" fill=\"#D9D9D9\" valign=\"middle\"><textPath xlink:href=\"#AzkxJaTc4\" startOffset=\"50%\">\n<tspan dy=\"-0.5em\">α 3</tspan>\n</textPath></text>\n<use xlink:href=\"#AzkxJaTc5\" />\n<text font-size=\"20.0\" text-anchor=\"middle\" fill=\"#D9D9D9\" valign=\"middle\"><textPath xlink:href=\"#AzkxJaTc5\" startOffset=\"50%\">\n<tspan dy=\"-0.5em\">α 3</tspan>\n</textPath></text>\n<use xlink:href=\"#AzkxJaTc6\" />\n<text font-size=\"20.0\" text-anchor=\"middle\" fill=\"#D9D9D9\" valign=\"middle\"><textPath xlink:href=\"#AzkxJaTc6\" startOffset=\"50%\">\n<tspan dy=\"-0.5em\">β 6</tspan>\n</textPath></text>\n<use xlink:href=\"#AzkxJaTc7\" />\n<text font-size=\"20.0\" text-anchor=\"middle\" fill=\"#D9D9D9\" valign=\"middle\"><textPath xlink:href=\"#AzkxJaTc7\" startOffset=\"50%\">\n<tspan dy=\"-0.5em\">β 4</tspan>\n</textPath></text>\n<circle cx=\"0\" cy=\"-100.0\" r=\"25.0\" fill=\"#CDE7EF\" stroke-width=\"2.0\" stroke=\"#D9D9D9\" />\n<use xlink:href=\"#AzkxJaTc8\" />\n<text font-size=\"17.5\" fill=\"#D9D9D9\" text-anchor=\"middle\"><textPath xlink:href=\"#AzkxJaTc8\" startOffset=\"50%\"></textPath></text>\n<use xlink:href=\"#AzkxJaTc9\" />\n<text font-size=\"15.0\" fill=\"#D9D9D9\" text-anchor=\"middle\"><textPath xlink:href=\"#AzkxJaTc9\" startOffset=\"50%\"></textPath></text>\n<circle cx=\"-100\" cy=\"-100.0\" r=\"25.0\" fill=\"#FFF6DE\" stroke-width=\"2.0\" stroke=\"#D9D9D9\" />\n<use xlink:href=\"#AzkxJaTc10\" />\n<text font-size=\"17.5\" fill=\"#D9D9D9\" text-anchor=\"middle\"><textPath xlink:href=\"#AzkxJaTc10\" startOffset=\"50%\"></textPath></text>\n<use xlink:href=\"#AzkxJaTc11\" />\n<text font-size=\"15.0\" fill=\"#D9D9D9\" text-anchor=\"middle\"><textPath xlink:href=\"#AzkxJaTc11\" startOffset=\"50%\"></textPath></text>\n<rect x=\"-225.0\" y=\"-25.0\" width=\"50\" height=\"50\" fill=\"#CDE7EF\" stroke-width=\"2.0\" stroke=\"#D9D9D9\" />\n<use xlink:href=\"#AzkxJaTc12\" />\n<text font-size=\"17.5\" fill=\"#D9D9D9\" text-anchor=\"middle\"><textPath xlink:href=\"#AzkxJaTc12\" startOffset=\"50%\"></textPath></text>\n<use xlink:href=\"#AzkxJaTc13\" />\n<text font-size=\"15.0\" fill=\"#D9D9D9\" text-anchor=\"middle\"><textPath xlink:href=\"#AzkxJaTc13\" startOffset=\"50%\"></textPath></text>\n<circle cx=\"-300\" cy=\"0\" r=\"25.0\" fill=\"#FFF6DE\" stroke-width=\"2.0\" stroke=\"#D9D9D9\" />\n<use xlink:href=\"#AzkxJaTc14\" />\n<text font-size=\"17.5\" fill=\"#D9D9D9\" text-anchor=\"middle\"><textPath xlink:href=\"#AzkxJaTc14\" startOffset=\"50%\"></textPath></text>\n<use xlink:href=\"#AzkxJaTc15\" />\n<text font-size=\"15.0\" fill=\"#D9D9D9\" text-anchor=\"middle\"><textPath xlink:href=\"#AzkxJaTc15\" startOffset=\"50%\"></textPath></text>\n<path d=\"M-325.0,121.65063509461096 L-300,78.34936490538904 L-275.0,121.65063509461096 Z\" fill=\"#C23537\" stroke=\"#000000\" stroke-width=\"2.0\" />\n<use xlink:href=\"#AzkxJaTc16\" />\n<text font-size=\"17.5\" text-anchor=\"middle\"><textPath xlink:href=\"#AzkxJaTc16\" startOffset=\"50%\"></textPath></text>\n<use xlink:href=\"#AzkxJaTc17\" />\n<text font-size=\"15.0\" fill=\"#000000\" text-anchor=\"middle\"><textPath xlink:href=\"#AzkxJaTc17\" startOffset=\"50%\"></textPath></text>\n<path d=\"M-225.0,121.65063509461096 L-200,78.34936490538904 L-175.0,121.65063509461096 Z\" fill=\"#C23537\" stroke=\"#000000\" stroke-width=\"2.0\" />\n<use xlink:href=\"#AzkxJaTc18\" />\n<text font-size=\"17.5\" text-anchor=\"middle\"><textPath xlink:href=\"#AzkxJaTc18\" startOffset=\"50%\"></textPath></text>\n<use xlink:href=\"#AzkxJaTc19\" />\n<text font-size=\"15.0\" fill=\"#000000\" text-anchor=\"middle\"><textPath xlink:href=\"#AzkxJaTc19\" startOffset=\"50%\"></textPath></text>\n<rect x=\"-225.0\" y=\"-225.0\" width=\"50\" height=\"50\" fill=\"#CDE7EF\" stroke-width=\"2.0\" stroke=\"#D9D9D9\" />\n<use xlink:href=\"#AzkxJaTc20\" />\n<text font-size=\"17.5\" fill=\"#D9D9D9\" text-anchor=\"middle\"><textPath xlink:href=\"#AzkxJaTc20\" startOffset=\"50%\"></textPath></text>\n<use xlink:href=\"#AzkxJaTc21\" />\n<text font-size=\"15.0\" fill=\"#D9D9D9\" text-anchor=\"middle\"><textPath xlink:href=\"#AzkxJaTc21\" startOffset=\"50%\"></textPath></text>\n<path d=\"M-225.0,-78.34936490538904 L-200,-121.65063509461096 L-175.0,-78.34936490538904 Z\" fill=\"#C23537\" stroke=\"#000000\" stroke-width=\"2.0\" />\n<use xlink:href=\"#AzkxJaTc22\" />\n<text font-size=\"17.5\" text-anchor=\"middle\"><textPath xlink:href=\"#AzkxJaTc22\" startOffset=\"50%\"></textPath></text>\n<use xlink:href=\"#AzkxJaTc23\" />\n<text font-size=\"15.0\" fill=\"#000000\" text-anchor=\"middle\"><textPath xlink:href=\"#AzkxJaTc23\" startOffset=\"50%\"></textPath></text>\n<circle cx=\"-300\" cy=\"-200\" r=\"25.0\" fill=\"#FFF6DE\" stroke-width=\"2.0\" stroke=\"#D9D9D9\" />\n<use xlink:href=\"#AzkxJaTc24\" />\n<text font-size=\"17.5\" fill=\"#D9D9D9\" text-anchor=\"middle\"><textPath xlink:href=\"#AzkxJaTc24\" startOffset=\"50%\"></textPath></text>\n<use xlink:href=\"#AzkxJaTc25\" />\n<text font-size=\"15.0\" fill=\"#D9D9D9\" text-anchor=\"middle\"><textPath xlink:href=\"#AzkxJaTc25\" startOffset=\"50%\"></textPath></text>\n</g>\n</svg>"
     },
     "execution_count": 29,
     "metadata": {},
     "output_type": "execute_result"
    }
   ],
   "execution_count": 29
  },
  {
   "metadata": {
    "ExecuteTime": {
     "end_time": "2024-12-20T07:07:55.120279Z",
     "start_time": "2024-12-20T07:07:55.078099Z"
    }
   },
   "cell_type": "code",
   "source": [
    "def convert_pdb_graph_to_glycowork(g):\n",
    "    \"\"\"\n",
    "    Converts a PDB-format graph to glycowork format.\n",
    "    Args:\n",
    "        g (nx.Graph): Input graph in PDB format with Monosaccharide and score attributes\n",
    "    Returns:\n",
    "        nx.Graph: Converted graph in glycowork format with monosaccharide/linkage split into separate nodes\n",
    "    \"\"\"\n",
    "    import networkx as nx\n",
    "\n",
    "    new_g = nx.Graph()\n",
    "\n",
    "    # Find reducing end (node connected to -R node 1)\n",
    "    reducing_end = None\n",
    "    for n in g.neighbors(1):\n",
    "        reducing_end = n\n",
    "        break\n",
    "\n",
    "    if reducing_end is None:\n",
    "        raise ValueError(\"Could not find reducing end (node connected to -R)\")\n",
    "\n",
    "    # Get node list in DFS order starting from reducing end (excluding -R node)\n",
    "    nodes = [n for n in nx.dfs_preorder_nodes(g, reducing_end) if n != 1]\n",
    "\n",
    "    # Create mapping dict\n",
    "    mapping = {}\n",
    "    mapping[1] = []  # -R maps to nothing\n",
    "\n",
    "    # Calculate highest node number\n",
    "    max_num = 2 * (len(g.nodes) - 2)\n",
    "\n",
    "    # Map reducing end to highest number\n",
    "    mapping[reducing_end] = [max_num]\n",
    "\n",
    "    # Map rest of nodes in reverse order\n",
    "    curr_num = 0\n",
    "    for node in reversed(nodes[1:]):  # Skip reducing end\n",
    "        mapping[node] = [curr_num, curr_num + 1]\n",
    "        curr_num += 2\n",
    "\n",
    "    # Create nodes in new graph\n",
    "    for old_node, new_nodes in mapping.items():\n",
    "        if not new_nodes:  # Skip -R\n",
    "            continue\n",
    "\n",
    "        # Get numerical attributes\n",
    "        attrs = {k: v for k, v in g.nodes[old_node].items()\n",
    "                if k not in ['Monosaccharide', 'string_labels']}\n",
    "        mono_link = g.nodes[old_node]['Monosaccharide']\n",
    "\n",
    "        if len(new_nodes) == 1:  # Reducing end\n",
    "            mono = mono_link.split('(')[0]\n",
    "            new_g.add_node(new_nodes[0], string_labels=mono, **attrs)\n",
    "        else:  # Normal nodes\n",
    "            mono = mono_link.split('(')[0]\n",
    "            link = mono_link.split('(')[1][:-1]\n",
    "\n",
    "            new_g.add_node(new_nodes[0], string_labels=mono, **attrs)\n",
    "            new_g.add_node(new_nodes[1], string_labels=link, **attrs)\n",
    "            new_g.add_edge(new_nodes[0], new_nodes[1])\n",
    "\n",
    "    # Add edges between components\n",
    "    for old_u, old_v in g.edges():\n",
    "        new_u = mapping.get(old_u, [])\n",
    "        new_v = mapping.get(old_v, [])\n",
    "\n",
    "        if not new_u or not new_v:  # Skip if either is -R\n",
    "            continue\n",
    "\n",
    "        if len(new_u) == 1:  # u is reducing end\n",
    "            u_node = new_u[0]\n",
    "        else:\n",
    "            u_node = new_u[0]  # Use monosaccharide node\n",
    "\n",
    "        if len(new_v) == 1:  # v is reducing end\n",
    "            v_node = new_v[0]\n",
    "        else:\n",
    "            v_node = new_v[1]  # Use linkage node\n",
    "\n",
    "        new_g.add_edge(u_node, v_node)\n",
    "\n",
    "    return new_g\n"
   ],
   "id": "69515bfbb4db6a13",
   "outputs": [],
   "execution_count": 19
  },
  {
   "metadata": {
    "ExecuteTime": {
     "end_time": "2024-12-20T07:07:58.060188Z",
     "start_time": "2024-12-20T07:07:58.020649Z"
    }
   },
   "cell_type": "code",
   "source": [
    "#fuc_3 = glycan_to_nxGraph('Fuc(a1-2)Gal(b1-4)[Fuc(a1-3)]GlcNAc(b1-3)[Fuc(a1-3)[Gal(b1-4)]GlcNAc(b1-6)]Gal(b1-4)Glc')\n",
    "flex_data=  load_data()\n",
    "fuc_3= flex_data['Fuc(a1-2)Gal(b1-4)[Fuc(a1-3)]GlcNAc(b1-3)[Fuc(a1-3)[Gal(b1-4)]GlcNAc(b1-6)]Gal(b1-4)Glc']\n",
    "new_g = convert_pdb_graph_to_glycowork(fuc_3)\n"
   ],
   "id": "8d0e4d740be9f1ac",
   "outputs": [],
   "execution_count": 20
  },
  {
   "metadata": {
    "ExecuteTime": {
     "end_time": "2024-12-20T07:08:01.356028Z",
     "start_time": "2024-12-20T07:08:01.350531Z"
    }
   },
   "cell_type": "code",
   "source": "new_g.nodes(data=True)\n",
   "id": "1a280c6e77087f5d",
   "outputs": [
    {
     "data": {
      "text/plain": [
       "NodeDataView({16: {'string_labels': 'Glc', 'Mean Score': 2.0514767858432608, 'Median Score': 2.244769612327218, 'Weighted Score': 2.128792897366927, 'weighted_mean_flexibility': 12.17857534246575}, 0: {'string_labels': 'Fuc', 'Mean Score': 1.8676189828198404, 'Median Score': 1.8176706893136725, 'Weighted Score': 1.9261586474572951, 'weighted_mean_flexibility': 16.641286591340865}, 1: {'string_labels': 'a1-3', 'Mean Score': 1.8676189828198404, 'Median Score': 1.8176706893136725, 'Weighted Score': 1.9261586474572951, 'weighted_mean_flexibility': 16.641286591340865}, 2: {'string_labels': 'Fuc', 'Mean Score': 1.9629103216109798, 'Median Score': 2.0159400925040245, 'Weighted Score': 1.94111501673313, 'weighted_mean_flexibility': 20.127824177582237}, 3: {'string_labels': 'a1-2', 'Mean Score': 1.9629103216109798, 'Median Score': 2.0159400925040245, 'Weighted Score': 1.94111501673313, 'weighted_mean_flexibility': 20.127824177582237}, 4: {'string_labels': 'Gal', 'Mean Score': 1.7647929069120436, 'Median Score': 1.7578037350904197, 'Weighted Score': 1.7861381799561076, 'weighted_mean_flexibility': 15.575945445455453}, 5: {'string_labels': 'b1-4', 'Mean Score': 1.7647929069120436, 'Median Score': 1.7578037350904197, 'Weighted Score': 1.7861381799561076, 'weighted_mean_flexibility': 15.575945445455453}, 6: {'string_labels': 'GlcNAc', 'Mean Score': 1.6338292866479605, 'Median Score': 1.6407650627661496, 'Weighted Score': 1.59215364100916, 'weighted_mean_flexibility': 10.98267171282872}, 7: {'string_labels': 'b1-3', 'Mean Score': 1.6338292866479605, 'Median Score': 1.6407650627661496, 'Weighted Score': 1.59215364100916, 'weighted_mean_flexibility': 10.98267171282872}, 8: {'string_labels': 'Fuc', 'Mean Score': 1.81364550429862, 'Median Score': 1.891440232633613, 'Weighted Score': 1.8669023368021382, 'weighted_mean_flexibility': 22.883701009899013}, 9: {'string_labels': 'a1-3', 'Mean Score': 1.81364550429862, 'Median Score': 1.891440232633613, 'Weighted Score': 1.8669023368021382, 'weighted_mean_flexibility': 22.883701009899013}, 10: {'string_labels': 'Gal', 'Mean Score': 2.1178403232130223, 'Median Score': 2.1259297977085225, 'Weighted Score': 2.1429253625935147, 'weighted_mean_flexibility': 21.138903229677034}, 11: {'string_labels': 'b1-4', 'Mean Score': 2.1178403232130223, 'Median Score': 2.1259297977085225, 'Weighted Score': 2.1429253625935147, 'weighted_mean_flexibility': 21.138903229677034}, 12: {'string_labels': 'GlcNAc', 'Mean Score': 1.773262549820356, 'Median Score': 1.6837695762515068, 'Weighted Score': 1.7021496458169612, 'weighted_mean_flexibility': 17.064866673332663}, 13: {'string_labels': 'b1-6', 'Mean Score': 1.773262549820356, 'Median Score': 1.6837695762515068, 'Weighted Score': 1.7021496458169612, 'weighted_mean_flexibility': 17.064866673332663}, 14: {'string_labels': 'Gal', 'Mean Score': 1.0813572494313122, 'Median Score': 1.0846662780968472, 'Weighted Score': 1.0457681036238264, 'weighted_mean_flexibility': 6.275166123387661}, 15: {'string_labels': 'b1-4', 'Mean Score': 1.0813572494313122, 'Median Score': 1.0846662780968472, 'Weighted Score': 1.0457681036238264, 'weighted_mean_flexibility': 6.275166123387661}})"
      ]
     },
     "execution_count": 21,
     "metadata": {},
     "output_type": "execute_result"
    }
   ],
   "execution_count": 21
  },
  {
   "metadata": {
    "ExecuteTime": {
     "end_time": "2024-12-20T08:31:52.044171Z",
     "start_time": "2024-12-20T08:31:51.977252Z"
    }
   },
   "cell_type": "code",
   "source": "GlycoDraw(\"Fuc(a1-2)[Gal(a1-3)]Gal(b1-4)GlcNAc(b1-3)[Fuc(a1-2)[Gal(a1-3)]Gal(b1-4)GlcNAc(b1-6)]GalNAc\", highlight_motif='Fuc')",
   "id": "a3f6b5e78d70c3cf",
   "outputs": [
    {
     "data": {
      "text/plain": [
       "<drawsvg.drawing.Drawing at 0x32291aa80>"
      ],
      "image/svg+xml": "<?xml version=\"1.0\" encoding=\"UTF-8\"?>\n<svg xmlns=\"http://www.w3.org/2000/svg\" xmlns:xlink=\"http://www.w3.org/1999/xlink\"\n     width=\"400\" height=\"510.0\" viewBox=\"-350.0 -305.0 400 510.0\">\n<defs>\n<path d=\"M-100,0.0 L0,-100.0\" stroke-width=\"4.0\" stroke=\"#D9D9D9\" id=\"ydb890X40\" />\n<path d=\"M-200,0.0 L-100,0.0\" stroke-width=\"4.0\" stroke=\"#D9D9D9\" id=\"ydb890X41\" />\n<path d=\"M-200,100.0 L-200,0.0\" stroke-width=\"4.0\" stroke=\"#D9D9D9\" id=\"ydb890X42\" />\n<path d=\"M-200,-200 L-100,-200\" stroke-width=\"4.0\" stroke=\"#D9D9D9\" id=\"ydb890X43\" />\n<path d=\"M-200,-100 L-200,-200\" stroke-width=\"4.0\" stroke=\"#D9D9D9\" id=\"ydb890X44\" />\n<path d=\"M-300,0 L-200,0.0\" stroke-width=\"4.0\" stroke=\"#D9D9D9\" id=\"ydb890X45\" />\n<path d=\"M-100,-200 L0,-100.0\" stroke-width=\"4.0\" stroke=\"#D9D9D9\" id=\"ydb890X46\" />\n<path d=\"M-300,-200.0 L-200,-200\" stroke-width=\"4.0\" stroke=\"#D9D9D9\" id=\"ydb890X47\" />\n<path d=\"M-50,-75.0 L50,-75.0\" stroke-width=\"0\" id=\"ydb890X48\" />\n<path d=\"M-50,-100.0 L50,-100.0\" stroke-width=\"0\" id=\"ydb890X49\" />\n<path d=\"M-150,25.0 L-50,25.0\" stroke-width=\"0\" id=\"ydb890X410\" />\n<path d=\"M-150,0.0 L-50,0.0\" stroke-width=\"0\" id=\"ydb890X411\" />\n<path d=\"M-250,25.0 L-150,25.0\" stroke-width=\"0\" id=\"ydb890X412\" />\n<path d=\"M-250,0.0 L-150,0.0\" stroke-width=\"0\" id=\"ydb890X413\" />\n<path d=\"M-250,125.0 L-150,125.0\" stroke-width=\"0\" id=\"ydb890X414\" />\n<path d=\"M-250,100.0 L-150,100.0\" stroke-width=\"0\" id=\"ydb890X415\" />\n<path d=\"M-350,25.0 L-250,25.0\" stroke-width=\"0\" id=\"ydb890X416\" />\n<path d=\"M-350,0 L-250,0\" stroke-width=\"0\" id=\"ydb890X417\" />\n<path d=\"M-150,-175.0 L-50,-175.0\" stroke-width=\"0\" id=\"ydb890X418\" />\n<path d=\"M-150,-200 L-50,-200\" stroke-width=\"0\" id=\"ydb890X419\" />\n<path d=\"M-250,-175.0 L-150,-175.0\" stroke-width=\"0\" id=\"ydb890X420\" />\n<path d=\"M-250,-200 L-150,-200\" stroke-width=\"0\" id=\"ydb890X421\" />\n<path d=\"M-250,-75.0 L-150,-75.0\" stroke-width=\"0\" id=\"ydb890X422\" />\n<path d=\"M-250,-100 L-150,-100\" stroke-width=\"0\" id=\"ydb890X423\" />\n<path d=\"M-350,-175.0 L-250,-175.0\" stroke-width=\"0\" id=\"ydb890X424\" />\n<path d=\"M-350,-200.0 L-250,-200.0\" stroke-width=\"0\" id=\"ydb890X425\" />\n</defs>\n<g transform=\"rotate(0 -150.0 -50.0)\">\n<use xlink:href=\"#ydb890X40\" />\n<text font-size=\"20.0\" text-anchor=\"middle\" fill=\"#D9D9D9\" valign=\"middle\"><textPath xlink:href=\"#ydb890X40\" startOffset=\"50%\">\n<tspan dy=\"-0.5em\">β 3</tspan>\n</textPath></text>\n<use xlink:href=\"#ydb890X41\" />\n<text font-size=\"20.0\" text-anchor=\"middle\" fill=\"#D9D9D9\" valign=\"middle\"><textPath xlink:href=\"#ydb890X41\" startOffset=\"50%\">\n<tspan dy=\"-0.5em\">β 4</tspan>\n</textPath></text>\n<use xlink:href=\"#ydb890X42\" />\n<text font-size=\"20.0\" text-anchor=\"middle\" fill=\"#D9D9D9\" valign=\"middle\"><textPath xlink:href=\"#ydb890X42\" startOffset=\"50%\">\n<tspan dy=\"-0.5em\">α 2</tspan>\n</textPath></text>\n<use xlink:href=\"#ydb890X43\" />\n<text font-size=\"20.0\" text-anchor=\"middle\" fill=\"#D9D9D9\" valign=\"middle\"><textPath xlink:href=\"#ydb890X43\" startOffset=\"50%\">\n<tspan dy=\"-0.5em\">β 4</tspan>\n</textPath></text>\n<use xlink:href=\"#ydb890X44\" />\n<text font-size=\"20.0\" text-anchor=\"middle\" fill=\"#D9D9D9\" valign=\"middle\"><textPath xlink:href=\"#ydb890X44\" startOffset=\"50%\">\n<tspan dy=\"-0.5em\">α 2</tspan>\n</textPath></text>\n<use xlink:href=\"#ydb890X45\" />\n<text font-size=\"20.0\" text-anchor=\"middle\" fill=\"#D9D9D9\" valign=\"middle\"><textPath xlink:href=\"#ydb890X45\" startOffset=\"50%\">\n<tspan dy=\"-0.5em\">α 3</tspan>\n</textPath></text>\n<use xlink:href=\"#ydb890X46\" />\n<text font-size=\"20.0\" text-anchor=\"middle\" fill=\"#D9D9D9\" valign=\"middle\"><textPath xlink:href=\"#ydb890X46\" startOffset=\"50%\">\n<tspan dy=\"-0.5em\">β 6</tspan>\n</textPath></text>\n<use xlink:href=\"#ydb890X47\" />\n<text font-size=\"20.0\" text-anchor=\"middle\" fill=\"#D9D9D9\" valign=\"middle\"><textPath xlink:href=\"#ydb890X47\" startOffset=\"50%\">\n<tspan dy=\"-0.5em\">α 3</tspan>\n</textPath></text>\n<rect x=\"-25.0\" y=\"-125.0\" width=\"50\" height=\"50\" fill=\"#FFF6DE\" stroke-width=\"2.0\" stroke=\"#D9D9D9\" />\n<use xlink:href=\"#ydb890X48\" />\n<text font-size=\"17.5\" fill=\"#D9D9D9\" text-anchor=\"middle\"><textPath xlink:href=\"#ydb890X48\" startOffset=\"50%\"></textPath></text>\n<use xlink:href=\"#ydb890X49\" />\n<text font-size=\"15.0\" fill=\"#D9D9D9\" text-anchor=\"middle\"><textPath xlink:href=\"#ydb890X49\" startOffset=\"50%\"></textPath></text>\n<rect x=\"-125.0\" y=\"-25.0\" width=\"50\" height=\"50\" fill=\"#CDE7EF\" stroke-width=\"2.0\" stroke=\"#D9D9D9\" />\n<use xlink:href=\"#ydb890X410\" />\n<text font-size=\"17.5\" fill=\"#D9D9D9\" text-anchor=\"middle\"><textPath xlink:href=\"#ydb890X410\" startOffset=\"50%\"></textPath></text>\n<use xlink:href=\"#ydb890X411\" />\n<text font-size=\"15.0\" fill=\"#D9D9D9\" text-anchor=\"middle\"><textPath xlink:href=\"#ydb890X411\" startOffset=\"50%\"></textPath></text>\n<circle cx=\"-200\" cy=\"0.0\" r=\"25.0\" fill=\"#FFF6DE\" stroke-width=\"2.0\" stroke=\"#D9D9D9\" />\n<use xlink:href=\"#ydb890X412\" />\n<text font-size=\"17.5\" fill=\"#D9D9D9\" text-anchor=\"middle\"><textPath xlink:href=\"#ydb890X412\" startOffset=\"50%\"></textPath></text>\n<use xlink:href=\"#ydb890X413\" />\n<text font-size=\"15.0\" fill=\"#D9D9D9\" text-anchor=\"middle\"><textPath xlink:href=\"#ydb890X413\" startOffset=\"50%\"></textPath></text>\n<path d=\"M-225.0,121.65063509461096 L-200,78.34936490538904 L-175.0,121.65063509461096 Z\" fill=\"#C23537\" stroke=\"#000000\" stroke-width=\"2.0\" />\n<use xlink:href=\"#ydb890X414\" />\n<text font-size=\"17.5\" text-anchor=\"middle\"><textPath xlink:href=\"#ydb890X414\" startOffset=\"50%\"></textPath></text>\n<use xlink:href=\"#ydb890X415\" />\n<text font-size=\"15.0\" fill=\"#000000\" text-anchor=\"middle\"><textPath xlink:href=\"#ydb890X415\" startOffset=\"50%\"></textPath></text>\n<circle cx=\"-300\" cy=\"0\" r=\"25.0\" fill=\"#FFF6DE\" stroke-width=\"2.0\" stroke=\"#D9D9D9\" />\n<use xlink:href=\"#ydb890X416\" />\n<text font-size=\"17.5\" fill=\"#D9D9D9\" text-anchor=\"middle\"><textPath xlink:href=\"#ydb890X416\" startOffset=\"50%\"></textPath></text>\n<use xlink:href=\"#ydb890X417\" />\n<text font-size=\"15.0\" fill=\"#D9D9D9\" text-anchor=\"middle\"><textPath xlink:href=\"#ydb890X417\" startOffset=\"50%\"></textPath></text>\n<rect x=\"-125.0\" y=\"-225.0\" width=\"50\" height=\"50\" fill=\"#CDE7EF\" stroke-width=\"2.0\" stroke=\"#D9D9D9\" />\n<use xlink:href=\"#ydb890X418\" />\n<text font-size=\"17.5\" fill=\"#D9D9D9\" text-anchor=\"middle\"><textPath xlink:href=\"#ydb890X418\" startOffset=\"50%\"></textPath></text>\n<use xlink:href=\"#ydb890X419\" />\n<text font-size=\"15.0\" fill=\"#D9D9D9\" text-anchor=\"middle\"><textPath xlink:href=\"#ydb890X419\" startOffset=\"50%\"></textPath></text>\n<circle cx=\"-200\" cy=\"-200\" r=\"25.0\" fill=\"#FFF6DE\" stroke-width=\"2.0\" stroke=\"#D9D9D9\" />\n<use xlink:href=\"#ydb890X420\" />\n<text font-size=\"17.5\" fill=\"#D9D9D9\" text-anchor=\"middle\"><textPath xlink:href=\"#ydb890X420\" startOffset=\"50%\"></textPath></text>\n<use xlink:href=\"#ydb890X421\" />\n<text font-size=\"15.0\" fill=\"#D9D9D9\" text-anchor=\"middle\"><textPath xlink:href=\"#ydb890X421\" startOffset=\"50%\"></textPath></text>\n<path d=\"M-225.0,-78.34936490538904 L-200,-121.65063509461096 L-175.0,-78.34936490538904 Z\" fill=\"#C23537\" stroke=\"#000000\" stroke-width=\"2.0\" />\n<use xlink:href=\"#ydb890X422\" />\n<text font-size=\"17.5\" text-anchor=\"middle\"><textPath xlink:href=\"#ydb890X422\" startOffset=\"50%\"></textPath></text>\n<use xlink:href=\"#ydb890X423\" />\n<text font-size=\"15.0\" fill=\"#000000\" text-anchor=\"middle\"><textPath xlink:href=\"#ydb890X423\" startOffset=\"50%\"></textPath></text>\n<circle cx=\"-300\" cy=\"-200.0\" r=\"25.0\" fill=\"#FFF6DE\" stroke-width=\"2.0\" stroke=\"#D9D9D9\" />\n<use xlink:href=\"#ydb890X424\" />\n<text font-size=\"17.5\" fill=\"#D9D9D9\" text-anchor=\"middle\"><textPath xlink:href=\"#ydb890X424\" startOffset=\"50%\"></textPath></text>\n<use xlink:href=\"#ydb890X425\" />\n<text font-size=\"15.0\" fill=\"#D9D9D9\" text-anchor=\"middle\"><textPath xlink:href=\"#ydb890X425\" startOffset=\"50%\"></textPath></text>\n</g>\n</svg>"
     },
     "execution_count": 22,
     "metadata": {},
     "output_type": "execute_result"
    }
   ],
   "execution_count": 22
  },
  {
   "metadata": {},
   "cell_type": "code",
   "outputs": [],
   "execution_count": null,
   "source": "",
   "id": "1828338b9bc0514c"
  }
 ],
 "metadata": {
  "kernelspec": {
   "display_name": "Python 3",
   "language": "python",
   "name": "python3"
  },
  "language_info": {
   "codemirror_mode": {
    "name": "ipython",
    "version": 2
   },
   "file_extension": ".py",
   "mimetype": "text/x-python",
   "name": "python",
   "nbconvert_exporter": "python",
   "pygments_lexer": "ipython2",
   "version": "2.7.6"
  }
 },
 "nbformat": 4,
 "nbformat_minor": 5
}
