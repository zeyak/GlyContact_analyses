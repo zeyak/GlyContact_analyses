{
 "cells": [
  {
   "metadata": {},
   "cell_type": "markdown",
   "source": "### How can we convert the pdb graph to glycowork graph?\n",
   "id": "adbf70c152ef10fa"
  },
  {
   "metadata": {
    "ExecuteTime": {
     "end_time": "2025-01-23T14:18:28.289807Z",
     "start_time": "2025-01-23T14:18:26.132933Z"
    }
   },
   "cell_type": "code",
   "source": [
    "from glycowork.motif.draw import GlycoDraw\n",
    "\n",
    "#GlycoDraw(\"Fuc(a1-2)Gal(b1-4)[Fuc(a1-3)]GlcNAc(b1-3)[Fuc(a1-3)[Gal(b1-4)]GlcNAc(b1-6)]Gal(b1-4)Glc\")\n",
    "GlycoDraw(\"Man(a1-2)Man(a1-2)Man(a1-3)[Man(a1-2)Man(a1-3)[Man(a1-2)Man(a1-6)]Man(a1-6)]Man(b1-4)GlcNAc(b1-4)GlcNAc\")"
   ],
   "id": "210e31bd69b0506",
   "outputs": [
    {
     "data": {
      "text/plain": [
       "<drawsvg.drawing.Drawing at 0x16b83daf0>"
      ],
      "image/svg+xml": "<?xml version=\"1.0\" encoding=\"UTF-8\"?>\n<svg xmlns=\"http://www.w3.org/2000/svg\" xmlns:xlink=\"http://www.w3.org/1999/xlink\"\n     width=\"600\" height=\"510\" viewBox=\"-550.0 -355.0 600 510\">\n<defs>\n<path d=\"M-100,-75.0 L0,-75.0\" stroke-width=\"4.0\" stroke=\"#000000\" id=\"OGen52E40\" />\n<path d=\"M-200,-75.0 L-100,-75.0\" stroke-width=\"4.0\" stroke=\"#000000\" id=\"OGen52E41\" />\n<path d=\"M-300,0 L-200,-75.0\" stroke-width=\"4.0\" stroke=\"#000000\" id=\"OGen52E42\" />\n<path d=\"M-400,0 L-300,0\" stroke-width=\"4.0\" stroke=\"#000000\" id=\"OGen52E43\" />\n<path d=\"M-500,0 L-400,0\" stroke-width=\"4.0\" stroke=\"#000000\" id=\"OGen52E44\" />\n<path d=\"M-400,-100 L-300,-150.0\" stroke-width=\"4.0\" stroke=\"#000000\" id=\"OGen52E45\" />\n<path d=\"M-500,-100 L-400,-100\" stroke-width=\"4.0\" stroke=\"#000000\" id=\"OGen52E46\" />\n<path d=\"M-300,-150.0 L-200,-75.0\" stroke-width=\"4.0\" stroke=\"#000000\" id=\"OGen52E47\" />\n<path d=\"M-500,-200 L-400,-200\" stroke-width=\"4.0\" stroke=\"#000000\" id=\"OGen52E48\" />\n<path d=\"M-400,-200 L-300,-150.0\" stroke-width=\"4.0\" stroke=\"#000000\" id=\"OGen52E49\" />\n<path d=\"M-50,-50.0 L50,-50.0\" stroke-width=\"0\" id=\"OGen52E410\" />\n<path d=\"M-150,-50.0 L-50,-50.0\" stroke-width=\"0\" id=\"OGen52E411\" />\n<path d=\"M-250,-50.0 L-150,-50.0\" stroke-width=\"0\" id=\"OGen52E412\" />\n<path d=\"M-350,25.0 L-250,25.0\" stroke-width=\"0\" id=\"OGen52E413\" />\n<path d=\"M-450,25.0 L-350,25.0\" stroke-width=\"0\" id=\"OGen52E414\" />\n<path d=\"M-550,25.0 L-450,25.0\" stroke-width=\"0\" id=\"OGen52E415\" />\n<path d=\"M-350,-125.0 L-250,-125.0\" stroke-width=\"0\" id=\"OGen52E416\" />\n<path d=\"M-450,-75.0 L-350,-75.0\" stroke-width=\"0\" id=\"OGen52E417\" />\n<path d=\"M-550,-75.0 L-450,-75.0\" stroke-width=\"0\" id=\"OGen52E418\" />\n<path d=\"M-450,-175.0 L-350,-175.0\" stroke-width=\"0\" id=\"OGen52E419\" />\n<path d=\"M-550,-175.0 L-450,-175.0\" stroke-width=\"0\" id=\"OGen52E420\" />\n</defs>\n<g transform=\"rotate(0 -250.0 -100.0)\">\n<use xlink:href=\"#OGen52E40\" />\n<text font-size=\"20.0\" text-anchor=\"middle\" fill=\"#000000\" valign=\"middle\"><textPath xlink:href=\"#OGen52E40\" startOffset=\"50%\">\n<tspan dy=\"-0.5em\">β 4</tspan>\n</textPath></text>\n<use xlink:href=\"#OGen52E41\" />\n<text font-size=\"20.0\" text-anchor=\"middle\" fill=\"#000000\" valign=\"middle\"><textPath xlink:href=\"#OGen52E41\" startOffset=\"50%\">\n<tspan dy=\"-0.5em\">β 4</tspan>\n</textPath></text>\n<use xlink:href=\"#OGen52E42\" />\n<text font-size=\"20.0\" text-anchor=\"middle\" fill=\"#000000\" valign=\"middle\"><textPath xlink:href=\"#OGen52E42\" startOffset=\"50%\">\n<tspan dy=\"-0.5em\">α 3</tspan>\n</textPath></text>\n<use xlink:href=\"#OGen52E43\" />\n<text font-size=\"20.0\" text-anchor=\"middle\" fill=\"#000000\" valign=\"middle\"><textPath xlink:href=\"#OGen52E43\" startOffset=\"50%\">\n<tspan dy=\"-0.5em\">α 2</tspan>\n</textPath></text>\n<use xlink:href=\"#OGen52E44\" />\n<text font-size=\"20.0\" text-anchor=\"middle\" fill=\"#000000\" valign=\"middle\"><textPath xlink:href=\"#OGen52E44\" startOffset=\"50%\">\n<tspan dy=\"-0.5em\">α 2</tspan>\n</textPath></text>\n<use xlink:href=\"#OGen52E45\" />\n<text font-size=\"20.0\" text-anchor=\"middle\" fill=\"#000000\" valign=\"middle\"><textPath xlink:href=\"#OGen52E45\" startOffset=\"50%\">\n<tspan dy=\"-0.5em\">α 3</tspan>\n</textPath></text>\n<use xlink:href=\"#OGen52E46\" />\n<text font-size=\"20.0\" text-anchor=\"middle\" fill=\"#000000\" valign=\"middle\"><textPath xlink:href=\"#OGen52E46\" startOffset=\"50%\">\n<tspan dy=\"-0.5em\">α 2</tspan>\n</textPath></text>\n<use xlink:href=\"#OGen52E47\" />\n<text font-size=\"20.0\" text-anchor=\"middle\" fill=\"#000000\" valign=\"middle\"><textPath xlink:href=\"#OGen52E47\" startOffset=\"50%\">\n<tspan dy=\"-0.5em\">α 6</tspan>\n</textPath></text>\n<use xlink:href=\"#OGen52E48\" />\n<text font-size=\"20.0\" text-anchor=\"middle\" fill=\"#000000\" valign=\"middle\"><textPath xlink:href=\"#OGen52E48\" startOffset=\"50%\">\n<tspan dy=\"-0.5em\">α 2</tspan>\n</textPath></text>\n<use xlink:href=\"#OGen52E49\" />\n<text font-size=\"20.0\" text-anchor=\"middle\" fill=\"#000000\" valign=\"middle\"><textPath xlink:href=\"#OGen52E49\" startOffset=\"50%\">\n<tspan dy=\"-0.5em\">α 6</tspan>\n</textPath></text>\n<rect x=\"-25.0\" y=\"-100.0\" width=\"50\" height=\"50\" fill=\"#0385AE\" stroke-width=\"2.0\" stroke=\"#000000\" />\n<use xlink:href=\"#OGen52E410\" />\n<text font-size=\"17.5\" fill=\"#000000\" text-anchor=\"middle\"><textPath xlink:href=\"#OGen52E410\" startOffset=\"50%\"></textPath></text>\n<rect x=\"-125.0\" y=\"-100.0\" width=\"50\" height=\"50\" fill=\"#0385AE\" stroke-width=\"2.0\" stroke=\"#000000\" />\n<use xlink:href=\"#OGen52E411\" />\n<text font-size=\"17.5\" fill=\"#000000\" text-anchor=\"middle\"><textPath xlink:href=\"#OGen52E411\" startOffset=\"50%\"></textPath></text>\n<circle cx=\"-200\" cy=\"-75.0\" r=\"25.0\" fill=\"#058F60\" stroke-width=\"2.0\" stroke=\"#000000\" />\n<use xlink:href=\"#OGen52E412\" />\n<text font-size=\"17.5\" fill=\"#000000\" text-anchor=\"middle\"><textPath xlink:href=\"#OGen52E412\" startOffset=\"50%\"></textPath></text>\n<circle cx=\"-300\" cy=\"0\" r=\"25.0\" fill=\"#058F60\" stroke-width=\"2.0\" stroke=\"#000000\" />\n<use xlink:href=\"#OGen52E413\" />\n<text font-size=\"17.5\" fill=\"#000000\" text-anchor=\"middle\"><textPath xlink:href=\"#OGen52E413\" startOffset=\"50%\"></textPath></text>\n<circle cx=\"-400\" cy=\"0\" r=\"25.0\" fill=\"#058F60\" stroke-width=\"2.0\" stroke=\"#000000\" />\n<use xlink:href=\"#OGen52E414\" />\n<text font-size=\"17.5\" fill=\"#000000\" text-anchor=\"middle\"><textPath xlink:href=\"#OGen52E414\" startOffset=\"50%\"></textPath></text>\n<circle cx=\"-500\" cy=\"0\" r=\"25.0\" fill=\"#058F60\" stroke-width=\"2.0\" stroke=\"#000000\" />\n<use xlink:href=\"#OGen52E415\" />\n<text font-size=\"17.5\" fill=\"#000000\" text-anchor=\"middle\"><textPath xlink:href=\"#OGen52E415\" startOffset=\"50%\"></textPath></text>\n<circle cx=\"-300\" cy=\"-150.0\" r=\"25.0\" fill=\"#058F60\" stroke-width=\"2.0\" stroke=\"#000000\" />\n<use xlink:href=\"#OGen52E416\" />\n<text font-size=\"17.5\" fill=\"#000000\" text-anchor=\"middle\"><textPath xlink:href=\"#OGen52E416\" startOffset=\"50%\"></textPath></text>\n<circle cx=\"-400\" cy=\"-100\" r=\"25.0\" fill=\"#058F60\" stroke-width=\"2.0\" stroke=\"#000000\" />\n<use xlink:href=\"#OGen52E417\" />\n<text font-size=\"17.5\" fill=\"#000000\" text-anchor=\"middle\"><textPath xlink:href=\"#OGen52E417\" startOffset=\"50%\"></textPath></text>\n<circle cx=\"-500\" cy=\"-100\" r=\"25.0\" fill=\"#058F60\" stroke-width=\"2.0\" stroke=\"#000000\" />\n<use xlink:href=\"#OGen52E418\" />\n<text font-size=\"17.5\" fill=\"#000000\" text-anchor=\"middle\"><textPath xlink:href=\"#OGen52E418\" startOffset=\"50%\"></textPath></text>\n<circle cx=\"-400\" cy=\"-200\" r=\"25.0\" fill=\"#058F60\" stroke-width=\"2.0\" stroke=\"#000000\" />\n<use xlink:href=\"#OGen52E419\" />\n<text font-size=\"17.5\" fill=\"#000000\" text-anchor=\"middle\"><textPath xlink:href=\"#OGen52E419\" startOffset=\"50%\"></textPath></text>\n<circle cx=\"-500\" cy=\"-200\" r=\"25.0\" fill=\"#058F60\" stroke-width=\"2.0\" stroke=\"#000000\" />\n<use xlink:href=\"#OGen52E420\" />\n<text font-size=\"17.5\" fill=\"#000000\" text-anchor=\"middle\"><textPath xlink:href=\"#OGen52E420\" startOffset=\"50%\"></textPath></text>\n</g>\n</svg>"
     },
     "execution_count": 1,
     "metadata": {},
     "output_type": "execute_result"
    }
   ],
   "execution_count": 1
  },
  {
   "metadata": {},
   "cell_type": "markdown",
   "source": "## Glycowork graph",
   "id": "20e290e0eb74c3bc"
  },
  {
   "metadata": {
    "ExecuteTime": {
     "end_time": "2025-01-16T14:19:49.185973Z",
     "start_time": "2025-01-16T14:19:49.182938Z"
    }
   },
   "cell_type": "code",
   "source": [
    "from glycowork.motif.graph import  glycan_to_nxGraph\n",
    "\n",
    "glycan_to_nxGraph('Fuc(a1-2)Gal(b1-4)[Fuc(a1-3)]GlcNAc(b1-3)[Fuc(a1-3)[Gal(b1-4)]GlcNAc(b1-6)]Gal(b1-4)Glc').__dict__\n"
   ],
   "id": "9e19919ba793b156",
   "outputs": [
    {
     "data": {
      "text/plain": [
       "{'graph': {},\n",
       " '_node': {0: {'string_labels': 'Fuc'},\n",
       "  1: {'string_labels': 'a1-2'},\n",
       "  2: {'string_labels': 'Gal'},\n",
       "  3: {'string_labels': 'b1-4'},\n",
       "  4: {'string_labels': 'Fuc'},\n",
       "  5: {'string_labels': 'a1-3'},\n",
       "  6: {'string_labels': 'GlcNAc'},\n",
       "  7: {'string_labels': 'b1-3'},\n",
       "  8: {'string_labels': 'Fuc'},\n",
       "  9: {'string_labels': 'a1-3'},\n",
       "  10: {'string_labels': 'Gal'},\n",
       "  11: {'string_labels': 'b1-4'},\n",
       "  12: {'string_labels': 'GlcNAc'},\n",
       "  13: {'string_labels': 'b1-6'},\n",
       "  14: {'string_labels': 'Gal'},\n",
       "  15: {'string_labels': 'b1-4'},\n",
       "  16: {'string_labels': 'Glc'}},\n",
       " '_adj': {0: {1: {}},\n",
       "  1: {0: {}, 2: {}},\n",
       "  2: {1: {}, 3: {}},\n",
       "  3: {2: {}, 6: {}},\n",
       "  4: {5: {}},\n",
       "  5: {4: {}, 6: {}},\n",
       "  6: {3: {}, 5: {}, 7: {}},\n",
       "  7: {6: {}, 14: {}},\n",
       "  8: {9: {}},\n",
       "  9: {8: {}, 12: {}},\n",
       "  10: {11: {}},\n",
       "  11: {10: {}, 12: {}},\n",
       "  12: {9: {}, 11: {}, 13: {}},\n",
       "  13: {12: {}, 14: {}},\n",
       "  14: {7: {}, 13: {}, 15: {}},\n",
       "  15: {14: {}, 16: {}},\n",
       "  16: {15: {}}},\n",
       " '__networkx_cache__': {},\n",
       " 'edges': EdgeView([(0, 1), (1, 2), (2, 3), (3, 6), (4, 5), (5, 6), (6, 7), (7, 14), (8, 9), (9, 12), (10, 11), (11, 12), (12, 13), (13, 14), (14, 15), (15, 16)]),\n",
       " 'nodes': NodeView((0, 1, 2, 3, 4, 5, 6, 7, 8, 9, 10, 11, 12, 13, 14, 15, 16))}"
      ]
     },
     "execution_count": 35,
     "metadata": {},
     "output_type": "execute_result"
    }
   ],
   "execution_count": 35
  },
  {
   "metadata": {},
   "cell_type": "markdown",
   "source": "## PDB graph",
   "id": "8d67fb6d806deab8"
  },
  {
   "metadata": {
    "ExecuteTime": {
     "end_time": "2025-01-16T14:19:49.884757Z",
     "start_time": "2025-01-16T14:19:49.877376Z"
    }
   },
   "cell_type": "code",
   "source": [
    "import pickle\n",
    "def load_data_pdb():\n",
    "    flex_data_path = '/Users/xakdze/PycharmProjects/GlyContact_analyses/data/glycan_graphs.pkl'\n",
    "\n",
    "    \"\"\"Load glycan flexibility data and binding data.\"\"\"\n",
    "    with open(flex_data_path, 'rb') as file:\n",
    "        flex_data = pickle.load(file)\n",
    "    return flex_data\n",
    "\n",
    "flex_data_pdb_g =  load_data_pdb()\n"
   ],
   "id": "1ddcd7fb9348df3d",
   "outputs": [],
   "execution_count": 36
  },
  {
   "metadata": {},
   "cell_type": "markdown",
   "source": "## create_glycontact_annotated_graph",
   "id": "931eca3c00d9d64b"
  },
  {
   "metadata": {
    "ExecuteTime": {
     "end_time": "2025-01-16T14:19:50.775823Z",
     "start_time": "2025-01-16T14:19:50.770526Z"
    }
   },
   "cell_type": "code",
   "source": [
    "import networkx as nx\n",
    "\n",
    "\n",
    "def create_glycontact_annotated_graph(glycan: str, flex_data_pdb_g: dict = flex_data_pdb_g) -> nx.Graph:\n",
    "    \"\"\"Create a glyco-contact annotated graph with flexibility attributes.\"\"\"\n",
    "    glycowork_graph = glycan_to_nxGraph(glycan)\n",
    "    num_nodes = len(glycowork_graph) - 1\n",
    "    mapper = {gcontact: gwork for gwork, gcontact in zip(range(num_nodes, -1, -2), range(2, num_nodes))}\n",
    "\n",
    "    try:\n",
    "        node_attributes = {node: flex_data_pdb_g[glycan].nodes[node]\n",
    "                           for node in flex_data_pdb_g[glycan].nodes}\n",
    "    except KeyError:\n",
    "        raise KeyError(f'The glycan {glycan} is not present in the flex database')\n",
    "\n",
    "    # Map attributes to the glycowork graph nodes\n",
    "    flex_attribute_mapping = {\n",
    "        mapper[gcontact_node]: attributes\n",
    "        for gcontact_node, attributes in node_attributes.items()\n",
    "        if gcontact_node in mapper\n",
    "    }\n",
    "\n",
    "    # Assign the mapped attributes to the glycowork graph\n",
    "    nx.set_node_attributes(glycowork_graph, flex_attribute_mapping)\n",
    "    return glycowork_graph\n",
    "\n",
    "create_glycontact_annotated_graph(\"Fuc(a1-2)Gal(b1-4)[Fuc(a1-3)]GlcNAc(b1-3)[Fuc(a1-3)[Gal(b1-4)]GlcNAc(b1-6)]Gal(b1-4)Glc\").__dict__\n"
   ],
   "id": "8dc6581451fc93a3",
   "outputs": [
    {
     "data": {
      "text/plain": [
       "{'graph': {},\n",
       " '_node': {0: {'string_labels': 'Fuc',\n",
       "   'Monosaccharide': 'Fuc(a1-3)',\n",
       "   'Mean Score': 1.8676189828198404,\n",
       "   'Median Score': 1.8176706893136725,\n",
       "   'Weighted Score': 1.9261586474572951,\n",
       "   'weighted_mean_flexibility': 16.641286591340865},\n",
       "  1: {'string_labels': 'a1-2'},\n",
       "  2: {'string_labels': 'Gal',\n",
       "   'Monosaccharide': 'Fuc(a1-2)',\n",
       "   'Mean Score': 1.9629103216109798,\n",
       "   'Median Score': 2.0159400925040245,\n",
       "   'Weighted Score': 1.94111501673313,\n",
       "   'weighted_mean_flexibility': 20.127824177582237},\n",
       "  3: {'string_labels': 'b1-4'},\n",
       "  4: {'string_labels': 'Fuc',\n",
       "   'Monosaccharide': 'Gal(b1-4)',\n",
       "   'Mean Score': 1.7647929069120436,\n",
       "   'Median Score': 1.7578037350904197,\n",
       "   'Weighted Score': 1.7861381799561076,\n",
       "   'weighted_mean_flexibility': 15.575945445455453},\n",
       "  5: {'string_labels': 'a1-3'},\n",
       "  6: {'string_labels': 'GlcNAc',\n",
       "   'Monosaccharide': 'GlcNAc(b1-3)',\n",
       "   'Mean Score': 1.6338292866479605,\n",
       "   'Median Score': 1.6407650627661496,\n",
       "   'Weighted Score': 1.59215364100916,\n",
       "   'weighted_mean_flexibility': 10.98267171282872},\n",
       "  7: {'string_labels': 'b1-3'},\n",
       "  8: {'string_labels': 'Fuc',\n",
       "   'Monosaccharide': 'Fuc(a1-3)',\n",
       "   'Mean Score': 1.81364550429862,\n",
       "   'Median Score': 1.891440232633613,\n",
       "   'Weighted Score': 1.8669023368021382,\n",
       "   'weighted_mean_flexibility': 22.883701009899013},\n",
       "  9: {'string_labels': 'a1-3'},\n",
       "  10: {'string_labels': 'Gal',\n",
       "   'Monosaccharide': 'Gal(b1-4)',\n",
       "   'Mean Score': 2.1178403232130223,\n",
       "   'Median Score': 2.1259297977085225,\n",
       "   'Weighted Score': 2.1429253625935147,\n",
       "   'weighted_mean_flexibility': 21.138903229677034},\n",
       "  11: {'string_labels': 'b1-4'},\n",
       "  12: {'string_labels': 'GlcNAc',\n",
       "   'Monosaccharide': 'GlcNAc(b1-6)',\n",
       "   'Mean Score': 1.773262549820356,\n",
       "   'Median Score': 1.6837695762515068,\n",
       "   'Weighted Score': 1.7021496458169612,\n",
       "   'weighted_mean_flexibility': 17.064866673332663},\n",
       "  13: {'string_labels': 'b1-6'},\n",
       "  14: {'string_labels': 'Gal',\n",
       "   'Monosaccharide': 'Gal(b1-4)',\n",
       "   'Mean Score': 1.0813572494313122,\n",
       "   'Median Score': 1.0846662780968472,\n",
       "   'Weighted Score': 1.0457681036238264,\n",
       "   'weighted_mean_flexibility': 6.275166123387661},\n",
       "  15: {'string_labels': 'b1-4'},\n",
       "  16: {'string_labels': 'Glc',\n",
       "   'Monosaccharide': 'Glc(b1-1)',\n",
       "   'Mean Score': 2.0514767858432608,\n",
       "   'Median Score': 2.244769612327218,\n",
       "   'Weighted Score': 2.128792897366927,\n",
       "   'weighted_mean_flexibility': 12.17857534246575}},\n",
       " '_adj': {0: {1: {}},\n",
       "  1: {0: {}, 2: {}},\n",
       "  2: {1: {}, 3: {}},\n",
       "  3: {2: {}, 6: {}},\n",
       "  4: {5: {}},\n",
       "  5: {4: {}, 6: {}},\n",
       "  6: {3: {}, 5: {}, 7: {}},\n",
       "  7: {6: {}, 14: {}},\n",
       "  8: {9: {}},\n",
       "  9: {8: {}, 12: {}},\n",
       "  10: {11: {}},\n",
       "  11: {10: {}, 12: {}},\n",
       "  12: {9: {}, 11: {}, 13: {}},\n",
       "  13: {12: {}, 14: {}},\n",
       "  14: {7: {}, 13: {}, 15: {}},\n",
       "  15: {14: {}, 16: {}},\n",
       "  16: {15: {}}},\n",
       " '__networkx_cache__': {},\n",
       " 'edges': EdgeView([(0, 1), (1, 2), (2, 3), (3, 6), (4, 5), (5, 6), (6, 7), (7, 14), (8, 9), (9, 12), (10, 11), (11, 12), (12, 13), (13, 14), (14, 15), (15, 16)]),\n",
       " 'nodes': NodeView((0, 1, 2, 3, 4, 5, 6, 7, 8, 9, 10, 11, 12, 13, 14, 15, 16))}"
      ]
     },
     "execution_count": 37,
     "metadata": {},
     "output_type": "execute_result"
    }
   ],
   "execution_count": 37
  },
  {
   "metadata": {
    "ExecuteTime": {
     "end_time": "2025-01-16T14:19:51.532681Z",
     "start_time": "2025-01-16T14:19:51.528146Z"
    }
   },
   "cell_type": "code",
   "source": "flex_data_pdb_g[\"Fuc(a1-2)Gal(b1-4)[Fuc(a1-3)]GlcNAc(b1-3)[Fuc(a1-3)[Gal(b1-4)]GlcNAc(b1-6)]Gal(b1-4)Glc\"].__dict__",
   "id": "185cd38a3542ba4",
   "outputs": [
    {
     "data": {
      "text/plain": [
       "{'graph': {},\n",
       " '_node': {2: {'Monosaccharide': 'Glc(b1-1)',\n",
       "   'Mean Score': 2.0514767858432608,\n",
       "   'Median Score': 2.244769612327218,\n",
       "   'Weighted Score': 2.128792897366927,\n",
       "   'weighted_mean_flexibility': 12.17857534246575},\n",
       "  1: {'Monosaccharide': '-R',\n",
       "   'Mean Score': 0.46870365738868713,\n",
       "   'Median Score': 0.5194512158632278,\n",
       "   'Weighted Score': 0.492240047726902,\n",
       "   'weighted_mean_flexibility': 21.947800819918005},\n",
       "  4: {'Monosaccharide': 'GlcNAc(b1-6)',\n",
       "   'Mean Score': 1.773262549820356,\n",
       "   'Median Score': 1.6837695762515068,\n",
       "   'Weighted Score': 1.7021496458169612,\n",
       "   'weighted_mean_flexibility': 17.064866673332663},\n",
       "  3: {'Monosaccharide': 'Gal(b1-4)',\n",
       "   'Mean Score': 1.0813572494313122,\n",
       "   'Median Score': 1.0846662780968472,\n",
       "   'Weighted Score': 1.0457681036238264,\n",
       "   'weighted_mean_flexibility': 6.275166123387661},\n",
       "  8: {'Monosaccharide': 'Gal(b1-4)',\n",
       "   'Mean Score': 1.7647929069120436,\n",
       "   'Median Score': 1.7578037350904197,\n",
       "   'Weighted Score': 1.7861381799561076,\n",
       "   'weighted_mean_flexibility': 15.575945445455453},\n",
       "  7: {'Monosaccharide': 'GlcNAc(b1-3)',\n",
       "   'Mean Score': 1.6338292866479605,\n",
       "   'Median Score': 1.6407650627661496,\n",
       "   'Weighted Score': 1.59215364100916,\n",
       "   'weighted_mean_flexibility': 10.98267171282872},\n",
       "  5: {'Monosaccharide': 'Gal(b1-4)',\n",
       "   'Mean Score': 2.1178403232130223,\n",
       "   'Median Score': 2.1259297977085225,\n",
       "   'Weighted Score': 2.1429253625935147,\n",
       "   'weighted_mean_flexibility': 21.138903229677034},\n",
       "  6: {'Monosaccharide': 'Fuc(a1-3)',\n",
       "   'Mean Score': 1.81364550429862,\n",
       "   'Median Score': 1.891440232633613,\n",
       "   'Weighted Score': 1.8669023368021382,\n",
       "   'weighted_mean_flexibility': 22.883701009899013},\n",
       "  10: {'Monosaccharide': 'Fuc(a1-3)',\n",
       "   'Mean Score': 1.8676189828198404,\n",
       "   'Median Score': 1.8176706893136725,\n",
       "   'Weighted Score': 1.9261586474572951,\n",
       "   'weighted_mean_flexibility': 16.641286591340865},\n",
       "  9: {'Monosaccharide': 'Fuc(a1-2)',\n",
       "   'Mean Score': 1.9629103216109798,\n",
       "   'Median Score': 2.0159400925040245,\n",
       "   'Weighted Score': 1.94111501673313,\n",
       "   'weighted_mean_flexibility': 20.127824177582237}},\n",
       " '_adj': {2: {1: {}, 3: {}},\n",
       "  1: {2: {}},\n",
       "  4: {3: {}, 5: {}, 6: {}},\n",
       "  3: {4: {}, 7: {}, 2: {}},\n",
       "  8: {7: {}, 9: {}},\n",
       "  7: {8: {}, 10: {}, 3: {}},\n",
       "  5: {4: {}},\n",
       "  6: {4: {}},\n",
       "  10: {7: {}},\n",
       "  9: {8: {}}},\n",
       " 'nodes': NodeView((2, 1, 4, 3, 8, 7, 5, 6, 10, 9))}"
      ]
     },
     "execution_count": 38,
     "metadata": {},
     "output_type": "execute_result"
    }
   ],
   "execution_count": 38
  },
  {
   "metadata": {},
   "cell_type": "code",
   "outputs": [],
   "execution_count": null,
   "source": "",
   "id": "70eab49aa465ee74"
  }
 ],
 "metadata": {
  "kernelspec": {
   "display_name": "Python 3",
   "language": "python",
   "name": "python3"
  },
  "language_info": {
   "codemirror_mode": {
    "name": "ipython",
    "version": 2
   },
   "file_extension": ".py",
   "mimetype": "text/x-python",
   "name": "python",
   "nbconvert_exporter": "python",
   "pygments_lexer": "ipython2",
   "version": "2.7.6"
  }
 },
 "nbformat": 4,
 "nbformat_minor": 5
}
