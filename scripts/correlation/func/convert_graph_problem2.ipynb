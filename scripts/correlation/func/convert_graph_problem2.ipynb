{
 "cells": [
  {
   "metadata": {},
   "cell_type": "markdown",
   "source": "### How can we convert the pdb graph to glycowork graph?\n",
   "id": "adbf70c152ef10fa"
  },
  {
   "metadata": {
    "ExecuteTime": {
     "end_time": "2025-01-16T14:15:13.147478Z",
     "start_time": "2025-01-16T14:15:13.138466Z"
    }
   },
   "cell_type": "code",
   "source": [
    "from glycowork.motif.draw import GlycoDraw\n",
    "\n",
    "GlycoDraw(\"Fuc(a1-2)Gal(b1-4)[Fuc(a1-3)]GlcNAc(b1-3)[Fuc(a1-3)[Gal(b1-4)]GlcNAc(b1-6)]Gal(b1-4)Glc\")"
   ],
   "id": "210e31bd69b0506",
   "outputs": [
    {
     "data": {
      "text/plain": [
       "<drawsvg.drawing.Drawing at 0x14005da00>"
      ],
      "image/svg+xml": "<?xml version=\"1.0\" encoding=\"UTF-8\"?>\n<svg xmlns=\"http://www.w3.org/2000/svg\" xmlns:xlink=\"http://www.w3.org/1999/xlink\"\n     width=\"400\" height=\"510\" viewBox=\"-350.0 -305.0 400 510\">\n<defs>\n<path d=\"M-100,-100.0 L0,-100.0\" stroke-width=\"4.0\" stroke=\"#000000\" id=\"tkPKszkE0\" />\n<path d=\"M-200,0 L-100,-100.0\" stroke-width=\"4.0\" stroke=\"#000000\" id=\"tkPKszkE1\" />\n<path d=\"M-300,0 L-200,0\" stroke-width=\"4.0\" stroke=\"#000000\" id=\"tkPKszkE2\" />\n<path d=\"M-300,100 L-300,0\" stroke-width=\"4.0\" stroke=\"#000000\" id=\"tkPKszkE3\" />\n<path d=\"M-200,-100 L-200,-200\" stroke-width=\"4.0\" stroke=\"#000000\" id=\"tkPKszkE4\" />\n<path d=\"M-200,100 L-200,0\" stroke-width=\"4.0\" stroke=\"#000000\" id=\"tkPKszkE5\" />\n<path d=\"M-200,-200 L-100,-100.0\" stroke-width=\"4.0\" stroke=\"#000000\" id=\"tkPKszkE6\" />\n<path d=\"M-300,-200 L-200,-200\" stroke-width=\"4.0\" stroke=\"#000000\" id=\"tkPKszkE7\" />\n<path d=\"M-50,-75.0 L50,-75.0\" stroke-width=\"0\" id=\"tkPKszkE8\" />\n<path d=\"M-150,-75.0 L-50,-75.0\" stroke-width=\"0\" id=\"tkPKszkE9\" />\n<path d=\"M-250,25.0 L-150,25.0\" stroke-width=\"0\" id=\"tkPKszkE10\" />\n<path d=\"M-350,25.0 L-250,25.0\" stroke-width=\"0\" id=\"tkPKszkE11\" />\n<path d=\"M-350,125.0 L-250,125.0\" stroke-width=\"0\" id=\"tkPKszkE12\" />\n<path d=\"M-250,125.0 L-150,125.0\" stroke-width=\"0\" id=\"tkPKszkE13\" />\n<path d=\"M-250,-175.0 L-150,-175.0\" stroke-width=\"0\" id=\"tkPKszkE14\" />\n<path d=\"M-250,-75.0 L-150,-75.0\" stroke-width=\"0\" id=\"tkPKszkE15\" />\n<path d=\"M-350,-175.0 L-250,-175.0\" stroke-width=\"0\" id=\"tkPKszkE16\" />\n</defs>\n<g transform=\"rotate(0 -150.0 -50.0)\">\n<use xlink:href=\"#tkPKszkE0\" />\n<text font-size=\"20.0\" text-anchor=\"middle\" fill=\"#000000\" valign=\"middle\"><textPath xlink:href=\"#tkPKszkE0\" startOffset=\"50%\">\n<tspan dy=\"-0.5em\">β 4</tspan>\n</textPath></text>\n<use xlink:href=\"#tkPKszkE1\" />\n<text font-size=\"20.0\" text-anchor=\"middle\" fill=\"#000000\" valign=\"middle\"><textPath xlink:href=\"#tkPKszkE1\" startOffset=\"50%\">\n<tspan dy=\"-0.5em\">β 3</tspan>\n</textPath></text>\n<use xlink:href=\"#tkPKszkE2\" />\n<text font-size=\"20.0\" text-anchor=\"middle\" fill=\"#000000\" valign=\"middle\"><textPath xlink:href=\"#tkPKszkE2\" startOffset=\"50%\">\n<tspan dy=\"-0.5em\">β 4</tspan>\n</textPath></text>\n<use xlink:href=\"#tkPKszkE3\" />\n<text font-size=\"20.0\" text-anchor=\"middle\" fill=\"#000000\" valign=\"middle\"><textPath xlink:href=\"#tkPKszkE3\" startOffset=\"50%\">\n<tspan dy=\"-0.5em\">α 2</tspan>\n</textPath></text>\n<use xlink:href=\"#tkPKszkE4\" />\n<text font-size=\"20.0\" text-anchor=\"middle\" fill=\"#000000\" valign=\"middle\"><textPath xlink:href=\"#tkPKszkE4\" startOffset=\"50%\">\n<tspan dy=\"-0.5em\">α 3</tspan>\n</textPath></text>\n<use xlink:href=\"#tkPKszkE5\" />\n<text font-size=\"20.0\" text-anchor=\"middle\" fill=\"#000000\" valign=\"middle\"><textPath xlink:href=\"#tkPKszkE5\" startOffset=\"50%\">\n<tspan dy=\"-0.5em\">α 3</tspan>\n</textPath></text>\n<use xlink:href=\"#tkPKszkE6\" />\n<text font-size=\"20.0\" text-anchor=\"middle\" fill=\"#000000\" valign=\"middle\"><textPath xlink:href=\"#tkPKszkE6\" startOffset=\"50%\">\n<tspan dy=\"-0.5em\">β 6</tspan>\n</textPath></text>\n<use xlink:href=\"#tkPKszkE7\" />\n<text font-size=\"20.0\" text-anchor=\"middle\" fill=\"#000000\" valign=\"middle\"><textPath xlink:href=\"#tkPKszkE7\" startOffset=\"50%\">\n<tspan dy=\"-0.5em\">β 4</tspan>\n</textPath></text>\n<circle cx=\"0\" cy=\"-100.0\" r=\"25.0\" fill=\"#0385AE\" stroke-width=\"2.0\" stroke=\"#000000\" />\n<use xlink:href=\"#tkPKszkE8\" />\n<text font-size=\"17.5\" fill=\"#000000\" text-anchor=\"middle\"><textPath xlink:href=\"#tkPKszkE8\" startOffset=\"50%\"></textPath></text>\n<circle cx=\"-100\" cy=\"-100.0\" r=\"25.0\" fill=\"#FCC326\" stroke-width=\"2.0\" stroke=\"#000000\" />\n<use xlink:href=\"#tkPKszkE9\" />\n<text font-size=\"17.5\" fill=\"#000000\" text-anchor=\"middle\"><textPath xlink:href=\"#tkPKszkE9\" startOffset=\"50%\"></textPath></text>\n<rect x=\"-225.0\" y=\"-25.0\" width=\"50\" height=\"50\" fill=\"#0385AE\" stroke-width=\"2.0\" stroke=\"#000000\" />\n<use xlink:href=\"#tkPKszkE10\" />\n<text font-size=\"17.5\" fill=\"#000000\" text-anchor=\"middle\"><textPath xlink:href=\"#tkPKszkE10\" startOffset=\"50%\"></textPath></text>\n<circle cx=\"-300\" cy=\"0\" r=\"25.0\" fill=\"#FCC326\" stroke-width=\"2.0\" stroke=\"#000000\" />\n<use xlink:href=\"#tkPKszkE11\" />\n<text font-size=\"17.5\" fill=\"#000000\" text-anchor=\"middle\"><textPath xlink:href=\"#tkPKszkE11\" startOffset=\"50%\"></textPath></text>\n<path d=\"M-325.0,121.65063509461096 L-300,78.34936490538904 L-275.0,121.65063509461096 Z\" fill=\"#C23537\" stroke=\"#000000\" stroke-width=\"2.0\" />\n<use xlink:href=\"#tkPKszkE12\" />\n<text font-size=\"17.5\" fill=\"#000000\" text-anchor=\"middle\"><textPath xlink:href=\"#tkPKszkE12\" startOffset=\"50%\"></textPath></text>\n<path d=\"M-225.0,121.65063509461096 L-200,78.34936490538904 L-175.0,121.65063509461096 Z\" fill=\"#C23537\" stroke=\"#000000\" stroke-width=\"2.0\" />\n<use xlink:href=\"#tkPKszkE13\" />\n<text font-size=\"17.5\" fill=\"#000000\" text-anchor=\"middle\"><textPath xlink:href=\"#tkPKszkE13\" startOffset=\"50%\"></textPath></text>\n<rect x=\"-225.0\" y=\"-225.0\" width=\"50\" height=\"50\" fill=\"#0385AE\" stroke-width=\"2.0\" stroke=\"#000000\" />\n<use xlink:href=\"#tkPKszkE14\" />\n<text font-size=\"17.5\" fill=\"#000000\" text-anchor=\"middle\"><textPath xlink:href=\"#tkPKszkE14\" startOffset=\"50%\"></textPath></text>\n<path d=\"M-225.0,-78.34936490538904 L-200,-121.65063509461096 L-175.0,-78.34936490538904 Z\" fill=\"#C23537\" stroke=\"#000000\" stroke-width=\"2.0\" />\n<use xlink:href=\"#tkPKszkE15\" />\n<text font-size=\"17.5\" fill=\"#000000\" text-anchor=\"middle\"><textPath xlink:href=\"#tkPKszkE15\" startOffset=\"50%\"></textPath></text>\n<circle cx=\"-300\" cy=\"-200\" r=\"25.0\" fill=\"#FCC326\" stroke-width=\"2.0\" stroke=\"#000000\" />\n<use xlink:href=\"#tkPKszkE16\" />\n<text font-size=\"17.5\" fill=\"#000000\" text-anchor=\"middle\"><textPath xlink:href=\"#tkPKszkE16\" startOffset=\"50%\"></textPath></text>\n</g>\n</svg>"
     },
     "execution_count": 32,
     "metadata": {},
     "output_type": "execute_result"
    }
   ],
   "execution_count": 32
  },
  {
   "metadata": {},
   "cell_type": "markdown",
   "source": "## Glycowork graph",
   "id": "20e290e0eb74c3bc"
  },
  {
   "metadata": {
    "ExecuteTime": {
     "end_time": "2025-01-16T14:15:22.852004Z",
     "start_time": "2025-01-16T14:15:22.848140Z"
    }
   },
   "cell_type": "code",
   "source": [
    "from glycowork.motif.graph import  glycan_to_nxGraph\n",
    "\n",
    "glycan_to_nxGraph('Fuc(a1-2)Gal(b1-4)[Fuc(a1-3)]GlcNAc(b1-3)[Fuc(a1-3)[Gal(b1-4)]GlcNAc(b1-6)]Gal(b1-4)Glc').__dict__\n"
   ],
   "id": "9e19919ba793b156",
   "outputs": [
    {
     "data": {
      "text/plain": [
       "{'graph': {},\n",
       " '_node': {0: {'string_labels': 'Fuc'},\n",
       "  1: {'string_labels': 'a1-2'},\n",
       "  2: {'string_labels': 'Gal'},\n",
       "  3: {'string_labels': 'b1-4'},\n",
       "  4: {'string_labels': 'Fuc'},\n",
       "  5: {'string_labels': 'a1-3'},\n",
       "  6: {'string_labels': 'GlcNAc'},\n",
       "  7: {'string_labels': 'b1-3'},\n",
       "  8: {'string_labels': 'Fuc'},\n",
       "  9: {'string_labels': 'a1-3'},\n",
       "  10: {'string_labels': 'Gal'},\n",
       "  11: {'string_labels': 'b1-4'},\n",
       "  12: {'string_labels': 'GlcNAc'},\n",
       "  13: {'string_labels': 'b1-6'},\n",
       "  14: {'string_labels': 'Gal'},\n",
       "  15: {'string_labels': 'b1-4'},\n",
       "  16: {'string_labels': 'Glc'}},\n",
       " '_adj': {0: {1: {}},\n",
       "  1: {0: {}, 2: {}},\n",
       "  2: {1: {}, 3: {}},\n",
       "  3: {2: {}, 6: {}},\n",
       "  4: {5: {}},\n",
       "  5: {4: {}, 6: {}},\n",
       "  6: {3: {}, 5: {}, 7: {}},\n",
       "  7: {6: {}, 14: {}},\n",
       "  8: {9: {}},\n",
       "  9: {8: {}, 12: {}},\n",
       "  10: {11: {}},\n",
       "  11: {10: {}, 12: {}},\n",
       "  12: {9: {}, 11: {}, 13: {}},\n",
       "  13: {12: {}, 14: {}},\n",
       "  14: {7: {}, 13: {}, 15: {}},\n",
       "  15: {14: {}, 16: {}},\n",
       "  16: {15: {}}},\n",
       " '__networkx_cache__': {},\n",
       " 'edges': EdgeView([(0, 1), (1, 2), (2, 3), (3, 6), (4, 5), (5, 6), (6, 7), (7, 14), (8, 9), (9, 12), (10, 11), (11, 12), (12, 13), (13, 14), (14, 15), (15, 16)]),\n",
       " 'nodes': NodeView((0, 1, 2, 3, 4, 5, 6, 7, 8, 9, 10, 11, 12, 13, 14, 15, 16))}"
      ]
     },
     "execution_count": 33,
     "metadata": {},
     "output_type": "execute_result"
    }
   ],
   "execution_count": 33
  },
  {
   "metadata": {},
   "cell_type": "markdown",
   "source": "## PDB graph",
   "id": "8d67fb6d806deab8"
  },
  {
   "metadata": {
    "ExecuteTime": {
     "end_time": "2025-01-16T14:14:16.902265Z",
     "start_time": "2025-01-16T14:14:16.894473Z"
    }
   },
   "cell_type": "code",
   "source": [
    "import pickle\n",
    "def load_data_pdb():\n",
    "    flex_data_path = '/Users/xakdze/PycharmProjects/GlyContact_analyses/data/glycan_graphs.pkl'\n",
    "\n",
    "    \"\"\"Load glycan flexibility data and binding data.\"\"\"\n",
    "    with open(flex_data_path, 'rb') as file:\n",
    "        flex_data = pickle.load(file)\n",
    "    return flex_data\n",
    "\n",
    "flex_data_pdb_g =  load_data_pdb()\n"
   ],
   "id": "1ddcd7fb9348df3d",
   "outputs": [],
   "execution_count": 29
  },
  {
   "metadata": {},
   "cell_type": "markdown",
   "source": "## create_glycontact_annotated_graph",
   "id": "931eca3c00d9d64b"
  },
  {
   "metadata": {
    "ExecuteTime": {
     "end_time": "2025-01-16T14:14:18.053542Z",
     "start_time": "2025-01-16T14:14:18.046736Z"
    }
   },
   "cell_type": "code",
   "source": [
    "import networkx as nx\n",
    "\n",
    "\n",
    "def create_glycontact_annotated_graph(glycan: str, flex_data_pdb_g: dict = flex_data_pdb_g) -> nx.Graph:\n",
    "    \"\"\"Create a glyco-contact annotated graph with flexibility attributes.\"\"\"\n",
    "    glycowork_graph = glycan_to_nxGraph(glycan)\n",
    "    num_nodes = len(glycowork_graph) - 1\n",
    "    mapper = {gcontact: gwork for gwork, gcontact in zip(range(num_nodes, -1, -2), range(2, num_nodes))}\n",
    "\n",
    "    try:\n",
    "        node_attributes = {node: flex_data_pdb_g[glycan].nodes[node]\n",
    "                           for node in flex_data_pdb_g[glycan].nodes}\n",
    "    except KeyError:\n",
    "        raise KeyError(f'The glycan {glycan} is not present in the flex database')\n",
    "\n",
    "    # Map attributes to the glycowork graph nodes\n",
    "    flex_attribute_mapping = {\n",
    "        mapper[gcontact_node]: attributes\n",
    "        for gcontact_node, attributes in node_attributes.items()\n",
    "        if gcontact_node in mapper\n",
    "    }\n",
    "\n",
    "    # Assign the mapped attributes to the glycowork graph\n",
    "    nx.set_node_attributes(glycowork_graph, flex_attribute_mapping)\n",
    "    return glycowork_graph\n",
    "\n",
    "create_glycontact_annotated_graph(\"Fuc(a1-2)Gal(b1-4)[Fuc(a1-3)]GlcNAc(b1-3)[Fuc(a1-3)[Gal(b1-4)]GlcNAc(b1-6)]Gal(b1-4)Glc\").__dict__\n"
   ],
   "id": "8dc6581451fc93a3",
   "outputs": [
    {
     "data": {
      "text/plain": [
       "{'graph': {},\n",
       " '_node': {0: {'string_labels': 'Fuc',\n",
       "   'Monosaccharide': 'Fuc(a1-3)',\n",
       "   'Mean Score': 1.8676189828198404,\n",
       "   'Median Score': 1.8176706893136725,\n",
       "   'Weighted Score': 1.9261586474572951,\n",
       "   'weighted_mean_flexibility': 16.641286591340865},\n",
       "  1: {'string_labels': 'a1-2'},\n",
       "  2: {'string_labels': 'Gal',\n",
       "   'Monosaccharide': 'Fuc(a1-2)',\n",
       "   'Mean Score': 1.9629103216109798,\n",
       "   'Median Score': 2.0159400925040245,\n",
       "   'Weighted Score': 1.94111501673313,\n",
       "   'weighted_mean_flexibility': 20.127824177582237},\n",
       "  3: {'string_labels': 'b1-4'},\n",
       "  4: {'string_labels': 'Fuc',\n",
       "   'Monosaccharide': 'Gal(b1-4)',\n",
       "   'Mean Score': 1.7647929069120436,\n",
       "   'Median Score': 1.7578037350904197,\n",
       "   'Weighted Score': 1.7861381799561076,\n",
       "   'weighted_mean_flexibility': 15.575945445455453},\n",
       "  5: {'string_labels': 'a1-3'},\n",
       "  6: {'string_labels': 'GlcNAc',\n",
       "   'Monosaccharide': 'GlcNAc(b1-3)',\n",
       "   'Mean Score': 1.6338292866479605,\n",
       "   'Median Score': 1.6407650627661496,\n",
       "   'Weighted Score': 1.59215364100916,\n",
       "   'weighted_mean_flexibility': 10.98267171282872},\n",
       "  7: {'string_labels': 'b1-3'},\n",
       "  8: {'string_labels': 'Fuc',\n",
       "   'Monosaccharide': 'Fuc(a1-3)',\n",
       "   'Mean Score': 1.81364550429862,\n",
       "   'Median Score': 1.891440232633613,\n",
       "   'Weighted Score': 1.8669023368021382,\n",
       "   'weighted_mean_flexibility': 22.883701009899013},\n",
       "  9: {'string_labels': 'a1-3'},\n",
       "  10: {'string_labels': 'Gal',\n",
       "   'Monosaccharide': 'Gal(b1-4)',\n",
       "   'Mean Score': 2.1178403232130223,\n",
       "   'Median Score': 2.1259297977085225,\n",
       "   'Weighted Score': 2.1429253625935147,\n",
       "   'weighted_mean_flexibility': 21.138903229677034},\n",
       "  11: {'string_labels': 'b1-4'},\n",
       "  12: {'string_labels': 'GlcNAc',\n",
       "   'Monosaccharide': 'GlcNAc(b1-6)',\n",
       "   'Mean Score': 1.773262549820356,\n",
       "   'Median Score': 1.6837695762515068,\n",
       "   'Weighted Score': 1.7021496458169612,\n",
       "   'weighted_mean_flexibility': 17.064866673332663},\n",
       "  13: {'string_labels': 'b1-6'},\n",
       "  14: {'string_labels': 'Gal',\n",
       "   'Monosaccharide': 'Gal(b1-4)',\n",
       "   'Mean Score': 1.0813572494313122,\n",
       "   'Median Score': 1.0846662780968472,\n",
       "   'Weighted Score': 1.0457681036238264,\n",
       "   'weighted_mean_flexibility': 6.275166123387661},\n",
       "  15: {'string_labels': 'b1-4'},\n",
       "  16: {'string_labels': 'Glc',\n",
       "   'Monosaccharide': 'Glc(b1-1)',\n",
       "   'Mean Score': 2.0514767858432608,\n",
       "   'Median Score': 2.244769612327218,\n",
       "   'Weighted Score': 2.128792897366927,\n",
       "   'weighted_mean_flexibility': 12.17857534246575}},\n",
       " '_adj': {0: {1: {}},\n",
       "  1: {0: {}, 2: {}},\n",
       "  2: {1: {}, 3: {}},\n",
       "  3: {2: {}, 6: {}},\n",
       "  4: {5: {}},\n",
       "  5: {4: {}, 6: {}},\n",
       "  6: {3: {}, 5: {}, 7: {}},\n",
       "  7: {6: {}, 14: {}},\n",
       "  8: {9: {}},\n",
       "  9: {8: {}, 12: {}},\n",
       "  10: {11: {}},\n",
       "  11: {10: {}, 12: {}},\n",
       "  12: {9: {}, 11: {}, 13: {}},\n",
       "  13: {12: {}, 14: {}},\n",
       "  14: {7: {}, 13: {}, 15: {}},\n",
       "  15: {14: {}, 16: {}},\n",
       "  16: {15: {}}},\n",
       " '__networkx_cache__': {},\n",
       " 'edges': EdgeView([(0, 1), (1, 2), (2, 3), (3, 6), (4, 5), (5, 6), (6, 7), (7, 14), (8, 9), (9, 12), (10, 11), (11, 12), (12, 13), (13, 14), (14, 15), (15, 16)]),\n",
       " 'nodes': NodeView((0, 1, 2, 3, 4, 5, 6, 7, 8, 9, 10, 11, 12, 13, 14, 15, 16))}"
      ]
     },
     "execution_count": 30,
     "metadata": {},
     "output_type": "execute_result"
    }
   ],
   "execution_count": 30
  },
  {
   "metadata": {
    "ExecuteTime": {
     "end_time": "2025-01-16T14:14:46.695270Z",
     "start_time": "2025-01-16T14:14:46.691232Z"
    }
   },
   "cell_type": "code",
   "source": "flex_data_pdb_g[\"Fuc(a1-2)Gal(b1-4)[Fuc(a1-3)]GlcNAc(b1-3)[Fuc(a1-3)[Gal(b1-4)]GlcNAc(b1-6)]Gal(b1-4)Glc\"].__dict__",
   "id": "185cd38a3542ba4",
   "outputs": [
    {
     "data": {
      "text/plain": [
       "{'graph': {},\n",
       " '_node': {2: {'Monosaccharide': 'Glc(b1-1)',\n",
       "   'Mean Score': 2.0514767858432608,\n",
       "   'Median Score': 2.244769612327218,\n",
       "   'Weighted Score': 2.128792897366927,\n",
       "   'weighted_mean_flexibility': 12.17857534246575},\n",
       "  1: {'Monosaccharide': '-R',\n",
       "   'Mean Score': 0.46870365738868713,\n",
       "   'Median Score': 0.5194512158632278,\n",
       "   'Weighted Score': 0.492240047726902,\n",
       "   'weighted_mean_flexibility': 21.947800819918005},\n",
       "  4: {'Monosaccharide': 'GlcNAc(b1-6)',\n",
       "   'Mean Score': 1.773262549820356,\n",
       "   'Median Score': 1.6837695762515068,\n",
       "   'Weighted Score': 1.7021496458169612,\n",
       "   'weighted_mean_flexibility': 17.064866673332663},\n",
       "  3: {'Monosaccharide': 'Gal(b1-4)',\n",
       "   'Mean Score': 1.0813572494313122,\n",
       "   'Median Score': 1.0846662780968472,\n",
       "   'Weighted Score': 1.0457681036238264,\n",
       "   'weighted_mean_flexibility': 6.275166123387661},\n",
       "  8: {'Monosaccharide': 'Gal(b1-4)',\n",
       "   'Mean Score': 1.7647929069120436,\n",
       "   'Median Score': 1.7578037350904197,\n",
       "   'Weighted Score': 1.7861381799561076,\n",
       "   'weighted_mean_flexibility': 15.575945445455453},\n",
       "  7: {'Monosaccharide': 'GlcNAc(b1-3)',\n",
       "   'Mean Score': 1.6338292866479605,\n",
       "   'Median Score': 1.6407650627661496,\n",
       "   'Weighted Score': 1.59215364100916,\n",
       "   'weighted_mean_flexibility': 10.98267171282872},\n",
       "  5: {'Monosaccharide': 'Gal(b1-4)',\n",
       "   'Mean Score': 2.1178403232130223,\n",
       "   'Median Score': 2.1259297977085225,\n",
       "   'Weighted Score': 2.1429253625935147,\n",
       "   'weighted_mean_flexibility': 21.138903229677034},\n",
       "  6: {'Monosaccharide': 'Fuc(a1-3)',\n",
       "   'Mean Score': 1.81364550429862,\n",
       "   'Median Score': 1.891440232633613,\n",
       "   'Weighted Score': 1.8669023368021382,\n",
       "   'weighted_mean_flexibility': 22.883701009899013},\n",
       "  10: {'Monosaccharide': 'Fuc(a1-3)',\n",
       "   'Mean Score': 1.8676189828198404,\n",
       "   'Median Score': 1.8176706893136725,\n",
       "   'Weighted Score': 1.9261586474572951,\n",
       "   'weighted_mean_flexibility': 16.641286591340865},\n",
       "  9: {'Monosaccharide': 'Fuc(a1-2)',\n",
       "   'Mean Score': 1.9629103216109798,\n",
       "   'Median Score': 2.0159400925040245,\n",
       "   'Weighted Score': 1.94111501673313,\n",
       "   'weighted_mean_flexibility': 20.127824177582237}},\n",
       " '_adj': {2: {1: {}, 3: {}},\n",
       "  1: {2: {}},\n",
       "  4: {3: {}, 5: {}, 6: {}},\n",
       "  3: {4: {}, 7: {}, 2: {}},\n",
       "  8: {7: {}, 9: {}},\n",
       "  7: {8: {}, 10: {}, 3: {}},\n",
       "  5: {4: {}},\n",
       "  6: {4: {}},\n",
       "  10: {7: {}},\n",
       "  9: {8: {}}},\n",
       " 'nodes': NodeView((2, 1, 4, 3, 8, 7, 5, 6, 10, 9))}"
      ]
     },
     "execution_count": 31,
     "metadata": {},
     "output_type": "execute_result"
    }
   ],
   "execution_count": 31
  },
  {
   "metadata": {},
   "cell_type": "code",
   "outputs": [],
   "execution_count": null,
   "source": "",
   "id": "70eab49aa465ee74"
  }
 ],
 "metadata": {
  "kernelspec": {
   "display_name": "Python 3",
   "language": "python",
   "name": "python3"
  },
  "language_info": {
   "codemirror_mode": {
    "name": "ipython",
    "version": 2
   },
   "file_extension": ".py",
   "mimetype": "text/x-python",
   "name": "python",
   "nbconvert_exporter": "python",
   "pygments_lexer": "ipython2",
   "version": "2.7.6"
  }
 },
 "nbformat": 4,
 "nbformat_minor": 5
}
