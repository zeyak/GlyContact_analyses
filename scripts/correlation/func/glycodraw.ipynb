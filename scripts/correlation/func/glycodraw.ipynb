{
 "cells": [
  {
   "cell_type": "code",
   "id": "initial_id",
   "metadata": {
    "collapsed": true,
    "ExecuteTime": {
     "end_time": "2024-12-09T09:54:10.053342Z",
     "start_time": "2024-12-09T09:54:07.658033Z"
    }
   },
   "source": "from glycowork.motif.draw import GlycoDraw",
   "outputs": [],
   "execution_count": 1
  },
  {
   "metadata": {
    "ExecuteTime": {
     "end_time": "2024-12-10T09:41:33.552490Z",
     "start_time": "2024-12-10T09:41:33.540009Z"
    }
   },
   "cell_type": "code",
   "source": "GlycoDraw(\"Gal(b1-3)GalNAc(b1-4)Gal(b1-4)Glc\", highlight_motif = \"Gal(b1-3)GalNAc\")\n",
   "id": "e5b377d002a338fc",
   "outputs": [
    {
     "data": {
      "text/plain": [
       "<drawsvg.drawing.Drawing at 0x3165f87d0>"
      ],
      "image/svg+xml": "<?xml version=\"1.0\" encoding=\"UTF-8\"?>\n<svg xmlns=\"http://www.w3.org/2000/svg\" xmlns:xlink=\"http://www.w3.org/1999/xlink\"\n     width=\"400\" height=\"110\" viewBox=\"-350.0 -55.0 400 110\">\n<defs>\n<path d=\"M-100,0 L0,0\" stroke-width=\"4.0\" stroke=\"#D9D9D9\" id=\"TyUCOaai0\" />\n<path d=\"M-200,0 L-100,0\" stroke-width=\"4.0\" stroke=\"#D9D9D9\" id=\"TyUCOaai1\" />\n<path d=\"M-300,0 L-200,0\" stroke-width=\"4.0\" stroke=\"#000000\" id=\"TyUCOaai2\" />\n<path d=\"M-50,25.0 L50,25.0\" stroke-width=\"0\" id=\"TyUCOaai3\" />\n<path d=\"M-50,0 L50,0\" stroke-width=\"0\" id=\"TyUCOaai4\" />\n<path d=\"M-150,25.0 L-50,25.0\" stroke-width=\"0\" id=\"TyUCOaai5\" />\n<path d=\"M-150,0 L-50,0\" stroke-width=\"0\" id=\"TyUCOaai6\" />\n<path d=\"M-250,25.0 L-150,25.0\" stroke-width=\"0\" id=\"TyUCOaai7\" />\n<path d=\"M-250,0 L-150,0\" stroke-width=\"0\" id=\"TyUCOaai8\" />\n<path d=\"M-350,25.0 L-250,25.0\" stroke-width=\"0\" id=\"TyUCOaai9\" />\n<path d=\"M-350,0 L-250,0\" stroke-width=\"0\" id=\"TyUCOaai10\" />\n</defs>\n<g transform=\"rotate(0 -150.0 0.0)\">\n<use xlink:href=\"#TyUCOaai0\" />\n<text font-size=\"20.0\" text-anchor=\"middle\" fill=\"#D9D9D9\" valign=\"middle\"><textPath xlink:href=\"#TyUCOaai0\" startOffset=\"50%\">\n<tspan dy=\"-0.5em\">β 4</tspan>\n</textPath></text>\n<use xlink:href=\"#TyUCOaai1\" />\n<text font-size=\"20.0\" text-anchor=\"middle\" fill=\"#D9D9D9\" valign=\"middle\"><textPath xlink:href=\"#TyUCOaai1\" startOffset=\"50%\">\n<tspan dy=\"-0.5em\">β 4</tspan>\n</textPath></text>\n<use xlink:href=\"#TyUCOaai2\" />\n<text font-size=\"20.0\" text-anchor=\"middle\" fill=\"#000000\" valign=\"middle\"><textPath xlink:href=\"#TyUCOaai2\" startOffset=\"50%\">\n<tspan dy=\"-0.5em\">β 3</tspan>\n</textPath></text>\n<circle cx=\"0\" cy=\"0\" r=\"25.0\" fill=\"#CDE7EF\" stroke-width=\"2.0\" stroke=\"#D9D9D9\" />\n<use xlink:href=\"#TyUCOaai3\" />\n<text font-size=\"17.5\" fill=\"#D9D9D9\" text-anchor=\"middle\"><textPath xlink:href=\"#TyUCOaai3\" startOffset=\"50%\"></textPath></text>\n<use xlink:href=\"#TyUCOaai4\" />\n<text font-size=\"15.0\" fill=\"#D9D9D9\" text-anchor=\"middle\"><textPath xlink:href=\"#TyUCOaai4\" startOffset=\"50%\"></textPath></text>\n<circle cx=\"-100\" cy=\"0\" r=\"25.0\" fill=\"#FFF6DE\" stroke-width=\"2.0\" stroke=\"#D9D9D9\" />\n<use xlink:href=\"#TyUCOaai5\" />\n<text font-size=\"17.5\" fill=\"#D9D9D9\" text-anchor=\"middle\"><textPath xlink:href=\"#TyUCOaai5\" startOffset=\"50%\"></textPath></text>\n<use xlink:href=\"#TyUCOaai6\" />\n<text font-size=\"15.0\" fill=\"#D9D9D9\" text-anchor=\"middle\"><textPath xlink:href=\"#TyUCOaai6\" startOffset=\"50%\"></textPath></text>\n<rect x=\"-225.0\" y=\"-25.0\" width=\"50\" height=\"50\" fill=\"#FCC326\" stroke-width=\"2.0\" stroke=\"#000000\" />\n<use xlink:href=\"#TyUCOaai7\" />\n<text font-size=\"17.5\" fill=\"#000000\" text-anchor=\"middle\"><textPath xlink:href=\"#TyUCOaai7\" startOffset=\"50%\"></textPath></text>\n<use xlink:href=\"#TyUCOaai8\" />\n<text font-size=\"15.0\" fill=\"#000000\" text-anchor=\"middle\"><textPath xlink:href=\"#TyUCOaai8\" startOffset=\"50%\"></textPath></text>\n<circle cx=\"-300\" cy=\"0\" r=\"25.0\" fill=\"#FCC326\" stroke-width=\"2.0\" stroke=\"#000000\" />\n<use xlink:href=\"#TyUCOaai9\" />\n<text font-size=\"17.5\" fill=\"#000000\" text-anchor=\"middle\"><textPath xlink:href=\"#TyUCOaai9\" startOffset=\"50%\"></textPath></text>\n<use xlink:href=\"#TyUCOaai10\" />\n<text font-size=\"15.0\" fill=\"#000000\" text-anchor=\"middle\"><textPath xlink:href=\"#TyUCOaai10\" startOffset=\"50%\"></textPath></text>\n</g>\n</svg>"
     },
     "execution_count": 24,
     "metadata": {},
     "output_type": "execute_result"
    }
   ],
   "execution_count": 24
  },
  {
   "metadata": {
    "ExecuteTime": {
     "end_time": "2024-12-09T12:02:48.462572Z",
     "start_time": "2024-12-09T12:02:48.452580Z"
    }
   },
   "cell_type": "code",
   "source": "GlycoDraw(\"Man(a1-3)[Xyl(b1-2)][Man(a1-6)]Man(b1-4)GlcNAc(b1-4)[Fuc(a1-3)]GlcNAc\")",
   "id": "353e6522e0d37774",
   "outputs": [
    {
     "data": {
      "text/plain": [
       "<drawsvg.drawing.Drawing at 0x177dd91c0>"
      ],
      "image/svg+xml": "<?xml version=\"1.0\" encoding=\"UTF-8\"?>\n<svg xmlns=\"http://www.w3.org/2000/svg\" xmlns:xlink=\"http://www.w3.org/1999/xlink\"\n     width=\"400\" height=\"310\" viewBox=\"-350.0 -180.0 400 310\">\n<defs>\n<path d=\"M-100,-50.0 L0,-50.0\" stroke-width=\"4.0\" stroke=\"#000000\" id=\"cN2aphhN0\" />\n<path d=\"M-200,-50.0 L-100,-50.0\" stroke-width=\"4.0\" stroke=\"#000000\" id=\"cN2aphhN1\" />\n<path d=\"M-300,0 L-200,-50.0\" stroke-width=\"4.0\" stroke=\"#000000\" id=\"cN2aphhN2\" />\n<path d=\"M-200,50.0 L-200,-50.0\" stroke-width=\"4.0\" stroke=\"#000000\" id=\"cN2aphhN3\" />\n<path d=\"M-300,-100 L-200,-50.0\" stroke-width=\"4.0\" stroke=\"#000000\" id=\"cN2aphhN4\" />\n<path d=\"M0,50.0 L0,-50.0\" stroke-width=\"4.0\" stroke=\"#000000\" id=\"cN2aphhN5\" />\n<path d=\"M-50,-25.0 L50,-25.0\" stroke-width=\"0\" id=\"cN2aphhN6\" />\n<path d=\"M-50,-50.0 L50,-50.0\" stroke-width=\"0\" id=\"cN2aphhN7\" />\n<path d=\"M-150,-25.0 L-50,-25.0\" stroke-width=\"0\" id=\"cN2aphhN8\" />\n<path d=\"M-150,-50.0 L-50,-50.0\" stroke-width=\"0\" id=\"cN2aphhN9\" />\n<path d=\"M-250,-25.0 L-150,-25.0\" stroke-width=\"0\" id=\"cN2aphhN10\" />\n<path d=\"M-250,-50.0 L-150,-50.0\" stroke-width=\"0\" id=\"cN2aphhN11\" />\n<path d=\"M-350,25.0 L-250,25.0\" stroke-width=\"0\" id=\"cN2aphhN12\" />\n<path d=\"M-350,0 L-250,0\" stroke-width=\"0\" id=\"cN2aphhN13\" />\n<path d=\"M-250,75.0 L-150,75.0\" stroke-width=\"0\" id=\"cN2aphhN14\" />\n<path d=\"M-250,50.0 L-150,50.0\" stroke-width=\"0\" id=\"cN2aphhN15\" />\n<path d=\"M-350,-75.0 L-250,-75.0\" stroke-width=\"0\" id=\"cN2aphhN16\" />\n<path d=\"M-350,-100 L-250,-100\" stroke-width=\"0\" id=\"cN2aphhN17\" />\n<path d=\"M-50,75.0 L50,75.0\" stroke-width=\"0\" id=\"cN2aphhN18\" />\n<path d=\"M-50,50.0 L50,50.0\" stroke-width=\"0\" id=\"cN2aphhN19\" />\n</defs>\n<g transform=\"rotate(0 -150.0 -25.0)\">\n<use xlink:href=\"#cN2aphhN0\" />\n<text font-size=\"20.0\" text-anchor=\"middle\" fill=\"#000000\" valign=\"middle\"><textPath xlink:href=\"#cN2aphhN0\" startOffset=\"50%\">\n<tspan dy=\"-0.5em\">β 4</tspan>\n</textPath></text>\n<use xlink:href=\"#cN2aphhN1\" />\n<text font-size=\"20.0\" text-anchor=\"middle\" fill=\"#000000\" valign=\"middle\"><textPath xlink:href=\"#cN2aphhN1\" startOffset=\"50%\">\n<tspan dy=\"-0.5em\">β 4</tspan>\n</textPath></text>\n<use xlink:href=\"#cN2aphhN2\" />\n<text font-size=\"20.0\" text-anchor=\"middle\" fill=\"#000000\" valign=\"middle\"><textPath xlink:href=\"#cN2aphhN2\" startOffset=\"50%\">\n<tspan dy=\"-0.5em\">α 3</tspan>\n</textPath></text>\n<use xlink:href=\"#cN2aphhN3\" />\n<text font-size=\"20.0\" text-anchor=\"middle\" fill=\"#000000\" valign=\"middle\"><textPath xlink:href=\"#cN2aphhN3\" startOffset=\"50%\">\n<tspan dy=\"-0.5em\">β 2</tspan>\n</textPath></text>\n<use xlink:href=\"#cN2aphhN4\" />\n<text font-size=\"20.0\" text-anchor=\"middle\" fill=\"#000000\" valign=\"middle\"><textPath xlink:href=\"#cN2aphhN4\" startOffset=\"50%\">\n<tspan dy=\"-0.5em\">α 6</tspan>\n</textPath></text>\n<use xlink:href=\"#cN2aphhN5\" />\n<text font-size=\"20.0\" text-anchor=\"middle\" fill=\"#000000\" valign=\"middle\"><textPath xlink:href=\"#cN2aphhN5\" startOffset=\"50%\">\n<tspan dy=\"-0.5em\">α 3</tspan>\n</textPath></text>\n<rect x=\"-25.0\" y=\"-75.0\" width=\"50\" height=\"50\" fill=\"#0385AE\" stroke-width=\"2.0\" stroke=\"#000000\" />\n<use xlink:href=\"#cN2aphhN6\" />\n<text font-size=\"17.5\" fill=\"#000000\" text-anchor=\"middle\"><textPath xlink:href=\"#cN2aphhN6\" startOffset=\"50%\"></textPath></text>\n<use xlink:href=\"#cN2aphhN7\" />\n<text font-size=\"15.0\" fill=\"#000000\" text-anchor=\"middle\"><textPath xlink:href=\"#cN2aphhN7\" startOffset=\"50%\"></textPath></text>\n<rect x=\"-125.0\" y=\"-75.0\" width=\"50\" height=\"50\" fill=\"#0385AE\" stroke-width=\"2.0\" stroke=\"#000000\" />\n<use xlink:href=\"#cN2aphhN8\" />\n<text font-size=\"17.5\" fill=\"#000000\" text-anchor=\"middle\"><textPath xlink:href=\"#cN2aphhN8\" startOffset=\"50%\"></textPath></text>\n<use xlink:href=\"#cN2aphhN9\" />\n<text font-size=\"15.0\" fill=\"#000000\" text-anchor=\"middle\"><textPath xlink:href=\"#cN2aphhN9\" startOffset=\"50%\"></textPath></text>\n<circle cx=\"-200\" cy=\"-50.0\" r=\"25.0\" fill=\"#058F60\" stroke-width=\"2.0\" stroke=\"#000000\" />\n<use xlink:href=\"#cN2aphhN10\" />\n<text font-size=\"17.5\" fill=\"#000000\" text-anchor=\"middle\"><textPath xlink:href=\"#cN2aphhN10\" startOffset=\"50%\"></textPath></text>\n<use xlink:href=\"#cN2aphhN11\" />\n<text font-size=\"15.0\" fill=\"#000000\" text-anchor=\"middle\"><textPath xlink:href=\"#cN2aphhN11\" startOffset=\"50%\"></textPath></text>\n<circle cx=\"-300\" cy=\"0\" r=\"25.0\" fill=\"#058F60\" stroke-width=\"2.0\" stroke=\"#000000\" />\n<use xlink:href=\"#cN2aphhN12\" />\n<text font-size=\"17.5\" fill=\"#000000\" text-anchor=\"middle\"><textPath xlink:href=\"#cN2aphhN12\" startOffset=\"50%\"></textPath></text>\n<use xlink:href=\"#cN2aphhN13\" />\n<text font-size=\"15.0\" fill=\"#000000\" text-anchor=\"middle\"><textPath xlink:href=\"#cN2aphhN13\" startOffset=\"50%\"></textPath></text>\n<path d=\"M-200,23.713444394043318 L-192.27457514062633,39.3668648955995 L-175.0,41.87700759417734 L-187.5,54.06149620291133 L-184.54915028125262,71.266270208801 L-200,63.14327780297834 L-215.45084971874738,71.266270208801 L-212.5,54.06149620291133 L-225.0,41.87700759417734 L-207.72542485937367,39.3668648955995 Z\" fill=\"#EF6130\" stroke=\"#000000\" stroke-width=\"2.0\" />\n<use xlink:href=\"#cN2aphhN14\" />\n<text font-size=\"17.5\" fill=\"#000000\" text-anchor=\"middle\"><textPath xlink:href=\"#cN2aphhN14\" startOffset=\"50%\"></textPath></text>\n<use xlink:href=\"#cN2aphhN15\" />\n<text font-size=\"15.0\" fill=\"#000000\" text-anchor=\"middle\"><textPath xlink:href=\"#cN2aphhN15\" startOffset=\"50%\"></textPath></text>\n<circle cx=\"-300\" cy=\"-100\" r=\"25.0\" fill=\"#058F60\" stroke-width=\"2.0\" stroke=\"#000000\" />\n<use xlink:href=\"#cN2aphhN16\" />\n<text font-size=\"17.5\" fill=\"#000000\" text-anchor=\"middle\"><textPath xlink:href=\"#cN2aphhN16\" startOffset=\"50%\"></textPath></text>\n<use xlink:href=\"#cN2aphhN17\" />\n<text font-size=\"15.0\" fill=\"#000000\" text-anchor=\"middle\"><textPath xlink:href=\"#cN2aphhN17\" startOffset=\"50%\"></textPath></text>\n<path d=\"M-25.0,71.65063509461096 L0,28.349364905389034 L25.0,71.65063509461096 Z\" fill=\"#C23537\" stroke=\"#000000\" stroke-width=\"2.0\" />\n<use xlink:href=\"#cN2aphhN18\" />\n<text font-size=\"17.5\" text-anchor=\"middle\"><textPath xlink:href=\"#cN2aphhN18\" startOffset=\"50%\"></textPath></text>\n<use xlink:href=\"#cN2aphhN19\" />\n<text font-size=\"15.0\" fill=\"#000000\" text-anchor=\"middle\"><textPath xlink:href=\"#cN2aphhN19\" startOffset=\"50%\"></textPath></text>\n</g>\n</svg>"
     },
     "execution_count": 6,
     "metadata": {},
     "output_type": "execute_result"
    }
   ],
   "execution_count": 6
  },
  {
   "metadata": {
    "ExecuteTime": {
     "end_time": "2024-12-09T15:30:45.534040Z",
     "start_time": "2024-12-09T15:30:45.526055Z"
    }
   },
   "cell_type": "code",
   "source": [
    "from glycowork.motif.graph import subgraph_isomorphism\n",
    "print(subgraph_isomorphism('Neu5Ac(a2-3)Gal(b1-4)[Fuc(a1-3)]GlcNAc(b1-6)[Gal(b1-3)]GalNAc',\n",
    "                     'Fuc(a1-?)[Gal(b1-?)]GlcNAc', termini_list = ['terminal']))\n",
    "\n",
    "\n",
    "GlycoDraw(\"Neu5Ac(a2-3)Gal(b1-4)[Fuc(a1-3)]GlcNAc(b1-6)[Gal(b1-3)]GalNAc\")\n"
   ],
   "id": "6acffc9f56c18227",
   "outputs": [
    {
     "name": "stdout",
     "output_type": "stream",
     "text": [
      "True\n"
     ]
    },
    {
     "data": {
      "text/plain": [
       "<drawsvg.drawing.Drawing at 0x31659cda0>"
      ],
      "image/svg+xml": "<?xml version=\"1.0\" encoding=\"UTF-8\"?>\n<svg xmlns=\"http://www.w3.org/2000/svg\" xmlns:xlink=\"http://www.w3.org/1999/xlink\"\n     width=\"400\" height=\"510\" viewBox=\"-350.0 -355.0 400 510\">\n<defs>\n<path d=\"M-100,0 L0,-100.0\" stroke-width=\"4.0\" stroke=\"#000000\" id=\"oUAkoGoV0\" />\n<path d=\"M-200,-200 L-100,-200\" stroke-width=\"4.0\" stroke=\"#000000\" id=\"oUAkoGoV1\" />\n<path d=\"M-300,-200 L-200,-200\" stroke-width=\"4.0\" stroke=\"#000000\" id=\"oUAkoGoV2\" />\n<path d=\"M-100,-200 L0,-100.0\" stroke-width=\"4.0\" stroke=\"#000000\" id=\"oUAkoGoV3\" />\n<path d=\"M-100,-100 L-100,-200\" stroke-width=\"4.0\" stroke=\"#000000\" id=\"oUAkoGoV4\" />\n<path d=\"M-50,-75.0 L50,-75.0\" stroke-width=\"0\" id=\"oUAkoGoV5\" />\n<path d=\"M-50,-100.0 L50,-100.0\" stroke-width=\"0\" id=\"oUAkoGoV6\" />\n<path d=\"M-150,25.0 L-50,25.0\" stroke-width=\"0\" id=\"oUAkoGoV7\" />\n<path d=\"M-150,0 L-50,0\" stroke-width=\"0\" id=\"oUAkoGoV8\" />\n<path d=\"M-150,-175.0 L-50,-175.0\" stroke-width=\"0\" id=\"oUAkoGoV9\" />\n<path d=\"M-150,-200 L-50,-200\" stroke-width=\"0\" id=\"oUAkoGoV10\" />\n<path d=\"M-250,-175.0 L-150,-175.0\" stroke-width=\"0\" id=\"oUAkoGoV11\" />\n<path d=\"M-250,-200 L-150,-200\" stroke-width=\"0\" id=\"oUAkoGoV12\" />\n<path d=\"M-350,-175.0 L-250,-175.0\" stroke-width=\"0\" id=\"oUAkoGoV13\" />\n<path d=\"M-350,-200 L-250,-200\" stroke-width=\"0\" id=\"oUAkoGoV14\" />\n<path d=\"M-150,-75.0 L-50,-75.0\" stroke-width=\"0\" id=\"oUAkoGoV15\" />\n<path d=\"M-150,-100 L-50,-100\" stroke-width=\"0\" id=\"oUAkoGoV16\" />\n</defs>\n<g transform=\"rotate(0 -150.0 -100.0)\">\n<use xlink:href=\"#oUAkoGoV0\" />\n<text font-size=\"20.0\" text-anchor=\"middle\" fill=\"#000000\" valign=\"middle\"><textPath xlink:href=\"#oUAkoGoV0\" startOffset=\"50%\">\n<tspan dy=\"-0.5em\">β 3</tspan>\n</textPath></text>\n<use xlink:href=\"#oUAkoGoV1\" />\n<text font-size=\"20.0\" text-anchor=\"middle\" fill=\"#000000\" valign=\"middle\"><textPath xlink:href=\"#oUAkoGoV1\" startOffset=\"50%\">\n<tspan dy=\"-0.5em\">β 4</tspan>\n</textPath></text>\n<use xlink:href=\"#oUAkoGoV2\" />\n<text font-size=\"20.0\" text-anchor=\"middle\" fill=\"#000000\" valign=\"middle\"><textPath xlink:href=\"#oUAkoGoV2\" startOffset=\"50%\">\n<tspan dy=\"-0.5em\">α 3</tspan>\n</textPath></text>\n<use xlink:href=\"#oUAkoGoV3\" />\n<text font-size=\"20.0\" text-anchor=\"middle\" fill=\"#000000\" valign=\"middle\"><textPath xlink:href=\"#oUAkoGoV3\" startOffset=\"50%\">\n<tspan dy=\"-0.5em\">β 6</tspan>\n</textPath></text>\n<use xlink:href=\"#oUAkoGoV4\" />\n<text font-size=\"20.0\" text-anchor=\"middle\" fill=\"#000000\" valign=\"middle\"><textPath xlink:href=\"#oUAkoGoV4\" startOffset=\"50%\">\n<tspan dy=\"-0.5em\">α 3</tspan>\n</textPath></text>\n<rect x=\"-25.0\" y=\"-125.0\" width=\"50\" height=\"50\" fill=\"#FCC326\" stroke-width=\"2.0\" stroke=\"#000000\" />\n<use xlink:href=\"#oUAkoGoV5\" />\n<text font-size=\"17.5\" fill=\"#000000\" text-anchor=\"middle\"><textPath xlink:href=\"#oUAkoGoV5\" startOffset=\"50%\"></textPath></text>\n<use xlink:href=\"#oUAkoGoV6\" />\n<text font-size=\"15.0\" fill=\"#000000\" text-anchor=\"middle\"><textPath xlink:href=\"#oUAkoGoV6\" startOffset=\"50%\"></textPath></text>\n<circle cx=\"-100\" cy=\"0\" r=\"25.0\" fill=\"#FCC326\" stroke-width=\"2.0\" stroke=\"#000000\" />\n<use xlink:href=\"#oUAkoGoV7\" />\n<text font-size=\"17.5\" fill=\"#000000\" text-anchor=\"middle\"><textPath xlink:href=\"#oUAkoGoV7\" startOffset=\"50%\"></textPath></text>\n<use xlink:href=\"#oUAkoGoV8\" />\n<text font-size=\"15.0\" fill=\"#000000\" text-anchor=\"middle\"><textPath xlink:href=\"#oUAkoGoV8\" startOffset=\"50%\"></textPath></text>\n<rect x=\"-125.0\" y=\"-225.0\" width=\"50\" height=\"50\" fill=\"#0385AE\" stroke-width=\"2.0\" stroke=\"#000000\" />\n<use xlink:href=\"#oUAkoGoV9\" />\n<text font-size=\"17.5\" fill=\"#000000\" text-anchor=\"middle\"><textPath xlink:href=\"#oUAkoGoV9\" startOffset=\"50%\"></textPath></text>\n<use xlink:href=\"#oUAkoGoV10\" />\n<text font-size=\"15.0\" fill=\"#000000\" text-anchor=\"middle\"><textPath xlink:href=\"#oUAkoGoV10\" startOffset=\"50%\"></textPath></text>\n<circle cx=\"-200\" cy=\"-200\" r=\"25.0\" fill=\"#FCC326\" stroke-width=\"2.0\" stroke=\"#000000\" />\n<use xlink:href=\"#oUAkoGoV11\" />\n<text font-size=\"17.5\" fill=\"#000000\" text-anchor=\"middle\"><textPath xlink:href=\"#oUAkoGoV11\" startOffset=\"50%\"></textPath></text>\n<use xlink:href=\"#oUAkoGoV12\" />\n<text font-size=\"15.0\" fill=\"#000000\" text-anchor=\"middle\"><textPath xlink:href=\"#oUAkoGoV12\" startOffset=\"50%\"></textPath></text>\n<path d=\"M-300,-175.0 L-275.0,-200 L-300,-225.0 L-325.0,-200 Z\" fill=\"#A15989\" stroke=\"#000000\" stroke-width=\"2.0\" />\n<use xlink:href=\"#oUAkoGoV13\" />\n<text font-size=\"17.5\" fill=\"#000000\" text-anchor=\"middle\"><textPath xlink:href=\"#oUAkoGoV13\" startOffset=\"50%\"></textPath></text>\n<use xlink:href=\"#oUAkoGoV14\" />\n<text font-size=\"15.0\" fill=\"#000000\" text-anchor=\"middle\"><textPath xlink:href=\"#oUAkoGoV14\" startOffset=\"50%\"></textPath></text>\n<path d=\"M-125.0,-78.34936490538904 L-100,-121.65063509461096 L-75.0,-78.34936490538904 Z\" fill=\"#C23537\" stroke=\"#000000\" stroke-width=\"2.0\" />\n<use xlink:href=\"#oUAkoGoV15\" />\n<text font-size=\"17.5\" text-anchor=\"middle\"><textPath xlink:href=\"#oUAkoGoV15\" startOffset=\"50%\"></textPath></text>\n<use xlink:href=\"#oUAkoGoV16\" />\n<text font-size=\"15.0\" fill=\"#000000\" text-anchor=\"middle\"><textPath xlink:href=\"#oUAkoGoV16\" startOffset=\"50%\"></textPath></text>\n</g>\n</svg>"
     },
     "execution_count": 18,
     "metadata": {},
     "output_type": "execute_result"
    }
   ],
   "execution_count": 18
  },
  {
   "metadata": {
    "ExecuteTime": {
     "end_time": "2024-12-09T12:16:16.556015Z",
     "start_time": "2024-12-09T12:16:16.549696Z"
    }
   },
   "cell_type": "code",
   "source": "GlycoDraw(\"Fuc(a1-?)[Gal(b1-?)]GlcNAc\")",
   "id": "84d3ed9894f45fdf",
   "outputs": [
    {
     "data": {
      "text/plain": [
       "<drawsvg.drawing.Drawing at 0x3164c7c20>"
      ],
      "image/svg+xml": "<?xml version=\"1.0\" encoding=\"UTF-8\"?>\n<svg xmlns=\"http://www.w3.org/2000/svg\" xmlns:xlink=\"http://www.w3.org/1999/xlink\"\n     width=\"200\" height=\"310.0\" viewBox=\"-150.0 -205.0 200 310.0\">\n<defs>\n<path d=\"M0,-100.0 L0,0.0\" stroke-width=\"4.0\" stroke=\"#000000\" id=\"uKFoNpgB0\" />\n<path d=\"M-100,0 L0,0.0\" stroke-width=\"4.0\" stroke=\"#000000\" id=\"uKFoNpgB1\" />\n<path d=\"M-50,25.0 L50,25.0\" stroke-width=\"0\" id=\"uKFoNpgB2\" />\n<path d=\"M-50,0.0 L50,0.0\" stroke-width=\"0\" id=\"uKFoNpgB3\" />\n<path d=\"M-50,-75.0 L50,-75.0\" stroke-width=\"0\" id=\"uKFoNpgB4\" />\n<path d=\"M-50,-100.0 L50,-100.0\" stroke-width=\"0\" id=\"uKFoNpgB5\" />\n<path d=\"M-150,25.0 L-50,25.0\" stroke-width=\"0\" id=\"uKFoNpgB6\" />\n<path d=\"M-150,0 L-50,0\" stroke-width=\"0\" id=\"uKFoNpgB7\" />\n</defs>\n<g transform=\"rotate(0 -50.0 -50.0)\">\n<use xlink:href=\"#uKFoNpgB0\" />\n<text font-size=\"20.0\" text-anchor=\"middle\" fill=\"#000000\" valign=\"middle\"><textPath xlink:href=\"#uKFoNpgB0\" startOffset=\"50%\">\n<tspan dy=\"-0.5em\">α</tspan>\n</textPath></text>\n<use xlink:href=\"#uKFoNpgB1\" />\n<text font-size=\"20.0\" text-anchor=\"middle\" fill=\"#000000\" valign=\"middle\"><textPath xlink:href=\"#uKFoNpgB1\" startOffset=\"50%\">\n<tspan dy=\"-0.5em\">β</tspan>\n</textPath></text>\n<rect x=\"-25.0\" y=\"-25.0\" width=\"50\" height=\"50\" fill=\"#0385AE\" stroke-width=\"2.0\" stroke=\"#000000\" />\n<use xlink:href=\"#uKFoNpgB2\" />\n<text font-size=\"17.5\" fill=\"#000000\" text-anchor=\"middle\"><textPath xlink:href=\"#uKFoNpgB2\" startOffset=\"50%\"></textPath></text>\n<use xlink:href=\"#uKFoNpgB3\" />\n<text font-size=\"15.0\" fill=\"#000000\" text-anchor=\"middle\"><textPath xlink:href=\"#uKFoNpgB3\" startOffset=\"50%\"></textPath></text>\n<path d=\"M-25.0,-78.34936490538904 L0,-121.65063509461096 L25.0,-78.34936490538904 Z\" fill=\"#C23537\" stroke=\"#000000\" stroke-width=\"2.0\" />\n<use xlink:href=\"#uKFoNpgB4\" />\n<text font-size=\"17.5\" text-anchor=\"middle\"><textPath xlink:href=\"#uKFoNpgB4\" startOffset=\"50%\"></textPath></text>\n<use xlink:href=\"#uKFoNpgB5\" />\n<text font-size=\"15.0\" fill=\"#000000\" text-anchor=\"middle\"><textPath xlink:href=\"#uKFoNpgB5\" startOffset=\"50%\"></textPath></text>\n<circle cx=\"-100\" cy=\"0\" r=\"25.0\" fill=\"#FCC326\" stroke-width=\"2.0\" stroke=\"#000000\" />\n<use xlink:href=\"#uKFoNpgB6\" />\n<text font-size=\"17.5\" fill=\"#000000\" text-anchor=\"middle\"><textPath xlink:href=\"#uKFoNpgB6\" startOffset=\"50%\"></textPath></text>\n<use xlink:href=\"#uKFoNpgB7\" />\n<text font-size=\"15.0\" fill=\"#000000\" text-anchor=\"middle\"><textPath xlink:href=\"#uKFoNpgB7\" startOffset=\"50%\"></textPath></text>\n</g>\n</svg>"
     },
     "execution_count": 11,
     "metadata": {},
     "output_type": "execute_result"
    }
   ],
   "execution_count": 11
  }
 ],
 "metadata": {
  "kernelspec": {
   "display_name": "Python 3",
   "language": "python",
   "name": "python3"
  },
  "language_info": {
   "codemirror_mode": {
    "name": "ipython",
    "version": 2
   },
   "file_extension": ".py",
   "mimetype": "text/x-python",
   "name": "python",
   "nbconvert_exporter": "python",
   "pygments_lexer": "ipython2",
   "version": "2.7.6"
  }
 },
 "nbformat": 4,
 "nbformat_minor": 5
}
