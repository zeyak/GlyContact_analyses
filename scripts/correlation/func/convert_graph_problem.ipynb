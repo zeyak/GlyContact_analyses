{
 "cells": [
  {
   "metadata": {},
   "cell_type": "markdown",
   "source": "### How can we convert the pdb graph to glycowork graph?\n",
   "id": "adbf70c152ef10fa"
  },
  {
   "metadata": {
    "ExecuteTime": {
     "end_time": "2025-01-14T09:19:54.472443Z",
     "start_time": "2025-01-14T09:19:52.064803Z"
    }
   },
   "cell_type": "code",
   "source": [
    "from glycowork.motif.draw import GlycoDraw\n",
    "\n",
    "GlycoDraw(\"Fuc(a1-2)[GalNAc(a1-3)]Gal(b1-3)GalNAc\")"
   ],
   "id": "210e31bd69b0506",
   "outputs": [
    {
     "data": {
      "text/plain": [
       "<drawsvg.drawing.Drawing at 0x105de52b0>"
      ],
      "image/svg+xml": "<?xml version=\"1.0\" encoding=\"UTF-8\"?>\n<svg xmlns=\"http://www.w3.org/2000/svg\" xmlns:xlink=\"http://www.w3.org/1999/xlink\"\n     width=\"300\" height=\"310.0\" viewBox=\"-250.0 -105.0 300 310.0\">\n<defs>\n<path d=\"M-100,-0.0 L0,-0.0\" stroke-width=\"4.0\" stroke=\"#000000\" id=\"wnPEoeRo0\" />\n<path d=\"M-100,100.0 L-100,-0.0\" stroke-width=\"4.0\" stroke=\"#000000\" id=\"wnPEoeRo1\" />\n<path d=\"M-200,0 L-100,-0.0\" stroke-width=\"4.0\" stroke=\"#000000\" id=\"wnPEoeRo2\" />\n<path d=\"M-50,25.0 L50,25.0\" stroke-width=\"0\" id=\"wnPEoeRo3\" />\n<path d=\"M-150,25.0 L-50,25.0\" stroke-width=\"0\" id=\"wnPEoeRo4\" />\n<path d=\"M-150,125.0 L-50,125.0\" stroke-width=\"0\" id=\"wnPEoeRo5\" />\n<path d=\"M-250,25.0 L-150,25.0\" stroke-width=\"0\" id=\"wnPEoeRo6\" />\n</defs>\n<g transform=\"rotate(0 -100.0 50.0)\">\n<use xlink:href=\"#wnPEoeRo0\" />\n<text font-size=\"20.0\" text-anchor=\"middle\" fill=\"#000000\" valign=\"middle\"><textPath xlink:href=\"#wnPEoeRo0\" startOffset=\"50%\">\n<tspan dy=\"-0.5em\">β 3</tspan>\n</textPath></text>\n<use xlink:href=\"#wnPEoeRo1\" />\n<text font-size=\"20.0\" text-anchor=\"middle\" fill=\"#000000\" valign=\"middle\"><textPath xlink:href=\"#wnPEoeRo1\" startOffset=\"50%\">\n<tspan dy=\"-0.5em\">α 2</tspan>\n</textPath></text>\n<use xlink:href=\"#wnPEoeRo2\" />\n<text font-size=\"20.0\" text-anchor=\"middle\" fill=\"#000000\" valign=\"middle\"><textPath xlink:href=\"#wnPEoeRo2\" startOffset=\"50%\">\n<tspan dy=\"-0.5em\">α 3</tspan>\n</textPath></text>\n<rect x=\"-25.0\" y=\"-25.0\" width=\"50\" height=\"50\" fill=\"#FCC326\" stroke-width=\"2.0\" stroke=\"#000000\" />\n<use xlink:href=\"#wnPEoeRo3\" />\n<text font-size=\"17.5\" fill=\"#000000\" text-anchor=\"middle\"><textPath xlink:href=\"#wnPEoeRo3\" startOffset=\"50%\"></textPath></text>\n<circle cx=\"-100\" cy=\"-0.0\" r=\"25.0\" fill=\"#FCC326\" stroke-width=\"2.0\" stroke=\"#000000\" />\n<use xlink:href=\"#wnPEoeRo4\" />\n<text font-size=\"17.5\" fill=\"#000000\" text-anchor=\"middle\"><textPath xlink:href=\"#wnPEoeRo4\" startOffset=\"50%\"></textPath></text>\n<path d=\"M-125.0,121.65063509461096 L-100,78.34936490538904 L-75.0,121.65063509461096 Z\" fill=\"#C23537\" stroke=\"#000000\" stroke-width=\"2.0\" />\n<use xlink:href=\"#wnPEoeRo5\" />\n<text font-size=\"17.5\" fill=\"#000000\" text-anchor=\"middle\"><textPath xlink:href=\"#wnPEoeRo5\" startOffset=\"50%\"></textPath></text>\n<rect x=\"-225.0\" y=\"-25.0\" width=\"50\" height=\"50\" fill=\"#FCC326\" stroke-width=\"2.0\" stroke=\"#000000\" />\n<use xlink:href=\"#wnPEoeRo6\" />\n<text font-size=\"17.5\" fill=\"#000000\" text-anchor=\"middle\"><textPath xlink:href=\"#wnPEoeRo6\" startOffset=\"50%\"></textPath></text>\n</g>\n</svg>"
     },
     "execution_count": 2,
     "metadata": {},
     "output_type": "execute_result"
    }
   ],
   "execution_count": 2
  },
  {
   "metadata": {},
   "cell_type": "markdown",
   "source": "## Glycowork graph",
   "id": "20e290e0eb74c3bc"
  },
  {
   "metadata": {
    "ExecuteTime": {
     "end_time": "2025-01-14T09:19:54.480399Z",
     "start_time": "2025-01-14T09:19:54.477995Z"
    }
   },
   "cell_type": "code",
   "source": [
    "from glycowork.motif.graph import  glycan_to_nxGraph\n",
    "\n",
    "glycan_to_nxGraph('Fuc(a1-2)[GalNAc(a1-3)]Gal(b1-3)GalNAc').__dict__\n"
   ],
   "id": "9e19919ba793b156",
   "outputs": [
    {
     "data": {
      "text/plain": [
       "{'graph': {},\n",
       " '_node': {0: {'string_labels': 'Fuc'},\n",
       "  1: {'string_labels': 'a1-2'},\n",
       "  2: {'string_labels': 'GalNAc'},\n",
       "  3: {'string_labels': 'a1-3'},\n",
       "  4: {'string_labels': 'Gal'},\n",
       "  5: {'string_labels': 'b1-3'},\n",
       "  6: {'string_labels': 'GalNAc'}},\n",
       " '_adj': {0: {1: {}},\n",
       "  1: {0: {}, 4: {}},\n",
       "  2: {3: {}},\n",
       "  3: {2: {}, 4: {}},\n",
       "  4: {1: {}, 3: {}, 5: {}},\n",
       "  5: {4: {}, 6: {}},\n",
       "  6: {5: {}}},\n",
       " '__networkx_cache__': {},\n",
       " 'edges': EdgeView([(0, 1), (1, 4), (2, 3), (3, 4), (4, 5), (5, 6)]),\n",
       " 'nodes': NodeView((0, 1, 2, 3, 4, 5, 6))}"
      ]
     },
     "execution_count": 3,
     "metadata": {},
     "output_type": "execute_result"
    }
   ],
   "execution_count": 3
  },
  {
   "metadata": {},
   "cell_type": "markdown",
   "source": "## PDB graph",
   "id": "8d67fb6d806deab8"
  },
  {
   "metadata": {
    "ExecuteTime": {
     "end_time": "2025-01-14T09:19:54.554744Z",
     "start_time": "2025-01-14T09:19:54.547610Z"
    }
   },
   "cell_type": "code",
   "source": [
    "import pickle\n",
    "def load_data_pdb():\n",
    "    flex_data_path = '/Users/xakdze/PycharmProjects/GlyContact_analyses/data/glycan_graphs.pkl'\n",
    "\n",
    "    \"\"\"Load glycan flexibility data and binding data.\"\"\"\n",
    "    with open(flex_data_path, 'rb') as file:\n",
    "        flex_data = pickle.load(file)\n",
    "    return flex_data\n",
    "\n",
    "flex_data_pdb=  load_data_pdb()\n",
    "\n",
    "flex_data_pdb[\"Fuc(a1-2)[GalNAc(a1-3)]Gal(b1-3)GalNAc\"].__dict__"
   ],
   "id": "1ddcd7fb9348df3d",
   "outputs": [
    {
     "data": {
      "text/plain": [
       "{'graph': {},\n",
       " '_node': {5: {'Monosaccharide': 'Fuc(a1-2)',\n",
       "   'Mean Score': 1.7742241196567192,\n",
       "   'Median Score': 1.7500426049227826,\n",
       "   'Weighted Score': 1.770798686109169,\n",
       "   'weighted_mean_flexibility': 1.7841829199999972},\n",
       "  3: {'Monosaccharide': 'Gal(b1-3)',\n",
       "   'Mean Score': 1.3651039792224764,\n",
       "   'Median Score': 1.4288511350750923,\n",
       "   'Weighted Score': 1.4280285533756016,\n",
       "   'weighted_mean_flexibility': 0.5045951200000001},\n",
       "  2: {'Monosaccharide': 'GalNAc(b1-1)',\n",
       "   'Mean Score': 2.570391431148164,\n",
       "   'Median Score': 2.5758022993104532,\n",
       "   'Weighted Score': 2.5724899762541984,\n",
       "   'weighted_mean_flexibility': 1.0605134599999986},\n",
       "  1: {'Monosaccharide': '-R',\n",
       "   'Mean Score': 0.4371745139360428,\n",
       "   'Median Score': 0.4432986080646515,\n",
       "   'Weighted Score': 0.4489135126680136,\n",
       "   'weighted_mean_flexibility': 1.9624109399999994},\n",
       "  4: {'Monosaccharide': 'GalNAc(a1-3)',\n",
       "   'Mean Score': 3.1187803193926813,\n",
       "   'Median Score': 3.120820430573076,\n",
       "   'Weighted Score': 3.145775448013074,\n",
       "   'weighted_mean_flexibility': 1.7962038799999962}},\n",
       " '_adj': {5: {3: {}},\n",
       "  3: {5: {}, 2: {}, 4: {}},\n",
       "  2: {3: {}, 1: {}},\n",
       "  1: {2: {}},\n",
       "  4: {3: {}}},\n",
       " 'nodes': NodeView((5, 3, 2, 1, 4))}"
      ]
     },
     "execution_count": 4,
     "metadata": {},
     "output_type": "execute_result"
    }
   ],
   "execution_count": 4
  },
  {
   "metadata": {},
   "cell_type": "markdown",
   "source": "## Convert pdb graph to glycowork graph",
   "id": "931eca3c00d9d64b"
  },
  {
   "metadata": {
    "ExecuteTime": {
     "end_time": "2025-01-13T07:52:20.086030Z",
     "start_time": "2025-01-13T07:52:20.078861Z"
    }
   },
   "cell_type": "code",
   "source": [
    "import networkx as nx\n",
    "\n",
    "def convert_pdb_graph_to_glycowork(g):\n",
    "    \"\"\"\n",
    "    Converts a PDB-format graph to glycowork format and compares each node index's string_labels\n",
    "    between the converted pdb graph and glycowork graph to find differences.\n",
    "\n",
    "    Args:\n",
    "        g (nx.Graph): Input graph in PDB format with Monosaccharide and score attributes.\n",
    "\n",
    "    Returns:\n",
    "        nx.Graph: Converted graph in glycowork format with monosaccharide/linkage split into separate nodes.\n",
    "    \"\"\"\n",
    "    new_g = nx.Graph()\n",
    "\n",
    "    # Find reducing end (node connected to -R node 1)\n",
    "    reducing_end = next(iter(g.neighbors(1)), None)\n",
    "    if reducing_end is None:\n",
    "        raise ValueError(\"Could not find reducing end (node connected to -R).\")\n",
    "\n",
    "    # Get node list in DFS order starting from reducing end (excluding -R node)\n",
    "    nodes = [n for n in nx.dfs_preorder_nodes(g, reducing_end) if n != 1]\n",
    "\n",
    "    # Create mapping dict\n",
    "    mapping = {}\n",
    "    mapping[1] = []  # -R maps to nothing\n",
    "\n",
    "    # Calculate highest node number\n",
    "    max_num = 2 * (len(g.nodes) - 2)\n",
    "\n",
    "    # Map reducing end to highest number\n",
    "    mapping[reducing_end] = [max_num]\n",
    "\n",
    "    # Map rest of nodes in reverse order\n",
    "    curr_num = 0\n",
    "    for node in reversed(nodes[1:]):  # Skip reducing end\n",
    "        mapping[node] = [curr_num, curr_num + 1]\n",
    "        curr_num += 2\n",
    "\n",
    "    # Create nodes in new graph\n",
    "    for old_node, new_nodes in mapping.items():\n",
    "        if not new_nodes:  # Skip -R\n",
    "            continue\n",
    "\n",
    "        # Get numerical attributes\n",
    "        attrs = {k: v for k, v in g.nodes[old_node].items()\n",
    "                 if k not in ['Monosaccharide', 'string_labels']}\n",
    "        mono_link = g.nodes[old_node]['Monosaccharide']\n",
    "\n",
    "        if len(new_nodes) == 1:  # Reducing end\n",
    "            mono = mono_link.split('(')[0]\n",
    "            new_g.add_node(new_nodes[0], string_labels=mono, **attrs)\n",
    "        else:  # Normal nodes\n",
    "            mono = mono_link.split('(')[0]\n",
    "            link = mono_link.split('(')[1][:-1]\n",
    "\n",
    "            new_g.add_node(new_nodes[0], string_labels=mono, **attrs)\n",
    "            new_g.add_node(new_nodes[1], string_labels=link, **attrs)\n",
    "            new_g.add_edge(new_nodes[0], new_nodes[1])\n",
    "\n",
    "    # Add edges between components\n",
    "    for old_u, old_v in g.edges():\n",
    "        new_u = mapping.get(old_u, [])\n",
    "        new_v = mapping.get(old_v, [])\n",
    "\n",
    "        if not new_u or not new_v:  # Skip if either is -R\n",
    "            continue\n",
    "\n",
    "        if len(new_u) == 1:  # u is reducing end\n",
    "            u_node = new_u[0]\n",
    "        else:\n",
    "            u_node = new_u[0]  # Use monosaccharide node\n",
    "\n",
    "        if len(new_v) == 1:  # v is reducing end\n",
    "            v_node = new_v[0]\n",
    "        else:\n",
    "            v_node = new_v[1]  # Use linkage node\n",
    "\n",
    "        new_g.add_edge(u_node, v_node)\n",
    "\n",
    "    # Compare string_labels between pdb_graph and glycowork_graph\n",
    "    pdb_nodes = {n: g.nodes[n]['Monosaccharide'].split('(')[0] for n in g.nodes if 'Monosaccharide' in g.nodes[n]}\n",
    "    glyco_nodes = {n: new_g.nodes[n]['string_labels'] for n in new_g.nodes}\n",
    "\n",
    "    # Find and print differences\n",
    "    differences = []\n",
    "    for idx, label in glyco_nodes.items():\n",
    "        if idx in pdb_nodes and pdb_nodes[idx] != label:\n",
    "            differences.append((idx, pdb_nodes[idx], label))\n",
    "\n",
    "    if differences:\n",
    "        print(\"Differences found between pdb_graph and glycowork_graph:\")\n",
    "        for diff in differences:\n",
    "            print(f\"Node Index {diff[0]}: pdb_graph='{diff[1]}', glycowork_graph='{diff[2]}'\")\n",
    "    else:\n",
    "        print(\"No differences found between pdb_graph and glycowork_graph.\")\n",
    "\n",
    "    return new_g\n"
   ],
   "id": "3a1f196393ebc4ff",
   "outputs": [],
   "execution_count": 17
  },
  {
   "metadata": {
    "ExecuteTime": {
     "end_time": "2025-01-13T07:52:20.629518Z",
     "start_time": "2025-01-13T07:52:20.626571Z"
    }
   },
   "cell_type": "code",
   "source": "convert_pdb_graph_to_glycowork(flex_data_pdb[\"Fuc(a1-2)[GalNAc(a1-3)]Gal(b1-3)GalNAc\"]).__dict__",
   "id": "ee05951913025e7a",
   "outputs": [
    {
     "name": "stdout",
     "output_type": "stream",
     "text": [
      "Differences found between pdb_graph and glycowork_graph:\n",
      "Node Index 1: pdb_graph='-R', glycowork_graph='a1-3'\n",
      "Node Index 2: pdb_graph='GalNAc', glycowork_graph='Fuc'\n",
      "Node Index 3: pdb_graph='Gal', glycowork_graph='a1-2'\n",
      "Node Index 4: pdb_graph='GalNAc', glycowork_graph='Gal'\n",
      "Node Index 5: pdb_graph='Fuc', glycowork_graph='b1-3'\n"
     ]
    },
    {
     "data": {
      "text/plain": [
       "{'graph': {},\n",
       " '_node': {6: {'string_labels': 'GalNAc',\n",
       "   'Mean Score': 2.570391431148164,\n",
       "   'Median Score': 2.5758022993104532,\n",
       "   'Weighted Score': 2.5724899762541984,\n",
       "   'weighted_mean_flexibility': 1.0605134599999986},\n",
       "  0: {'string_labels': 'GalNAc',\n",
       "   'Mean Score': 3.1187803193926813,\n",
       "   'Median Score': 3.120820430573076,\n",
       "   'Weighted Score': 3.145775448013074,\n",
       "   'weighted_mean_flexibility': 1.7962038799999962},\n",
       "  1: {'string_labels': 'a1-3',\n",
       "   'Mean Score': 3.1187803193926813,\n",
       "   'Median Score': 3.120820430573076,\n",
       "   'Weighted Score': 3.145775448013074,\n",
       "   'weighted_mean_flexibility': 1.7962038799999962},\n",
       "  2: {'string_labels': 'Fuc',\n",
       "   'Mean Score': 1.7742241196567192,\n",
       "   'Median Score': 1.7500426049227826,\n",
       "   'Weighted Score': 1.770798686109169,\n",
       "   'weighted_mean_flexibility': 1.7841829199999972},\n",
       "  3: {'string_labels': 'a1-2',\n",
       "   'Mean Score': 1.7742241196567192,\n",
       "   'Median Score': 1.7500426049227826,\n",
       "   'Weighted Score': 1.770798686109169,\n",
       "   'weighted_mean_flexibility': 1.7841829199999972},\n",
       "  4: {'string_labels': 'Gal',\n",
       "   'Mean Score': 1.3651039792224764,\n",
       "   'Median Score': 1.4288511350750923,\n",
       "   'Weighted Score': 1.4280285533756016,\n",
       "   'weighted_mean_flexibility': 0.5045951200000001},\n",
       "  5: {'string_labels': 'b1-3',\n",
       "   'Mean Score': 1.3651039792224764,\n",
       "   'Median Score': 1.4288511350750923,\n",
       "   'Weighted Score': 1.4280285533756016,\n",
       "   'weighted_mean_flexibility': 0.5045951200000001}},\n",
       " '_adj': {6: {4: {}},\n",
       "  0: {1: {}},\n",
       "  1: {0: {}, 4: {}},\n",
       "  2: {3: {}, 5: {}},\n",
       "  3: {2: {}},\n",
       "  4: {5: {}, 6: {}, 1: {}},\n",
       "  5: {4: {}, 2: {}}},\n",
       " '__networkx_cache__': {},\n",
       " 'nodes': NodeView((6, 0, 1, 2, 3, 4, 5))}"
      ]
     },
     "execution_count": 18,
     "metadata": {},
     "output_type": "execute_result"
    }
   ],
   "execution_count": 18
  },
  {
   "metadata": {
    "ExecuteTime": {
     "end_time": "2025-01-13T07:51:41.726781Z",
     "start_time": "2025-01-13T07:51:41.724831Z"
    }
   },
   "cell_type": "code",
   "source": "## test",
   "id": "abea5c7994f2c3e9",
   "outputs": [],
   "execution_count": 14
  },
  {
   "metadata": {
    "ExecuteTime": {
     "end_time": "2025-01-13T13:32:08.217771Z",
     "start_time": "2025-01-13T13:32:08.212365Z"
    }
   },
   "cell_type": "code",
   "source": [
    "def create_glycontact_annotated_graph(glycan):\n",
    "    gw_graph = glycan_to_nxGraph(glycan)\n",
    "    mapper = {}\n",
    "    num_nodes = len(gw_graph)-1\n",
    "    for gwork,gcontact in zip(range(num_nodes,-1,-2),range(2,num_nodes)):\n",
    "        mapper[gcontact] = gwork\n",
    "    try:\n",
    "        flex_score_dict = nx.get_node_attributes(flex_data_pdb[glycan],'weighted_mean_flexibility')\n",
    "    except KeyError:\n",
    "        raise KeyError('This glycan is not present in the flex database')\n",
    "    gw_flex_score_dict = {mapper[gcontact_node]:score for gcontact_node,score in flex_score_dict.items() if gcontact_node in mapper}\n",
    "    nx.set_node_attributes(gw_graph,gw_flex_score_dict,'weighted_mean_flexibility')\n",
    "    return gw_graph\n",
    "\n",
    "create_glycontact_annotated_graph(\"Fuc(a1-2)[Gal(a1-3)]Gal(b1-4)GlcNAc(b1-3)[Fuc(a1-2)[Gal(a1-3)]Gal(b1-4)GlcNAc(b1-6)]GalNAc\").__dict__\n"
   ],
   "id": "8dc6581451fc93a3",
   "outputs": [
    {
     "data": {
      "text/plain": [
       "{'graph': {},\n",
       " '_node': {0: {'string_labels': 'Fuc',\n",
       "   'weighted_mean_flexibility': 19.47464246666666},\n",
       "  1: {'string_labels': 'a1-2'},\n",
       "  2: {'string_labels': 'Gal', 'weighted_mean_flexibility': 18.736587200000002},\n",
       "  3: {'string_labels': 'a1-3'},\n",
       "  4: {'string_labels': 'Gal', 'weighted_mean_flexibility': 13.830288533333333},\n",
       "  5: {'string_labels': 'b1-4'},\n",
       "  6: {'string_labels': 'GlcNAc',\n",
       "   'weighted_mean_flexibility': 11.88888013333333},\n",
       "  7: {'string_labels': 'b1-3'},\n",
       "  8: {'string_labels': 'Fuc', 'weighted_mean_flexibility': 15.140066866666654},\n",
       "  9: {'string_labels': 'a1-2'},\n",
       "  10: {'string_labels': 'Gal',\n",
       "   'weighted_mean_flexibility': 21.699575199999998},\n",
       "  11: {'string_labels': 'a1-3'},\n",
       "  12: {'string_labels': 'Gal',\n",
       "   'weighted_mean_flexibility': 11.780021066666663},\n",
       "  13: {'string_labels': 'b1-4'},\n",
       "  14: {'string_labels': 'GlcNAc',\n",
       "   'weighted_mean_flexibility': 8.039970133333334},\n",
       "  15: {'string_labels': 'b1-6'},\n",
       "  16: {'string_labels': 'GalNAc',\n",
       "   'weighted_mean_flexibility': 6.570423266666676}},\n",
       " '_adj': {0: {1: {}},\n",
       "  1: {0: {}, 4: {}},\n",
       "  2: {3: {}},\n",
       "  3: {2: {}, 4: {}},\n",
       "  4: {1: {}, 3: {}, 5: {}},\n",
       "  5: {4: {}, 6: {}},\n",
       "  6: {5: {}, 7: {}},\n",
       "  7: {6: {}, 16: {}},\n",
       "  8: {9: {}},\n",
       "  9: {8: {}, 12: {}},\n",
       "  10: {11: {}},\n",
       "  11: {10: {}, 12: {}},\n",
       "  12: {9: {}, 11: {}, 13: {}},\n",
       "  13: {12: {}, 14: {}},\n",
       "  14: {13: {}, 15: {}},\n",
       "  15: {14: {}, 16: {}},\n",
       "  16: {7: {}, 15: {}}},\n",
       " '__networkx_cache__': {},\n",
       " 'edges': EdgeView([(0, 1), (1, 4), (2, 3), (3, 4), (4, 5), (5, 6), (6, 7), (7, 16), (8, 9), (9, 12), (10, 11), (11, 12), (12, 13), (13, 14), (14, 15), (15, 16)]),\n",
       " 'nodes': NodeView((0, 1, 2, 3, 4, 5, 6, 7, 8, 9, 10, 11, 12, 13, 14, 15, 16))}"
      ]
     },
     "execution_count": 30,
     "metadata": {},
     "output_type": "execute_result"
    }
   ],
   "execution_count": 30
  },
  {
   "metadata": {
    "ExecuteTime": {
     "end_time": "2025-01-14T09:20:00.288067Z",
     "start_time": "2025-01-14T09:20:00.283840Z"
    }
   },
   "cell_type": "code",
   "source": "flex_data_pdb[\"Fuc(a1-2)Gal(b1-4)[Fuc(a1-3)]GlcNAc(b1-3)[Fuc(a1-3)[Gal(b1-4)]GlcNAc(b1-6)]Gal(b1-4)Glc\"].__dict__",
   "id": "185cd38a3542ba4",
   "outputs": [
    {
     "data": {
      "text/plain": [
       "{'graph': {},\n",
       " '_node': {2: {'Monosaccharide': 'Glc(b1-1)',\n",
       "   'Mean Score': 2.0514767858432608,\n",
       "   'Median Score': 2.244769612327218,\n",
       "   'Weighted Score': 2.128792897366927,\n",
       "   'weighted_mean_flexibility': 12.17857534246575},\n",
       "  1: {'Monosaccharide': '-R',\n",
       "   'Mean Score': 0.46870365738868713,\n",
       "   'Median Score': 0.5194512158632278,\n",
       "   'Weighted Score': 0.492240047726902,\n",
       "   'weighted_mean_flexibility': 21.947800819918005},\n",
       "  4: {'Monosaccharide': 'GlcNAc(b1-6)',\n",
       "   'Mean Score': 1.773262549820356,\n",
       "   'Median Score': 1.6837695762515068,\n",
       "   'Weighted Score': 1.7021496458169612,\n",
       "   'weighted_mean_flexibility': 17.064866673332663},\n",
       "  3: {'Monosaccharide': 'Gal(b1-4)',\n",
       "   'Mean Score': 1.0813572494313122,\n",
       "   'Median Score': 1.0846662780968472,\n",
       "   'Weighted Score': 1.0457681036238264,\n",
       "   'weighted_mean_flexibility': 6.275166123387661},\n",
       "  8: {'Monosaccharide': 'Gal(b1-4)',\n",
       "   'Mean Score': 1.7647929069120436,\n",
       "   'Median Score': 1.7578037350904197,\n",
       "   'Weighted Score': 1.7861381799561076,\n",
       "   'weighted_mean_flexibility': 15.575945445455453},\n",
       "  7: {'Monosaccharide': 'GlcNAc(b1-3)',\n",
       "   'Mean Score': 1.6338292866479605,\n",
       "   'Median Score': 1.6407650627661496,\n",
       "   'Weighted Score': 1.59215364100916,\n",
       "   'weighted_mean_flexibility': 10.98267171282872},\n",
       "  5: {'Monosaccharide': 'Gal(b1-4)',\n",
       "   'Mean Score': 2.1178403232130223,\n",
       "   'Median Score': 2.1259297977085225,\n",
       "   'Weighted Score': 2.1429253625935147,\n",
       "   'weighted_mean_flexibility': 21.138903229677034},\n",
       "  6: {'Monosaccharide': 'Fuc(a1-3)',\n",
       "   'Mean Score': 1.81364550429862,\n",
       "   'Median Score': 1.891440232633613,\n",
       "   'Weighted Score': 1.8669023368021382,\n",
       "   'weighted_mean_flexibility': 22.883701009899013},\n",
       "  10: {'Monosaccharide': 'Fuc(a1-3)',\n",
       "   'Mean Score': 1.8676189828198404,\n",
       "   'Median Score': 1.8176706893136725,\n",
       "   'Weighted Score': 1.9261586474572951,\n",
       "   'weighted_mean_flexibility': 16.641286591340865},\n",
       "  9: {'Monosaccharide': 'Fuc(a1-2)',\n",
       "   'Mean Score': 1.9629103216109798,\n",
       "   'Median Score': 2.0159400925040245,\n",
       "   'Weighted Score': 1.94111501673313,\n",
       "   'weighted_mean_flexibility': 20.127824177582237}},\n",
       " '_adj': {2: {1: {}, 3: {}},\n",
       "  1: {2: {}},\n",
       "  4: {3: {}, 5: {}, 6: {}},\n",
       "  3: {4: {}, 7: {}, 2: {}},\n",
       "  8: {7: {}, 9: {}},\n",
       "  7: {8: {}, 10: {}, 3: {}},\n",
       "  5: {4: {}},\n",
       "  6: {4: {}},\n",
       "  10: {7: {}},\n",
       "  9: {8: {}}},\n",
       " 'nodes': NodeView((2, 1, 4, 3, 8, 7, 5, 6, 10, 9))}"
      ]
     },
     "execution_count": 5,
     "metadata": {},
     "output_type": "execute_result"
    }
   ],
   "execution_count": 5
  },
  {
   "metadata": {},
   "cell_type": "code",
   "outputs": [],
   "execution_count": null,
   "source": "",
   "id": "70eab49aa465ee74"
  }
 ],
 "metadata": {
  "kernelspec": {
   "display_name": "Python 3",
   "language": "python",
   "name": "python3"
  },
  "language_info": {
   "codemirror_mode": {
    "name": "ipython",
    "version": 2
   },
   "file_extension": ".py",
   "mimetype": "text/x-python",
   "name": "python",
   "nbconvert_exporter": "python",
   "pygments_lexer": "ipython2",
   "version": "2.7.6"
  }
 },
 "nbformat": 4,
 "nbformat_minor": 5
}
