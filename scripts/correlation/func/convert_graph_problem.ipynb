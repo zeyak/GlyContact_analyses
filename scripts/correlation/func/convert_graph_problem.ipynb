{
 "cells": [
  {
   "metadata": {},
   "cell_type": "markdown",
   "source": "### How can we convert the pdb graph to glycowork graph?\n",
   "id": "adbf70c152ef10fa"
  },
  {
   "metadata": {
    "ExecuteTime": {
     "end_time": "2025-01-03T11:38:34.648458Z",
     "start_time": "2025-01-03T11:38:30.872224Z"
    }
   },
   "cell_type": "code",
   "source": [
    "from glycowork.motif.draw import GlycoDraw\n",
    "\n",
    "GlycoDraw(\"Fuc(a1-2)[GalNAc(a1-3)]Gal(b1-3)GalNAc\")"
   ],
   "id": "210e31bd69b0506",
   "outputs": [
    {
     "data": {
      "text/plain": [
       "<drawsvg.drawing.Drawing at 0x31818d3a0>"
      ],
      "image/svg+xml": "<?xml version=\"1.0\" encoding=\"UTF-8\"?>\n<svg xmlns=\"http://www.w3.org/2000/svg\" xmlns:xlink=\"http://www.w3.org/1999/xlink\"\n     width=\"300\" height=\"310.0\" viewBox=\"-250.0 -105.0 300 310.0\">\n<defs>\n<path d=\"M-100,0.0 L0,0.0\" stroke-width=\"4.0\" stroke=\"#000000\" id=\"mZhFYD0P0\" />\n<path d=\"M-100,100.0 L-100,0.0\" stroke-width=\"4.0\" stroke=\"#000000\" id=\"mZhFYD0P1\" />\n<path d=\"M-200,0 L-100,0.0\" stroke-width=\"4.0\" stroke=\"#000000\" id=\"mZhFYD0P2\" />\n<path d=\"M-50,25.0 L50,25.0\" stroke-width=\"0\" id=\"mZhFYD0P3\" />\n<path d=\"M-50,0.0 L50,0.0\" stroke-width=\"0\" id=\"mZhFYD0P4\" />\n<path d=\"M-150,25.0 L-50,25.0\" stroke-width=\"0\" id=\"mZhFYD0P5\" />\n<path d=\"M-150,0.0 L-50,0.0\" stroke-width=\"0\" id=\"mZhFYD0P6\" />\n<path d=\"M-150,125.0 L-50,125.0\" stroke-width=\"0\" id=\"mZhFYD0P7\" />\n<path d=\"M-150,100.0 L-50,100.0\" stroke-width=\"0\" id=\"mZhFYD0P8\" />\n<path d=\"M-250,25.0 L-150,25.0\" stroke-width=\"0\" id=\"mZhFYD0P9\" />\n<path d=\"M-250,0 L-150,0\" stroke-width=\"0\" id=\"mZhFYD0P10\" />\n</defs>\n<g transform=\"rotate(0 -100.0 50.0)\">\n<use xlink:href=\"#mZhFYD0P0\" />\n<text font-size=\"20.0\" text-anchor=\"middle\" fill=\"#000000\" valign=\"middle\"><textPath xlink:href=\"#mZhFYD0P0\" startOffset=\"50%\">\n<tspan dy=\"-0.5em\">β 3</tspan>\n</textPath></text>\n<use xlink:href=\"#mZhFYD0P1\" />\n<text font-size=\"20.0\" text-anchor=\"middle\" fill=\"#000000\" valign=\"middle\"><textPath xlink:href=\"#mZhFYD0P1\" startOffset=\"50%\">\n<tspan dy=\"-0.5em\">α 2</tspan>\n</textPath></text>\n<use xlink:href=\"#mZhFYD0P2\" />\n<text font-size=\"20.0\" text-anchor=\"middle\" fill=\"#000000\" valign=\"middle\"><textPath xlink:href=\"#mZhFYD0P2\" startOffset=\"50%\">\n<tspan dy=\"-0.5em\">α 3</tspan>\n</textPath></text>\n<rect x=\"-25.0\" y=\"-25.0\" width=\"50\" height=\"50\" fill=\"#FCC326\" stroke-width=\"2.0\" stroke=\"#000000\" />\n<use xlink:href=\"#mZhFYD0P3\" />\n<text font-size=\"17.5\" fill=\"#000000\" text-anchor=\"middle\"><textPath xlink:href=\"#mZhFYD0P3\" startOffset=\"50%\"></textPath></text>\n<use xlink:href=\"#mZhFYD0P4\" />\n<text font-size=\"15.0\" fill=\"#000000\" text-anchor=\"middle\"><textPath xlink:href=\"#mZhFYD0P4\" startOffset=\"50%\"></textPath></text>\n<circle cx=\"-100\" cy=\"0.0\" r=\"25.0\" fill=\"#FCC326\" stroke-width=\"2.0\" stroke=\"#000000\" />\n<use xlink:href=\"#mZhFYD0P5\" />\n<text font-size=\"17.5\" fill=\"#000000\" text-anchor=\"middle\"><textPath xlink:href=\"#mZhFYD0P5\" startOffset=\"50%\"></textPath></text>\n<use xlink:href=\"#mZhFYD0P6\" />\n<text font-size=\"15.0\" fill=\"#000000\" text-anchor=\"middle\"><textPath xlink:href=\"#mZhFYD0P6\" startOffset=\"50%\"></textPath></text>\n<path d=\"M-125.0,121.65063509461096 L-100,78.34936490538904 L-75.0,121.65063509461096 Z\" fill=\"#C23537\" stroke=\"#000000\" stroke-width=\"2.0\" />\n<use xlink:href=\"#mZhFYD0P7\" />\n<text font-size=\"17.5\" text-anchor=\"middle\"><textPath xlink:href=\"#mZhFYD0P7\" startOffset=\"50%\"></textPath></text>\n<use xlink:href=\"#mZhFYD0P8\" />\n<text font-size=\"15.0\" fill=\"#000000\" text-anchor=\"middle\"><textPath xlink:href=\"#mZhFYD0P8\" startOffset=\"50%\"></textPath></text>\n<rect x=\"-225.0\" y=\"-25.0\" width=\"50\" height=\"50\" fill=\"#FCC326\" stroke-width=\"2.0\" stroke=\"#000000\" />\n<use xlink:href=\"#mZhFYD0P9\" />\n<text font-size=\"17.5\" fill=\"#000000\" text-anchor=\"middle\"><textPath xlink:href=\"#mZhFYD0P9\" startOffset=\"50%\"></textPath></text>\n<use xlink:href=\"#mZhFYD0P10\" />\n<text font-size=\"15.0\" fill=\"#000000\" text-anchor=\"middle\"><textPath xlink:href=\"#mZhFYD0P10\" startOffset=\"50%\"></textPath></text>\n</g>\n</svg>"
     },
     "execution_count": 2,
     "metadata": {},
     "output_type": "execute_result"
    }
   ],
   "execution_count": 2
  },
  {
   "metadata": {},
   "cell_type": "markdown",
   "source": "## Glycowork graph",
   "id": "20e290e0eb74c3bc"
  },
  {
   "metadata": {
    "ExecuteTime": {
     "end_time": "2025-01-03T11:38:11.081454Z",
     "start_time": "2025-01-03T11:38:08.746323Z"
    }
   },
   "cell_type": "code",
   "source": [
    "from glycowork.motif.graph import  glycan_to_nxGraph\n",
    "\n",
    "glycan_to_nxGraph('Fuc(a1-2)[GalNAc(a1-3)]Gal(b1-3)GalNAc').__dict__\n"
   ],
   "id": "9e19919ba793b156",
   "outputs": [
    {
     "data": {
      "text/plain": [
       "{'graph': {},\n",
       " '_node': {0: {'string_labels': 'Fuc'},\n",
       "  1: {'string_labels': 'a1-2'},\n",
       "  2: {'string_labels': 'GalNAc'},\n",
       "  3: {'string_labels': 'a1-3'},\n",
       "  4: {'string_labels': 'Gal'},\n",
       "  5: {'string_labels': 'b1-3'},\n",
       "  6: {'string_labels': 'GalNAc'}},\n",
       " '_adj': {0: {1: {}},\n",
       "  1: {0: {}, 4: {}},\n",
       "  2: {3: {}},\n",
       "  3: {2: {}, 4: {}},\n",
       "  4: {1: {}, 3: {}, 5: {}},\n",
       "  5: {4: {}, 6: {}},\n",
       "  6: {5: {}}},\n",
       " '__networkx_cache__': {},\n",
       " 'edges': EdgeView([(0, 1), (1, 4), (2, 3), (3, 4), (4, 5), (5, 6)]),\n",
       " 'nodes': NodeView((0, 1, 2, 3, 4, 5, 6))}"
      ]
     },
     "execution_count": 1,
     "metadata": {},
     "output_type": "execute_result"
    }
   ],
   "execution_count": 1
  },
  {
   "metadata": {},
   "cell_type": "markdown",
   "source": "## PDB graph",
   "id": "8d67fb6d806deab8"
  },
  {
   "metadata": {
    "ExecuteTime": {
     "end_time": "2025-01-03T11:46:16.462515Z",
     "start_time": "2025-01-03T11:46:16.454654Z"
    }
   },
   "cell_type": "code",
   "source": [
    "import pickle\n",
    "def load_data_pdb():\n",
    "    flex_data_path = '/data/glycan_graphs.pkl'\n",
    "\n",
    "    \"\"\"Load glycan flexibility data and binding data.\"\"\"\n",
    "    with open(flex_data_path, 'rb') as file:\n",
    "        flex_data = pickle.load(file)\n",
    "    return flex_data\n",
    "\n",
    "flex_data_pdb=  load_data_pdb()\n",
    "\n",
    "flex_data_pdb[\"Fuc(a1-2)[GalNAc(a1-3)]Gal(b1-3)GalNAc\"].__dict__"
   ],
   "id": "1ddcd7fb9348df3d",
   "outputs": [
    {
     "data": {
      "text/plain": [
       "{'graph': {},\n",
       " '_node': {5: {'Monosaccharide': 'Fuc(a1-2)',\n",
       "   'Mean Score': 1.7742241196567192,\n",
       "   'Median Score': 1.7500426049227826,\n",
       "   'Weighted Score': 1.770798686109169,\n",
       "   'weighted_mean_flexibility': 1.7841829199999972},\n",
       "  3: {'Monosaccharide': 'Gal(b1-3)',\n",
       "   'Mean Score': 1.3651039792224764,\n",
       "   'Median Score': 1.4288511350750923,\n",
       "   'Weighted Score': 1.4280285533756016,\n",
       "   'weighted_mean_flexibility': 0.5045951200000001},\n",
       "  2: {'Monosaccharide': 'GalNAc(b1-1)',\n",
       "   'Mean Score': 2.570391431148164,\n",
       "   'Median Score': 2.5758022993104532,\n",
       "   'Weighted Score': 2.5724899762541984,\n",
       "   'weighted_mean_flexibility': 1.0605134599999986},\n",
       "  1: {'Monosaccharide': '-R',\n",
       "   'Mean Score': 0.4371745139360428,\n",
       "   'Median Score': 0.4432986080646515,\n",
       "   'Weighted Score': 0.4489135126680136,\n",
       "   'weighted_mean_flexibility': 1.9624109399999994},\n",
       "  4: {'Monosaccharide': 'GalNAc(a1-3)',\n",
       "   'Mean Score': 3.1187803193926813,\n",
       "   'Median Score': 3.120820430573076,\n",
       "   'Weighted Score': 3.145775448013074,\n",
       "   'weighted_mean_flexibility': 1.7962038799999962}},\n",
       " '_adj': {5: {3: {}},\n",
       "  3: {5: {}, 2: {}, 4: {}},\n",
       "  2: {3: {}, 1: {}},\n",
       "  1: {2: {}},\n",
       "  4: {3: {}}},\n",
       " 'nodes': NodeView((5, 3, 2, 1, 4))}"
      ]
     },
     "execution_count": 8,
     "metadata": {},
     "output_type": "execute_result"
    }
   ],
   "execution_count": 8
  },
  {
   "metadata": {},
   "cell_type": "markdown",
   "source": "## Convert pdb graph to glycowork graph",
   "id": "931eca3c00d9d64b"
  },
  {
   "metadata": {
    "ExecuteTime": {
     "end_time": "2025-01-03T11:45:30.010510Z",
     "start_time": "2025-01-03T11:45:30.006051Z"
    }
   },
   "cell_type": "code",
   "source": [
    "import networkx as nx\n",
    "\n",
    "def convert_pdb_graph_to_glycowork(g):\n",
    "    \"\"\"\n",
    "    Converts a PDB-format graph to glycowork format.\n",
    "    Args:\n",
    "        g (nx.Graph): Input graph in PDB format with Monosaccharide and score attributes\n",
    "    Returns:\n",
    "        nx.Graph: Converted graph in glycowork format with monosaccharide/linkage split into separate nodes\n",
    "    \"\"\"\n",
    "    new_g = nx.Graph()\n",
    "\n",
    "    # Find reducing end (node connected to -R node 1)\n",
    "    reducing_end = None\n",
    "    for n in g.neighbors(1):\n",
    "        reducing_end = n\n",
    "        break\n",
    "\n",
    "    if reducing_end is None:\n",
    "        raise ValueError(\"Could not find reducing end (node connected to -R)\")\n",
    "\n",
    "    # Get node list in DFS order starting from reducing end (excluding -R node)\n",
    "    nodes = [n for n in nx.dfs_preorder_nodes(g, reducing_end) if n != 1]\n",
    "\n",
    "    # Create mapping dict\n",
    "    mapping = {}\n",
    "    mapping[1] = []  # -R maps to nothing\n",
    "\n",
    "    # Calculate highest node number\n",
    "    max_num = 2 * (len(g.nodes) - 2)\n",
    "\n",
    "    # Map reducing end to highest number\n",
    "    mapping[reducing_end] = [max_num]\n",
    "\n",
    "    # Map rest of nodes in reverse order\n",
    "    curr_num = 0\n",
    "    for node in reversed(nodes[1:]):  # Skip reducing end\n",
    "        mapping[node] = [curr_num, curr_num + 1]\n",
    "        curr_num += 2\n",
    "\n",
    "    # Create nodes in new graph\n",
    "    for old_node, new_nodes in mapping.items():\n",
    "        if not new_nodes:  # Skip -R\n",
    "            continue\n",
    "\n",
    "        # Get numerical attributes\n",
    "        attrs = {k: v for k, v in g.nodes[old_node].items()\n",
    "                if k not in ['Monosaccharide', 'string_labels']}\n",
    "        mono_link = g.nodes[old_node]['Monosaccharide']\n",
    "\n",
    "        if len(new_nodes) == 1:  # Reducing end\n",
    "            mono = mono_link.split('(')[0]\n",
    "            new_g.add_node(new_nodes[0], string_labels=mono, **attrs)\n",
    "        else:  # Normal nodes\n",
    "            mono = mono_link.split('(')[0]\n",
    "            link = mono_link.split('(')[1][:-1]\n",
    "\n",
    "            new_g.add_node(new_nodes[0], string_labels=mono, **attrs)\n",
    "            new_g.add_node(new_nodes[1], string_labels=link, **attrs)\n",
    "            new_g.add_edge(new_nodes[0], new_nodes[1])\n",
    "\n",
    "    # Add edges between components\n",
    "    for old_u, old_v in g.edges():\n",
    "        new_u = mapping.get(old_u, [])\n",
    "        new_v = mapping.get(old_v, [])\n",
    "\n",
    "        if not new_u or not new_v:  # Skip if either is -R\n",
    "            continue\n",
    "\n",
    "        if len(new_u) == 1:  # u is reducing end\n",
    "            u_node = new_u[0]\n",
    "        else:\n",
    "            u_node = new_u[0]  # Use monosaccharide node\n",
    "\n",
    "        if len(new_v) == 1:  # v is reducing end\n",
    "            v_node = new_v[0]\n",
    "        else:\n",
    "            v_node = new_v[1]  # Use linkage node\n",
    "\n",
    "        new_g.add_edge(u_node, v_node)\n",
    "\n",
    "    return new_g"
   ],
   "id": "899fd7887d7312b5",
   "outputs": [],
   "execution_count": 5
  },
  {
   "metadata": {
    "ExecuteTime": {
     "end_time": "2025-01-03T11:47:41.110632Z",
     "start_time": "2025-01-03T11:47:41.107857Z"
    }
   },
   "cell_type": "code",
   "source": "convert_pdb_graph_to_glycowork(flex_data_pdb[\"Fuc(a1-2)[GalNAc(a1-3)]Gal(b1-3)GalNAc\"]).__dict__",
   "id": "ee05951913025e7a",
   "outputs": [
    {
     "data": {
      "text/plain": [
       "{'graph': {},\n",
       " '_node': {6: {'string_labels': 'GalNAc',\n",
       "   'Mean Score': 2.570391431148164,\n",
       "   'Median Score': 2.5758022993104532,\n",
       "   'Weighted Score': 2.5724899762541984,\n",
       "   'weighted_mean_flexibility': 1.0605134599999986},\n",
       "  0: {'string_labels': 'GalNAc',\n",
       "   'Mean Score': 3.1187803193926813,\n",
       "   'Median Score': 3.120820430573076,\n",
       "   'Weighted Score': 3.145775448013074,\n",
       "   'weighted_mean_flexibility': 1.7962038799999962},\n",
       "  1: {'string_labels': 'a1-3',\n",
       "   'Mean Score': 3.1187803193926813,\n",
       "   'Median Score': 3.120820430573076,\n",
       "   'Weighted Score': 3.145775448013074,\n",
       "   'weighted_mean_flexibility': 1.7962038799999962},\n",
       "  2: {'string_labels': 'Fuc',\n",
       "   'Mean Score': 1.7742241196567192,\n",
       "   'Median Score': 1.7500426049227826,\n",
       "   'Weighted Score': 1.770798686109169,\n",
       "   'weighted_mean_flexibility': 1.7841829199999972},\n",
       "  3: {'string_labels': 'a1-2',\n",
       "   'Mean Score': 1.7742241196567192,\n",
       "   'Median Score': 1.7500426049227826,\n",
       "   'Weighted Score': 1.770798686109169,\n",
       "   'weighted_mean_flexibility': 1.7841829199999972},\n",
       "  4: {'string_labels': 'Gal',\n",
       "   'Mean Score': 1.3651039792224764,\n",
       "   'Median Score': 1.4288511350750923,\n",
       "   'Weighted Score': 1.4280285533756016,\n",
       "   'weighted_mean_flexibility': 0.5045951200000001},\n",
       "  5: {'string_labels': 'b1-3',\n",
       "   'Mean Score': 1.3651039792224764,\n",
       "   'Median Score': 1.4288511350750923,\n",
       "   'Weighted Score': 1.4280285533756016,\n",
       "   'weighted_mean_flexibility': 0.5045951200000001}},\n",
       " '_adj': {6: {4: {}},\n",
       "  0: {1: {}},\n",
       "  1: {0: {}, 4: {}},\n",
       "  2: {3: {}, 5: {}},\n",
       "  3: {2: {}},\n",
       "  4: {5: {}, 6: {}, 1: {}},\n",
       "  5: {4: {}, 2: {}}},\n",
       " '__networkx_cache__': {}}"
      ]
     },
     "execution_count": 9,
     "metadata": {},
     "output_type": "execute_result"
    }
   ],
   "execution_count": 9
  },
  {
   "metadata": {},
   "cell_type": "code",
   "outputs": [],
   "execution_count": null,
   "source": "",
   "id": "abea5c7994f2c3e9"
  }
 ],
 "metadata": {
  "kernelspec": {
   "display_name": "Python 3",
   "language": "python",
   "name": "python3"
  },
  "language_info": {
   "codemirror_mode": {
    "name": "ipython",
    "version": 2
   },
   "file_extension": ".py",
   "mimetype": "text/x-python",
   "name": "python",
   "nbconvert_exporter": "python",
   "pygments_lexer": "ipython2",
   "version": "2.7.6"
  }
 },
 "nbformat": 4,
 "nbformat_minor": 5
}
